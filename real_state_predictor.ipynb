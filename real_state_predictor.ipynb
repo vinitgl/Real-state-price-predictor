{
 "cells": [
  {
   "cell_type": "code",
   "execution_count": 1,
   "metadata": {},
   "outputs": [],
   "source": [
    "import numpy as np\n",
    "import pandas as pd\n",
    "import seaborn as sns\n",
    "import matplotlib.pyplot as plt\n",
    "%matplotlib inline\n",
    "\n",
    "import warnings\n",
    "warnings.filterwarnings(\"ignore\")"
   ]
  },
  {
   "cell_type": "code",
   "execution_count": 2,
   "metadata": {},
   "outputs": [],
   "source": [
    "df=pd.read_csv('data.csv')"
   ]
  },
  {
   "cell_type": "code",
   "execution_count": 3,
   "metadata": {},
   "outputs": [
    {
     "data": {
      "text/plain": [
       "(1883, 26)"
      ]
     },
     "execution_count": 3,
     "metadata": {},
     "output_type": "execute_result"
    }
   ],
   "source": [
    "df.shape"
   ]
  },
  {
   "cell_type": "code",
   "execution_count": 4,
   "metadata": {},
   "outputs": [
    {
     "data": {
      "text/plain": [
       "Index(['tx_price', 'beds', 'baths', 'sqft', 'year_built', 'lot_size',\n",
       "       'property_type', 'exterior_walls', 'roof', 'basement', 'restaurants',\n",
       "       'groceries', 'nightlife', 'cafes', 'shopping', 'arts_entertainment',\n",
       "       'beauty_spas', 'active_life', 'median_age', 'married', 'college_grad',\n",
       "       'property_tax', 'insurance', 'median_school', 'num_schools', 'tx_year'],\n",
       "      dtype='object')"
      ]
     },
     "execution_count": 4,
     "metadata": {},
     "output_type": "execute_result"
    }
   ],
   "source": [
    "df.columns"
   ]
  },
  {
   "cell_type": "code",
   "execution_count": 5,
   "metadata": {},
   "outputs": [
    {
     "data": {
      "text/html": [
       "<div>\n",
       "<style scoped>\n",
       "    .dataframe tbody tr th:only-of-type {\n",
       "        vertical-align: middle;\n",
       "    }\n",
       "\n",
       "    .dataframe tbody tr th {\n",
       "        vertical-align: top;\n",
       "    }\n",
       "\n",
       "    .dataframe thead th {\n",
       "        text-align: right;\n",
       "    }\n",
       "</style>\n",
       "<table border=\"1\" class=\"dataframe\">\n",
       "  <thead>\n",
       "    <tr style=\"text-align: right;\">\n",
       "      <th></th>\n",
       "      <th>tx_price</th>\n",
       "      <th>beds</th>\n",
       "      <th>baths</th>\n",
       "      <th>sqft</th>\n",
       "      <th>year_built</th>\n",
       "      <th>lot_size</th>\n",
       "      <th>property_type</th>\n",
       "      <th>exterior_walls</th>\n",
       "      <th>roof</th>\n",
       "      <th>basement</th>\n",
       "      <th>...</th>\n",
       "      <th>beauty_spas</th>\n",
       "      <th>active_life</th>\n",
       "      <th>median_age</th>\n",
       "      <th>married</th>\n",
       "      <th>college_grad</th>\n",
       "      <th>property_tax</th>\n",
       "      <th>insurance</th>\n",
       "      <th>median_school</th>\n",
       "      <th>num_schools</th>\n",
       "      <th>tx_year</th>\n",
       "    </tr>\n",
       "  </thead>\n",
       "  <tbody>\n",
       "    <tr>\n",
       "      <th>0</th>\n",
       "      <td>295850</td>\n",
       "      <td>1</td>\n",
       "      <td>1</td>\n",
       "      <td>584</td>\n",
       "      <td>2013</td>\n",
       "      <td>0</td>\n",
       "      <td>Apartment / Condo / Townhouse</td>\n",
       "      <td>Wood Siding</td>\n",
       "      <td>NaN</td>\n",
       "      <td>NaN</td>\n",
       "      <td>...</td>\n",
       "      <td>47</td>\n",
       "      <td>58</td>\n",
       "      <td>33</td>\n",
       "      <td>65</td>\n",
       "      <td>84</td>\n",
       "      <td>234</td>\n",
       "      <td>81</td>\n",
       "      <td>9.0</td>\n",
       "      <td>3</td>\n",
       "      <td>2013</td>\n",
       "    </tr>\n",
       "    <tr>\n",
       "      <th>1</th>\n",
       "      <td>216500</td>\n",
       "      <td>1</td>\n",
       "      <td>1</td>\n",
       "      <td>612</td>\n",
       "      <td>1965</td>\n",
       "      <td>0</td>\n",
       "      <td>Apartment / Condo / Townhouse</td>\n",
       "      <td>Brick</td>\n",
       "      <td>Composition Shingle</td>\n",
       "      <td>1.0</td>\n",
       "      <td>...</td>\n",
       "      <td>26</td>\n",
       "      <td>14</td>\n",
       "      <td>39</td>\n",
       "      <td>73</td>\n",
       "      <td>69</td>\n",
       "      <td>169</td>\n",
       "      <td>51</td>\n",
       "      <td>3.0</td>\n",
       "      <td>3</td>\n",
       "      <td>2006</td>\n",
       "    </tr>\n",
       "    <tr>\n",
       "      <th>2</th>\n",
       "      <td>279900</td>\n",
       "      <td>1</td>\n",
       "      <td>1</td>\n",
       "      <td>615</td>\n",
       "      <td>1963</td>\n",
       "      <td>0</td>\n",
       "      <td>Apartment / Condo / Townhouse</td>\n",
       "      <td>Wood Siding</td>\n",
       "      <td>NaN</td>\n",
       "      <td>NaN</td>\n",
       "      <td>...</td>\n",
       "      <td>74</td>\n",
       "      <td>62</td>\n",
       "      <td>28</td>\n",
       "      <td>15</td>\n",
       "      <td>86</td>\n",
       "      <td>216</td>\n",
       "      <td>74</td>\n",
       "      <td>8.0</td>\n",
       "      <td>3</td>\n",
       "      <td>2012</td>\n",
       "    </tr>\n",
       "    <tr>\n",
       "      <th>3</th>\n",
       "      <td>379900</td>\n",
       "      <td>1</td>\n",
       "      <td>1</td>\n",
       "      <td>618</td>\n",
       "      <td>2000</td>\n",
       "      <td>33541</td>\n",
       "      <td>Apartment / Condo / Townhouse</td>\n",
       "      <td>Wood Siding</td>\n",
       "      <td>NaN</td>\n",
       "      <td>NaN</td>\n",
       "      <td>...</td>\n",
       "      <td>72</td>\n",
       "      <td>83</td>\n",
       "      <td>36</td>\n",
       "      <td>25</td>\n",
       "      <td>91</td>\n",
       "      <td>265</td>\n",
       "      <td>92</td>\n",
       "      <td>9.0</td>\n",
       "      <td>3</td>\n",
       "      <td>2005</td>\n",
       "    </tr>\n",
       "    <tr>\n",
       "      <th>4</th>\n",
       "      <td>340000</td>\n",
       "      <td>1</td>\n",
       "      <td>1</td>\n",
       "      <td>634</td>\n",
       "      <td>1992</td>\n",
       "      <td>0</td>\n",
       "      <td>Apartment / Condo / Townhouse</td>\n",
       "      <td>Brick</td>\n",
       "      <td>NaN</td>\n",
       "      <td>NaN</td>\n",
       "      <td>...</td>\n",
       "      <td>50</td>\n",
       "      <td>73</td>\n",
       "      <td>37</td>\n",
       "      <td>20</td>\n",
       "      <td>75</td>\n",
       "      <td>88</td>\n",
       "      <td>30</td>\n",
       "      <td>9.0</td>\n",
       "      <td>3</td>\n",
       "      <td>2002</td>\n",
       "    </tr>\n",
       "  </tbody>\n",
       "</table>\n",
       "<p>5 rows × 26 columns</p>\n",
       "</div>"
      ],
      "text/plain": [
       "   tx_price  beds  baths  sqft  year_built  lot_size  \\\n",
       "0    295850     1      1   584        2013         0   \n",
       "1    216500     1      1   612        1965         0   \n",
       "2    279900     1      1   615        1963         0   \n",
       "3    379900     1      1   618        2000     33541   \n",
       "4    340000     1      1   634        1992         0   \n",
       "\n",
       "                   property_type exterior_walls                 roof  \\\n",
       "0  Apartment / Condo / Townhouse    Wood Siding                  NaN   \n",
       "1  Apartment / Condo / Townhouse          Brick  Composition Shingle   \n",
       "2  Apartment / Condo / Townhouse    Wood Siding                  NaN   \n",
       "3  Apartment / Condo / Townhouse    Wood Siding                  NaN   \n",
       "4  Apartment / Condo / Townhouse          Brick                  NaN   \n",
       "\n",
       "   basement   ...     beauty_spas  active_life  median_age  married  \\\n",
       "0       NaN   ...              47           58          33       65   \n",
       "1       1.0   ...              26           14          39       73   \n",
       "2       NaN   ...              74           62          28       15   \n",
       "3       NaN   ...              72           83          36       25   \n",
       "4       NaN   ...              50           73          37       20   \n",
       "\n",
       "   college_grad  property_tax  insurance  median_school  num_schools  tx_year  \n",
       "0            84           234         81            9.0            3     2013  \n",
       "1            69           169         51            3.0            3     2006  \n",
       "2            86           216         74            8.0            3     2012  \n",
       "3            91           265         92            9.0            3     2005  \n",
       "4            75            88         30            9.0            3     2002  \n",
       "\n",
       "[5 rows x 26 columns]"
      ]
     },
     "execution_count": 5,
     "metadata": {},
     "output_type": "execute_result"
    }
   ],
   "source": [
    "df.head()"
   ]
  },
  {
   "cell_type": "code",
   "execution_count": 60,
   "metadata": {},
   "outputs": [
    {
     "data": {
      "text/html": [
       "<div>\n",
       "<style scoped>\n",
       "    .dataframe tbody tr th:only-of-type {\n",
       "        vertical-align: middle;\n",
       "    }\n",
       "\n",
       "    .dataframe tbody tr th {\n",
       "        vertical-align: top;\n",
       "    }\n",
       "\n",
       "    .dataframe thead th {\n",
       "        text-align: right;\n",
       "    }\n",
       "</style>\n",
       "<table border=\"1\" class=\"dataframe\">\n",
       "  <thead>\n",
       "    <tr style=\"text-align: right;\">\n",
       "      <th></th>\n",
       "      <th>tx_price</th>\n",
       "      <th>beds</th>\n",
       "      <th>baths</th>\n",
       "      <th>sqft</th>\n",
       "      <th>year_built</th>\n",
       "      <th>lot_size</th>\n",
       "      <th>property_type</th>\n",
       "      <th>exterior_walls</th>\n",
       "      <th>roof</th>\n",
       "      <th>basement</th>\n",
       "      <th>...</th>\n",
       "      <th>beauty_spas</th>\n",
       "      <th>active_life</th>\n",
       "      <th>median_age</th>\n",
       "      <th>married</th>\n",
       "      <th>college_grad</th>\n",
       "      <th>property_tax</th>\n",
       "      <th>insurance</th>\n",
       "      <th>median_school</th>\n",
       "      <th>num_schools</th>\n",
       "      <th>tx_year</th>\n",
       "    </tr>\n",
       "  </thead>\n",
       "  <tbody>\n",
       "    <tr>\n",
       "      <th>30</th>\n",
       "      <td>235000</td>\n",
       "      <td>1</td>\n",
       "      <td>1</td>\n",
       "      <td>723</td>\n",
       "      <td>2005</td>\n",
       "      <td>0</td>\n",
       "      <td>Apartment / Condo / Townhouse</td>\n",
       "      <td>Stucco</td>\n",
       "      <td>Other</td>\n",
       "      <td>1.0</td>\n",
       "      <td>...</td>\n",
       "      <td>47</td>\n",
       "      <td>34</td>\n",
       "      <td>31</td>\n",
       "      <td>30</td>\n",
       "      <td>99</td>\n",
       "      <td>278</td>\n",
       "      <td>85</td>\n",
       "      <td>8.0</td>\n",
       "      <td>3</td>\n",
       "      <td>2009</td>\n",
       "    </tr>\n",
       "    <tr>\n",
       "      <th>31</th>\n",
       "      <td>225000</td>\n",
       "      <td>1</td>\n",
       "      <td>1</td>\n",
       "      <td>724</td>\n",
       "      <td>1958</td>\n",
       "      <td>0</td>\n",
       "      <td>Apartment / Condo / Townhouse</td>\n",
       "      <td>Brick</td>\n",
       "      <td>NaN</td>\n",
       "      <td>NaN</td>\n",
       "      <td>...</td>\n",
       "      <td>69</td>\n",
       "      <td>36</td>\n",
       "      <td>57</td>\n",
       "      <td>13</td>\n",
       "      <td>83</td>\n",
       "      <td>118</td>\n",
       "      <td>41</td>\n",
       "      <td>6.0</td>\n",
       "      <td>3</td>\n",
       "      <td>2009</td>\n",
       "    </tr>\n",
       "    <tr>\n",
       "      <th>32</th>\n",
       "      <td>370000</td>\n",
       "      <td>1</td>\n",
       "      <td>1</td>\n",
       "      <td>725</td>\n",
       "      <td>2006</td>\n",
       "      <td>0</td>\n",
       "      <td>Apartment / Condo / Townhouse</td>\n",
       "      <td>Wood Siding</td>\n",
       "      <td>NaN</td>\n",
       "      <td>NaN</td>\n",
       "      <td>...</td>\n",
       "      <td>72</td>\n",
       "      <td>83</td>\n",
       "      <td>36</td>\n",
       "      <td>25</td>\n",
       "      <td>91</td>\n",
       "      <td>306</td>\n",
       "      <td>106</td>\n",
       "      <td>9.0</td>\n",
       "      <td>3</td>\n",
       "      <td>2011</td>\n",
       "    </tr>\n",
       "    <tr>\n",
       "      <th>33</th>\n",
       "      <td>232000</td>\n",
       "      <td>1</td>\n",
       "      <td>1</td>\n",
       "      <td>736</td>\n",
       "      <td>1998</td>\n",
       "      <td>0</td>\n",
       "      <td>Apartment / Condo / Townhouse</td>\n",
       "      <td>Brick</td>\n",
       "      <td>Composition Shingle</td>\n",
       "      <td>1.0</td>\n",
       "      <td>...</td>\n",
       "      <td>14</td>\n",
       "      <td>11</td>\n",
       "      <td>36</td>\n",
       "      <td>47</td>\n",
       "      <td>83</td>\n",
       "      <td>243</td>\n",
       "      <td>74</td>\n",
       "      <td>8.0</td>\n",
       "      <td>3</td>\n",
       "      <td>2008</td>\n",
       "    </tr>\n",
       "    <tr>\n",
       "      <th>34</th>\n",
       "      <td>281900</td>\n",
       "      <td>1</td>\n",
       "      <td>1</td>\n",
       "      <td>737</td>\n",
       "      <td>2000</td>\n",
       "      <td>0</td>\n",
       "      <td>Apartment / Condo / Townhouse</td>\n",
       "      <td>Brick</td>\n",
       "      <td>NaN</td>\n",
       "      <td>1.0</td>\n",
       "      <td>...</td>\n",
       "      <td>38</td>\n",
       "      <td>31</td>\n",
       "      <td>32</td>\n",
       "      <td>34</td>\n",
       "      <td>50</td>\n",
       "      <td>229</td>\n",
       "      <td>69</td>\n",
       "      <td>4.0</td>\n",
       "      <td>3</td>\n",
       "      <td>2005</td>\n",
       "    </tr>\n",
       "    <tr>\n",
       "      <th>35</th>\n",
       "      <td>355000</td>\n",
       "      <td>1</td>\n",
       "      <td>1</td>\n",
       "      <td>740</td>\n",
       "      <td>2000</td>\n",
       "      <td>0</td>\n",
       "      <td>Apartment / Condo / Townhouse</td>\n",
       "      <td>Brick</td>\n",
       "      <td>NaN</td>\n",
       "      <td>NaN</td>\n",
       "      <td>...</td>\n",
       "      <td>73</td>\n",
       "      <td>85</td>\n",
       "      <td>36</td>\n",
       "      <td>25</td>\n",
       "      <td>91</td>\n",
       "      <td>298</td>\n",
       "      <td>103</td>\n",
       "      <td>9.0</td>\n",
       "      <td>3</td>\n",
       "      <td>2006</td>\n",
       "    </tr>\n",
       "    <tr>\n",
       "      <th>36</th>\n",
       "      <td>350000</td>\n",
       "      <td>1</td>\n",
       "      <td>1</td>\n",
       "      <td>741</td>\n",
       "      <td>2006</td>\n",
       "      <td>0</td>\n",
       "      <td>Apartment / Condo / Townhouse</td>\n",
       "      <td>Wood Siding</td>\n",
       "      <td>NaN</td>\n",
       "      <td>NaN</td>\n",
       "      <td>...</td>\n",
       "      <td>72</td>\n",
       "      <td>83</td>\n",
       "      <td>36</td>\n",
       "      <td>25</td>\n",
       "      <td>91</td>\n",
       "      <td>291</td>\n",
       "      <td>101</td>\n",
       "      <td>9.0</td>\n",
       "      <td>3</td>\n",
       "      <td>2009</td>\n",
       "    </tr>\n",
       "    <tr>\n",
       "      <th>37</th>\n",
       "      <td>231900</td>\n",
       "      <td>1</td>\n",
       "      <td>1</td>\n",
       "      <td>750</td>\n",
       "      <td>1964</td>\n",
       "      <td>0</td>\n",
       "      <td>Apartment / Condo / Townhouse</td>\n",
       "      <td>Brick</td>\n",
       "      <td>NaN</td>\n",
       "      <td>NaN</td>\n",
       "      <td>...</td>\n",
       "      <td>81</td>\n",
       "      <td>28</td>\n",
       "      <td>35</td>\n",
       "      <td>63</td>\n",
       "      <td>70</td>\n",
       "      <td>118</td>\n",
       "      <td>41</td>\n",
       "      <td>7.0</td>\n",
       "      <td>3</td>\n",
       "      <td>2005</td>\n",
       "    </tr>\n",
       "    <tr>\n",
       "      <th>38</th>\n",
       "      <td>284000</td>\n",
       "      <td>1</td>\n",
       "      <td>1</td>\n",
       "      <td>755</td>\n",
       "      <td>1996</td>\n",
       "      <td>0</td>\n",
       "      <td>Apartment / Condo / Townhouse</td>\n",
       "      <td>Brick</td>\n",
       "      <td>Composition Shingle</td>\n",
       "      <td>1.0</td>\n",
       "      <td>...</td>\n",
       "      <td>31</td>\n",
       "      <td>16</td>\n",
       "      <td>40</td>\n",
       "      <td>64</td>\n",
       "      <td>77</td>\n",
       "      <td>258</td>\n",
       "      <td>78</td>\n",
       "      <td>10.0</td>\n",
       "      <td>3</td>\n",
       "      <td>2012</td>\n",
       "    </tr>\n",
       "    <tr>\n",
       "      <th>39</th>\n",
       "      <td>255000</td>\n",
       "      <td>1</td>\n",
       "      <td>1</td>\n",
       "      <td>759</td>\n",
       "      <td>1959</td>\n",
       "      <td>0</td>\n",
       "      <td>Apartment / Condo / Townhouse</td>\n",
       "      <td>Brick</td>\n",
       "      <td>NaN</td>\n",
       "      <td>NaN</td>\n",
       "      <td>...</td>\n",
       "      <td>73</td>\n",
       "      <td>74</td>\n",
       "      <td>31</td>\n",
       "      <td>23</td>\n",
       "      <td>81</td>\n",
       "      <td>190</td>\n",
       "      <td>66</td>\n",
       "      <td>9.0</td>\n",
       "      <td>3</td>\n",
       "      <td>2012</td>\n",
       "    </tr>\n",
       "    <tr>\n",
       "      <th>40</th>\n",
       "      <td>285850</td>\n",
       "      <td>1</td>\n",
       "      <td>1</td>\n",
       "      <td>759</td>\n",
       "      <td>2006</td>\n",
       "      <td>0</td>\n",
       "      <td>Apartment / Condo / Townhouse</td>\n",
       "      <td>Brick</td>\n",
       "      <td>Composition Shingle</td>\n",
       "      <td>1.0</td>\n",
       "      <td>...</td>\n",
       "      <td>46</td>\n",
       "      <td>34</td>\n",
       "      <td>31</td>\n",
       "      <td>30</td>\n",
       "      <td>99</td>\n",
       "      <td>266</td>\n",
       "      <td>81</td>\n",
       "      <td>8.0</td>\n",
       "      <td>3</td>\n",
       "      <td>2006</td>\n",
       "    </tr>\n",
       "    <tr>\n",
       "      <th>41</th>\n",
       "      <td>249298</td>\n",
       "      <td>1</td>\n",
       "      <td>1</td>\n",
       "      <td>759</td>\n",
       "      <td>2012</td>\n",
       "      <td>0</td>\n",
       "      <td>Apartment / Condo / Townhouse</td>\n",
       "      <td>Siding (Alum/Vinyl)</td>\n",
       "      <td>NaN</td>\n",
       "      <td>1.0</td>\n",
       "      <td>...</td>\n",
       "      <td>17</td>\n",
       "      <td>25</td>\n",
       "      <td>27</td>\n",
       "      <td>38</td>\n",
       "      <td>35</td>\n",
       "      <td>251</td>\n",
       "      <td>76</td>\n",
       "      <td>5.0</td>\n",
       "      <td>3</td>\n",
       "      <td>2012</td>\n",
       "    </tr>\n",
       "    <tr>\n",
       "      <th>42</th>\n",
       "      <td>380000</td>\n",
       "      <td>1</td>\n",
       "      <td>1</td>\n",
       "      <td>760</td>\n",
       "      <td>1991</td>\n",
       "      <td>0</td>\n",
       "      <td>Apartment / Condo / Townhouse</td>\n",
       "      <td>Brick</td>\n",
       "      <td>NaN</td>\n",
       "      <td>NaN</td>\n",
       "      <td>...</td>\n",
       "      <td>81</td>\n",
       "      <td>77</td>\n",
       "      <td>31</td>\n",
       "      <td>13</td>\n",
       "      <td>84</td>\n",
       "      <td>291</td>\n",
       "      <td>101</td>\n",
       "      <td>8.0</td>\n",
       "      <td>3</td>\n",
       "      <td>2011</td>\n",
       "    </tr>\n",
       "    <tr>\n",
       "      <th>43</th>\n",
       "      <td>244800</td>\n",
       "      <td>1</td>\n",
       "      <td>1</td>\n",
       "      <td>767</td>\n",
       "      <td>1944</td>\n",
       "      <td>0</td>\n",
       "      <td>Apartment / Condo / Townhouse</td>\n",
       "      <td>Brick</td>\n",
       "      <td>NaN</td>\n",
       "      <td>NaN</td>\n",
       "      <td>...</td>\n",
       "      <td>39</td>\n",
       "      <td>41</td>\n",
       "      <td>34</td>\n",
       "      <td>44</td>\n",
       "      <td>90</td>\n",
       "      <td>190</td>\n",
       "      <td>66</td>\n",
       "      <td>6.0</td>\n",
       "      <td>3</td>\n",
       "      <td>2011</td>\n",
       "    </tr>\n",
       "    <tr>\n",
       "      <th>44</th>\n",
       "      <td>397400</td>\n",
       "      <td>1</td>\n",
       "      <td>1</td>\n",
       "      <td>771</td>\n",
       "      <td>2005</td>\n",
       "      <td>111513</td>\n",
       "      <td>Apartment / Condo / Townhouse</td>\n",
       "      <td>Wood Siding</td>\n",
       "      <td>NaN</td>\n",
       "      <td>NaN</td>\n",
       "      <td>...</td>\n",
       "      <td>91</td>\n",
       "      <td>88</td>\n",
       "      <td>33</td>\n",
       "      <td>40</td>\n",
       "      <td>96</td>\n",
       "      <td>345</td>\n",
       "      <td>119</td>\n",
       "      <td>5.0</td>\n",
       "      <td>3</td>\n",
       "      <td>2005</td>\n",
       "    </tr>\n",
       "    <tr>\n",
       "      <th>45</th>\n",
       "      <td>345000</td>\n",
       "      <td>1</td>\n",
       "      <td>1</td>\n",
       "      <td>781</td>\n",
       "      <td>2006</td>\n",
       "      <td>0</td>\n",
       "      <td>Apartment / Condo / Townhouse</td>\n",
       "      <td>Wood Siding</td>\n",
       "      <td>NaN</td>\n",
       "      <td>NaN</td>\n",
       "      <td>...</td>\n",
       "      <td>37</td>\n",
       "      <td>44</td>\n",
       "      <td>33</td>\n",
       "      <td>35</td>\n",
       "      <td>72</td>\n",
       "      <td>284</td>\n",
       "      <td>98</td>\n",
       "      <td>6.0</td>\n",
       "      <td>3</td>\n",
       "      <td>2007</td>\n",
       "    </tr>\n",
       "    <tr>\n",
       "      <th>46</th>\n",
       "      <td>220000</td>\n",
       "      <td>1</td>\n",
       "      <td>1</td>\n",
       "      <td>792</td>\n",
       "      <td>1987</td>\n",
       "      <td>0</td>\n",
       "      <td>Apartment / Condo / Townhouse</td>\n",
       "      <td>Brick</td>\n",
       "      <td>Gravel/Rock</td>\n",
       "      <td>1.0</td>\n",
       "      <td>...</td>\n",
       "      <td>37</td>\n",
       "      <td>11</td>\n",
       "      <td>35</td>\n",
       "      <td>50</td>\n",
       "      <td>82</td>\n",
       "      <td>221</td>\n",
       "      <td>67</td>\n",
       "      <td>8.0</td>\n",
       "      <td>3</td>\n",
       "      <td>2009</td>\n",
       "    </tr>\n",
       "    <tr>\n",
       "      <th>47</th>\n",
       "      <td>279000</td>\n",
       "      <td>1</td>\n",
       "      <td>1</td>\n",
       "      <td>796</td>\n",
       "      <td>1986</td>\n",
       "      <td>0</td>\n",
       "      <td>Apartment / Condo / Townhouse</td>\n",
       "      <td>Concrete</td>\n",
       "      <td>Gravel/Rock</td>\n",
       "      <td>1.0</td>\n",
       "      <td>...</td>\n",
       "      <td>96</td>\n",
       "      <td>34</td>\n",
       "      <td>64</td>\n",
       "      <td>52</td>\n",
       "      <td>63</td>\n",
       "      <td>286</td>\n",
       "      <td>87</td>\n",
       "      <td>8.0</td>\n",
       "      <td>3</td>\n",
       "      <td>2014</td>\n",
       "    </tr>\n",
       "    <tr>\n",
       "      <th>48</th>\n",
       "      <td>286900</td>\n",
       "      <td>1</td>\n",
       "      <td>1</td>\n",
       "      <td>797</td>\n",
       "      <td>2005</td>\n",
       "      <td>0</td>\n",
       "      <td>Apartment / Condo / Townhouse</td>\n",
       "      <td>Brick</td>\n",
       "      <td>Composition Shingle</td>\n",
       "      <td>1.0</td>\n",
       "      <td>...</td>\n",
       "      <td>36</td>\n",
       "      <td>9</td>\n",
       "      <td>32</td>\n",
       "      <td>69</td>\n",
       "      <td>70</td>\n",
       "      <td>184</td>\n",
       "      <td>56</td>\n",
       "      <td>7.0</td>\n",
       "      <td>3</td>\n",
       "      <td>2006</td>\n",
       "    </tr>\n",
       "    <tr>\n",
       "      <th>49</th>\n",
       "      <td>220000</td>\n",
       "      <td>1</td>\n",
       "      <td>1</td>\n",
       "      <td>800</td>\n",
       "      <td>1985</td>\n",
       "      <td>0</td>\n",
       "      <td>Apartment / Condo / Townhouse</td>\n",
       "      <td>Brick</td>\n",
       "      <td>Composition Shingle</td>\n",
       "      <td>1.0</td>\n",
       "      <td>...</td>\n",
       "      <td>5</td>\n",
       "      <td>11</td>\n",
       "      <td>39</td>\n",
       "      <td>64</td>\n",
       "      <td>81</td>\n",
       "      <td>184</td>\n",
       "      <td>56</td>\n",
       "      <td>6.0</td>\n",
       "      <td>3</td>\n",
       "      <td>2015</td>\n",
       "    </tr>\n",
       "    <tr>\n",
       "      <th>50</th>\n",
       "      <td>305000</td>\n",
       "      <td>1</td>\n",
       "      <td>1</td>\n",
       "      <td>805</td>\n",
       "      <td>1941</td>\n",
       "      <td>0</td>\n",
       "      <td>Apartment / Condo / Townhouse</td>\n",
       "      <td>Brick</td>\n",
       "      <td>NaN</td>\n",
       "      <td>NaN</td>\n",
       "      <td>...</td>\n",
       "      <td>33</td>\n",
       "      <td>37</td>\n",
       "      <td>36</td>\n",
       "      <td>37</td>\n",
       "      <td>80</td>\n",
       "      <td>150</td>\n",
       "      <td>49</td>\n",
       "      <td>4.0</td>\n",
       "      <td>3</td>\n",
       "      <td>2005</td>\n",
       "    </tr>\n",
       "    <tr>\n",
       "      <th>51</th>\n",
       "      <td>409575</td>\n",
       "      <td>1</td>\n",
       "      <td>1</td>\n",
       "      <td>805</td>\n",
       "      <td>2005</td>\n",
       "      <td>46609</td>\n",
       "      <td>Apartment / Condo / Townhouse</td>\n",
       "      <td>Concrete Block</td>\n",
       "      <td>NaN</td>\n",
       "      <td>NaN</td>\n",
       "      <td>...</td>\n",
       "      <td>74</td>\n",
       "      <td>86</td>\n",
       "      <td>29</td>\n",
       "      <td>15</td>\n",
       "      <td>82</td>\n",
       "      <td>302</td>\n",
       "      <td>104</td>\n",
       "      <td>9.0</td>\n",
       "      <td>3</td>\n",
       "      <td>2006</td>\n",
       "    </tr>\n",
       "    <tr>\n",
       "      <th>52</th>\n",
       "      <td>300367</td>\n",
       "      <td>1</td>\n",
       "      <td>1</td>\n",
       "      <td>805</td>\n",
       "      <td>2007</td>\n",
       "      <td>0</td>\n",
       "      <td>Apartment / Condo / Townhouse</td>\n",
       "      <td>Block</td>\n",
       "      <td>Roll Composition</td>\n",
       "      <td>1.0</td>\n",
       "      <td>...</td>\n",
       "      <td>48</td>\n",
       "      <td>28</td>\n",
       "      <td>32</td>\n",
       "      <td>43</td>\n",
       "      <td>63</td>\n",
       "      <td>261</td>\n",
       "      <td>79</td>\n",
       "      <td>5.0</td>\n",
       "      <td>3</td>\n",
       "      <td>2007</td>\n",
       "    </tr>\n",
       "    <tr>\n",
       "      <th>53</th>\n",
       "      <td>230000</td>\n",
       "      <td>1</td>\n",
       "      <td>1</td>\n",
       "      <td>809</td>\n",
       "      <td>1965</td>\n",
       "      <td>0</td>\n",
       "      <td>Apartment / Condo / Townhouse</td>\n",
       "      <td>Brick</td>\n",
       "      <td>NaN</td>\n",
       "      <td>NaN</td>\n",
       "      <td>...</td>\n",
       "      <td>36</td>\n",
       "      <td>48</td>\n",
       "      <td>40</td>\n",
       "      <td>41</td>\n",
       "      <td>90</td>\n",
       "      <td>172</td>\n",
       "      <td>60</td>\n",
       "      <td>9.0</td>\n",
       "      <td>3</td>\n",
       "      <td>2007</td>\n",
       "    </tr>\n",
       "    <tr>\n",
       "      <th>54</th>\n",
       "      <td>270000</td>\n",
       "      <td>1</td>\n",
       "      <td>1</td>\n",
       "      <td>810</td>\n",
       "      <td>1975</td>\n",
       "      <td>0</td>\n",
       "      <td>Apartment / Condo / Townhouse</td>\n",
       "      <td>Brick</td>\n",
       "      <td>NaN</td>\n",
       "      <td>1.0</td>\n",
       "      <td>...</td>\n",
       "      <td>45</td>\n",
       "      <td>30</td>\n",
       "      <td>45</td>\n",
       "      <td>47</td>\n",
       "      <td>54</td>\n",
       "      <td>190</td>\n",
       "      <td>58</td>\n",
       "      <td>3.0</td>\n",
       "      <td>3</td>\n",
       "      <td>2005</td>\n",
       "    </tr>\n",
       "    <tr>\n",
       "      <th>55</th>\n",
       "      <td>210000</td>\n",
       "      <td>1</td>\n",
       "      <td>1</td>\n",
       "      <td>811</td>\n",
       "      <td>1969</td>\n",
       "      <td>0</td>\n",
       "      <td>Apartment / Condo / Townhouse</td>\n",
       "      <td>Brick</td>\n",
       "      <td>NaN</td>\n",
       "      <td>NaN</td>\n",
       "      <td>...</td>\n",
       "      <td>36</td>\n",
       "      <td>37</td>\n",
       "      <td>30</td>\n",
       "      <td>72</td>\n",
       "      <td>34</td>\n",
       "      <td>143</td>\n",
       "      <td>49</td>\n",
       "      <td>4.0</td>\n",
       "      <td>3</td>\n",
       "      <td>2011</td>\n",
       "    </tr>\n",
       "    <tr>\n",
       "      <th>56</th>\n",
       "      <td>366700</td>\n",
       "      <td>1</td>\n",
       "      <td>1</td>\n",
       "      <td>817</td>\n",
       "      <td>2004</td>\n",
       "      <td>0</td>\n",
       "      <td>Apartment / Condo / Townhouse</td>\n",
       "      <td>Brick</td>\n",
       "      <td>Composition Shingle</td>\n",
       "      <td>1.0</td>\n",
       "      <td>...</td>\n",
       "      <td>65</td>\n",
       "      <td>41</td>\n",
       "      <td>32</td>\n",
       "      <td>32</td>\n",
       "      <td>88</td>\n",
       "      <td>274</td>\n",
       "      <td>83</td>\n",
       "      <td>7.0</td>\n",
       "      <td>3</td>\n",
       "      <td>2006</td>\n",
       "    </tr>\n",
       "    <tr>\n",
       "      <th>57</th>\n",
       "      <td>238600</td>\n",
       "      <td>1</td>\n",
       "      <td>1</td>\n",
       "      <td>834</td>\n",
       "      <td>1992</td>\n",
       "      <td>0</td>\n",
       "      <td>Apartment / Condo / Townhouse</td>\n",
       "      <td>Brick</td>\n",
       "      <td>NaN</td>\n",
       "      <td>NaN</td>\n",
       "      <td>...</td>\n",
       "      <td>33</td>\n",
       "      <td>20</td>\n",
       "      <td>43</td>\n",
       "      <td>32</td>\n",
       "      <td>66</td>\n",
       "      <td>185</td>\n",
       "      <td>61</td>\n",
       "      <td>2.0</td>\n",
       "      <td>3</td>\n",
       "      <td>2013</td>\n",
       "    </tr>\n",
       "    <tr>\n",
       "      <th>58</th>\n",
       "      <td>284900</td>\n",
       "      <td>1</td>\n",
       "      <td>1</td>\n",
       "      <td>838</td>\n",
       "      <td>2007</td>\n",
       "      <td>0</td>\n",
       "      <td>Apartment / Condo / Townhouse</td>\n",
       "      <td>Block</td>\n",
       "      <td>Roll Composition</td>\n",
       "      <td>1.0</td>\n",
       "      <td>...</td>\n",
       "      <td>48</td>\n",
       "      <td>28</td>\n",
       "      <td>32</td>\n",
       "      <td>43</td>\n",
       "      <td>63</td>\n",
       "      <td>249</td>\n",
       "      <td>76</td>\n",
       "      <td>5.0</td>\n",
       "      <td>3</td>\n",
       "      <td>2008</td>\n",
       "    </tr>\n",
       "    <tr>\n",
       "      <th>59</th>\n",
       "      <td>253000</td>\n",
       "      <td>1</td>\n",
       "      <td>1</td>\n",
       "      <td>850</td>\n",
       "      <td>1974</td>\n",
       "      <td>0</td>\n",
       "      <td>Apartment / Condo / Townhouse</td>\n",
       "      <td>Brick</td>\n",
       "      <td>NaN</td>\n",
       "      <td>NaN</td>\n",
       "      <td>...</td>\n",
       "      <td>70</td>\n",
       "      <td>25</td>\n",
       "      <td>32</td>\n",
       "      <td>13</td>\n",
       "      <td>72</td>\n",
       "      <td>146</td>\n",
       "      <td>48</td>\n",
       "      <td>2.0</td>\n",
       "      <td>3</td>\n",
       "      <td>2005</td>\n",
       "    </tr>\n",
       "    <tr>\n",
       "      <th>...</th>\n",
       "      <td>...</td>\n",
       "      <td>...</td>\n",
       "      <td>...</td>\n",
       "      <td>...</td>\n",
       "      <td>...</td>\n",
       "      <td>...</td>\n",
       "      <td>...</td>\n",
       "      <td>...</td>\n",
       "      <td>...</td>\n",
       "      <td>...</td>\n",
       "      <td>...</td>\n",
       "      <td>...</td>\n",
       "      <td>...</td>\n",
       "      <td>...</td>\n",
       "      <td>...</td>\n",
       "      <td>...</td>\n",
       "      <td>...</td>\n",
       "      <td>...</td>\n",
       "      <td>...</td>\n",
       "      <td>...</td>\n",
       "      <td>...</td>\n",
       "    </tr>\n",
       "    <tr>\n",
       "      <th>1822</th>\n",
       "      <td>427950</td>\n",
       "      <td>5</td>\n",
       "      <td>4</td>\n",
       "      <td>5354</td>\n",
       "      <td>1996</td>\n",
       "      <td>11761</td>\n",
       "      <td>Single-Family</td>\n",
       "      <td>Brick</td>\n",
       "      <td>Composition Shingle</td>\n",
       "      <td>1.0</td>\n",
       "      <td>...</td>\n",
       "      <td>0</td>\n",
       "      <td>8</td>\n",
       "      <td>47</td>\n",
       "      <td>51</td>\n",
       "      <td>77</td>\n",
       "      <td>758</td>\n",
       "      <td>231</td>\n",
       "      <td>7.0</td>\n",
       "      <td>3</td>\n",
       "      <td>1996</td>\n",
       "    </tr>\n",
       "    <tr>\n",
       "      <th>1823</th>\n",
       "      <td>692353</td>\n",
       "      <td>5</td>\n",
       "      <td>4</td>\n",
       "      <td>5365</td>\n",
       "      <td>2002</td>\n",
       "      <td>37897</td>\n",
       "      <td>Single-Family</td>\n",
       "      <td>Siding (Alum/Vinyl)</td>\n",
       "      <td>Composition Shingle</td>\n",
       "      <td>1.0</td>\n",
       "      <td>...</td>\n",
       "      <td>11</td>\n",
       "      <td>9</td>\n",
       "      <td>48</td>\n",
       "      <td>91</td>\n",
       "      <td>81</td>\n",
       "      <td>881</td>\n",
       "      <td>268</td>\n",
       "      <td>7.0</td>\n",
       "      <td>1</td>\n",
       "      <td>2002</td>\n",
       "    </tr>\n",
       "    <tr>\n",
       "      <th>1824</th>\n",
       "      <td>655600</td>\n",
       "      <td>5</td>\n",
       "      <td>4</td>\n",
       "      <td>5370</td>\n",
       "      <td>1988</td>\n",
       "      <td>41817</td>\n",
       "      <td>Single-Family</td>\n",
       "      <td>Brick</td>\n",
       "      <td>Asphalt</td>\n",
       "      <td>1.0</td>\n",
       "      <td>...</td>\n",
       "      <td>0</td>\n",
       "      <td>0</td>\n",
       "      <td>47</td>\n",
       "      <td>93</td>\n",
       "      <td>81</td>\n",
       "      <td>1049</td>\n",
       "      <td>319</td>\n",
       "      <td>9.0</td>\n",
       "      <td>3</td>\n",
       "      <td>2012</td>\n",
       "    </tr>\n",
       "    <tr>\n",
       "      <th>1825</th>\n",
       "      <td>750000</td>\n",
       "      <td>5</td>\n",
       "      <td>4</td>\n",
       "      <td>5480</td>\n",
       "      <td>1998</td>\n",
       "      <td>10502</td>\n",
       "      <td>Single-Family</td>\n",
       "      <td>Metal</td>\n",
       "      <td>Composition Shingle</td>\n",
       "      <td>1.0</td>\n",
       "      <td>...</td>\n",
       "      <td>1</td>\n",
       "      <td>4</td>\n",
       "      <td>52</td>\n",
       "      <td>72</td>\n",
       "      <td>28</td>\n",
       "      <td>819</td>\n",
       "      <td>249</td>\n",
       "      <td>4.0</td>\n",
       "      <td>2</td>\n",
       "      <td>2008</td>\n",
       "    </tr>\n",
       "    <tr>\n",
       "      <th>1826</th>\n",
       "      <td>570000</td>\n",
       "      <td>5</td>\n",
       "      <td>4</td>\n",
       "      <td>5480</td>\n",
       "      <td>2012</td>\n",
       "      <td>11325</td>\n",
       "      <td>Single-Family</td>\n",
       "      <td>Brick</td>\n",
       "      <td>Composition Shingle</td>\n",
       "      <td>1.0</td>\n",
       "      <td>...</td>\n",
       "      <td>3</td>\n",
       "      <td>9</td>\n",
       "      <td>38</td>\n",
       "      <td>70</td>\n",
       "      <td>89</td>\n",
       "      <td>1147</td>\n",
       "      <td>349</td>\n",
       "      <td>10.0</td>\n",
       "      <td>3</td>\n",
       "      <td>2011</td>\n",
       "    </tr>\n",
       "    <tr>\n",
       "      <th>1827</th>\n",
       "      <td>444788</td>\n",
       "      <td>5</td>\n",
       "      <td>4</td>\n",
       "      <td>5600</td>\n",
       "      <td>1994</td>\n",
       "      <td>33541</td>\n",
       "      <td>Single-Family</td>\n",
       "      <td>Brick</td>\n",
       "      <td>Composition Shingle</td>\n",
       "      <td>1.0</td>\n",
       "      <td>...</td>\n",
       "      <td>1</td>\n",
       "      <td>2</td>\n",
       "      <td>45</td>\n",
       "      <td>99</td>\n",
       "      <td>82</td>\n",
       "      <td>892</td>\n",
       "      <td>272</td>\n",
       "      <td>10.0</td>\n",
       "      <td>3</td>\n",
       "      <td>1996</td>\n",
       "    </tr>\n",
       "    <tr>\n",
       "      <th>1828</th>\n",
       "      <td>365000</td>\n",
       "      <td>5</td>\n",
       "      <td>4</td>\n",
       "      <td>5654</td>\n",
       "      <td>2015</td>\n",
       "      <td>10175</td>\n",
       "      <td>Single-Family</td>\n",
       "      <td>Brick</td>\n",
       "      <td>Composition Shingle</td>\n",
       "      <td>1.0</td>\n",
       "      <td>...</td>\n",
       "      <td>19</td>\n",
       "      <td>4</td>\n",
       "      <td>44</td>\n",
       "      <td>72</td>\n",
       "      <td>42</td>\n",
       "      <td>799</td>\n",
       "      <td>243</td>\n",
       "      <td>4.0</td>\n",
       "      <td>3</td>\n",
       "      <td>2007</td>\n",
       "    </tr>\n",
       "    <tr>\n",
       "      <th>1829</th>\n",
       "      <td>649415</td>\n",
       "      <td>5</td>\n",
       "      <td>4</td>\n",
       "      <td>5708</td>\n",
       "      <td>2011</td>\n",
       "      <td>18295</td>\n",
       "      <td>Single-Family</td>\n",
       "      <td>NaN</td>\n",
       "      <td>Composition Shingle</td>\n",
       "      <td>1.0</td>\n",
       "      <td>...</td>\n",
       "      <td>2</td>\n",
       "      <td>1</td>\n",
       "      <td>37</td>\n",
       "      <td>74</td>\n",
       "      <td>84</td>\n",
       "      <td>766</td>\n",
       "      <td>197</td>\n",
       "      <td>8.0</td>\n",
       "      <td>3</td>\n",
       "      <td>2012</td>\n",
       "    </tr>\n",
       "    <tr>\n",
       "      <th>1830</th>\n",
       "      <td>438000</td>\n",
       "      <td>5</td>\n",
       "      <td>4</td>\n",
       "      <td>5742</td>\n",
       "      <td>1998</td>\n",
       "      <td>36154</td>\n",
       "      <td>Single-Family</td>\n",
       "      <td>Block</td>\n",
       "      <td>Composition Shingle</td>\n",
       "      <td>1.0</td>\n",
       "      <td>...</td>\n",
       "      <td>0</td>\n",
       "      <td>3</td>\n",
       "      <td>47</td>\n",
       "      <td>89</td>\n",
       "      <td>66</td>\n",
       "      <td>769</td>\n",
       "      <td>234</td>\n",
       "      <td>7.0</td>\n",
       "      <td>3</td>\n",
       "      <td>1998</td>\n",
       "    </tr>\n",
       "    <tr>\n",
       "      <th>1831</th>\n",
       "      <td>650000</td>\n",
       "      <td>5</td>\n",
       "      <td>4</td>\n",
       "      <td>5809</td>\n",
       "      <td>2002</td>\n",
       "      <td>30056</td>\n",
       "      <td>Single-Family</td>\n",
       "      <td>NaN</td>\n",
       "      <td>Asphalt</td>\n",
       "      <td>1.0</td>\n",
       "      <td>...</td>\n",
       "      <td>5</td>\n",
       "      <td>8</td>\n",
       "      <td>37</td>\n",
       "      <td>64</td>\n",
       "      <td>55</td>\n",
       "      <td>727</td>\n",
       "      <td>187</td>\n",
       "      <td>7.0</td>\n",
       "      <td>3</td>\n",
       "      <td>2004</td>\n",
       "    </tr>\n",
       "    <tr>\n",
       "      <th>1832</th>\n",
       "      <td>575000</td>\n",
       "      <td>5</td>\n",
       "      <td>4</td>\n",
       "      <td>5933</td>\n",
       "      <td>2003</td>\n",
       "      <td>436035</td>\n",
       "      <td>Single-Family</td>\n",
       "      <td>Siding (Alum/Vinyl)</td>\n",
       "      <td>NaN</td>\n",
       "      <td>1.0</td>\n",
       "      <td>...</td>\n",
       "      <td>0</td>\n",
       "      <td>0</td>\n",
       "      <td>42</td>\n",
       "      <td>84</td>\n",
       "      <td>38</td>\n",
       "      <td>668</td>\n",
       "      <td>189</td>\n",
       "      <td>8.0</td>\n",
       "      <td>3</td>\n",
       "      <td>2010</td>\n",
       "    </tr>\n",
       "    <tr>\n",
       "      <th>1833</th>\n",
       "      <td>709233</td>\n",
       "      <td>5</td>\n",
       "      <td>4</td>\n",
       "      <td>5950</td>\n",
       "      <td>2007</td>\n",
       "      <td>15245</td>\n",
       "      <td>Single-Family</td>\n",
       "      <td>NaN</td>\n",
       "      <td>Composition Shingle</td>\n",
       "      <td>1.0</td>\n",
       "      <td>...</td>\n",
       "      <td>17</td>\n",
       "      <td>12</td>\n",
       "      <td>32</td>\n",
       "      <td>82</td>\n",
       "      <td>92</td>\n",
       "      <td>771</td>\n",
       "      <td>198</td>\n",
       "      <td>9.0</td>\n",
       "      <td>3</td>\n",
       "      <td>2007</td>\n",
       "    </tr>\n",
       "    <tr>\n",
       "      <th>1834</th>\n",
       "      <td>760825</td>\n",
       "      <td>5</td>\n",
       "      <td>4</td>\n",
       "      <td>5956</td>\n",
       "      <td>2004</td>\n",
       "      <td>24393</td>\n",
       "      <td>Single-Family</td>\n",
       "      <td>NaN</td>\n",
       "      <td>Composition Shingle</td>\n",
       "      <td>1.0</td>\n",
       "      <td>...</td>\n",
       "      <td>12</td>\n",
       "      <td>8</td>\n",
       "      <td>33</td>\n",
       "      <td>98</td>\n",
       "      <td>83</td>\n",
       "      <td>920</td>\n",
       "      <td>237</td>\n",
       "      <td>8.5</td>\n",
       "      <td>2</td>\n",
       "      <td>2005</td>\n",
       "    </tr>\n",
       "    <tr>\n",
       "      <th>1835</th>\n",
       "      <td>507175</td>\n",
       "      <td>5</td>\n",
       "      <td>4</td>\n",
       "      <td>6000</td>\n",
       "      <td>2000</td>\n",
       "      <td>14810</td>\n",
       "      <td>Single-Family</td>\n",
       "      <td>NaN</td>\n",
       "      <td>Other</td>\n",
       "      <td>1.0</td>\n",
       "      <td>...</td>\n",
       "      <td>3</td>\n",
       "      <td>8</td>\n",
       "      <td>32</td>\n",
       "      <td>82</td>\n",
       "      <td>92</td>\n",
       "      <td>742</td>\n",
       "      <td>191</td>\n",
       "      <td>9.0</td>\n",
       "      <td>3</td>\n",
       "      <td>2001</td>\n",
       "    </tr>\n",
       "    <tr>\n",
       "      <th>1836</th>\n",
       "      <td>751000</td>\n",
       "      <td>5</td>\n",
       "      <td>4</td>\n",
       "      <td>6025</td>\n",
       "      <td>1951</td>\n",
       "      <td>10024</td>\n",
       "      <td>Single-Family</td>\n",
       "      <td>Brick veneer</td>\n",
       "      <td>Composition Shingle</td>\n",
       "      <td>1.0</td>\n",
       "      <td>...</td>\n",
       "      <td>4</td>\n",
       "      <td>12</td>\n",
       "      <td>44</td>\n",
       "      <td>92</td>\n",
       "      <td>81</td>\n",
       "      <td>1292</td>\n",
       "      <td>448</td>\n",
       "      <td>9.0</td>\n",
       "      <td>3</td>\n",
       "      <td>2015</td>\n",
       "    </tr>\n",
       "    <tr>\n",
       "      <th>1837</th>\n",
       "      <td>690000</td>\n",
       "      <td>5</td>\n",
       "      <td>4</td>\n",
       "      <td>6096</td>\n",
       "      <td>1995</td>\n",
       "      <td>217800</td>\n",
       "      <td>Single-Family</td>\n",
       "      <td>Siding (Alum/Vinyl)</td>\n",
       "      <td>Other</td>\n",
       "      <td>1.0</td>\n",
       "      <td>...</td>\n",
       "      <td>0</td>\n",
       "      <td>1</td>\n",
       "      <td>48</td>\n",
       "      <td>82</td>\n",
       "      <td>76</td>\n",
       "      <td>1310</td>\n",
       "      <td>399</td>\n",
       "      <td>10.0</td>\n",
       "      <td>3</td>\n",
       "      <td>1996</td>\n",
       "    </tr>\n",
       "    <tr>\n",
       "      <th>1838</th>\n",
       "      <td>649900</td>\n",
       "      <td>5</td>\n",
       "      <td>4</td>\n",
       "      <td>6127</td>\n",
       "      <td>1995</td>\n",
       "      <td>126324</td>\n",
       "      <td>Single-Family</td>\n",
       "      <td>Metal</td>\n",
       "      <td>Asbestos</td>\n",
       "      <td>1.0</td>\n",
       "      <td>...</td>\n",
       "      <td>1</td>\n",
       "      <td>0</td>\n",
       "      <td>45</td>\n",
       "      <td>89</td>\n",
       "      <td>72</td>\n",
       "      <td>881</td>\n",
       "      <td>268</td>\n",
       "      <td>5.5</td>\n",
       "      <td>2</td>\n",
       "      <td>2003</td>\n",
       "    </tr>\n",
       "    <tr>\n",
       "      <th>1839</th>\n",
       "      <td>750000</td>\n",
       "      <td>5</td>\n",
       "      <td>4</td>\n",
       "      <td>6243</td>\n",
       "      <td>2006</td>\n",
       "      <td>435600</td>\n",
       "      <td>Single-Family</td>\n",
       "      <td>Brick</td>\n",
       "      <td>NaN</td>\n",
       "      <td>1.0</td>\n",
       "      <td>...</td>\n",
       "      <td>0</td>\n",
       "      <td>0</td>\n",
       "      <td>43</td>\n",
       "      <td>89</td>\n",
       "      <td>51</td>\n",
       "      <td>704</td>\n",
       "      <td>199</td>\n",
       "      <td>8.0</td>\n",
       "      <td>3</td>\n",
       "      <td>2012</td>\n",
       "    </tr>\n",
       "    <tr>\n",
       "      <th>1840</th>\n",
       "      <td>785000</td>\n",
       "      <td>5</td>\n",
       "      <td>4</td>\n",
       "      <td>6464</td>\n",
       "      <td>2014</td>\n",
       "      <td>13939</td>\n",
       "      <td>Single-Family</td>\n",
       "      <td>Other</td>\n",
       "      <td>Composition Shingle</td>\n",
       "      <td>1.0</td>\n",
       "      <td>...</td>\n",
       "      <td>58</td>\n",
       "      <td>18</td>\n",
       "      <td>41</td>\n",
       "      <td>94</td>\n",
       "      <td>96</td>\n",
       "      <td>1433</td>\n",
       "      <td>437</td>\n",
       "      <td>10.0</td>\n",
       "      <td>3</td>\n",
       "      <td>2014</td>\n",
       "    </tr>\n",
       "    <tr>\n",
       "      <th>1841</th>\n",
       "      <td>279875</td>\n",
       "      <td>5</td>\n",
       "      <td>4</td>\n",
       "      <td>6468</td>\n",
       "      <td>1952</td>\n",
       "      <td>10890</td>\n",
       "      <td>Single-Family</td>\n",
       "      <td>Brick veneer</td>\n",
       "      <td>Composition Shingle</td>\n",
       "      <td>1.0</td>\n",
       "      <td>...</td>\n",
       "      <td>0</td>\n",
       "      <td>15</td>\n",
       "      <td>22</td>\n",
       "      <td>77</td>\n",
       "      <td>83</td>\n",
       "      <td>1509</td>\n",
       "      <td>523</td>\n",
       "      <td>9.0</td>\n",
       "      <td>3</td>\n",
       "      <td>1995</td>\n",
       "    </tr>\n",
       "    <tr>\n",
       "      <th>1842</th>\n",
       "      <td>698733</td>\n",
       "      <td>5</td>\n",
       "      <td>4</td>\n",
       "      <td>6518</td>\n",
       "      <td>1994</td>\n",
       "      <td>75358</td>\n",
       "      <td>Single-Family</td>\n",
       "      <td>Brick</td>\n",
       "      <td>Composition Shingle</td>\n",
       "      <td>1.0</td>\n",
       "      <td>...</td>\n",
       "      <td>0</td>\n",
       "      <td>1</td>\n",
       "      <td>46</td>\n",
       "      <td>76</td>\n",
       "      <td>87</td>\n",
       "      <td>1053</td>\n",
       "      <td>321</td>\n",
       "      <td>10.0</td>\n",
       "      <td>3</td>\n",
       "      <td>1994</td>\n",
       "    </tr>\n",
       "    <tr>\n",
       "      <th>1843</th>\n",
       "      <td>629513</td>\n",
       "      <td>5</td>\n",
       "      <td>4</td>\n",
       "      <td>6584</td>\n",
       "      <td>2002</td>\n",
       "      <td>175111</td>\n",
       "      <td>Single-Family</td>\n",
       "      <td>NaN</td>\n",
       "      <td>Composition Shingle</td>\n",
       "      <td>1.0</td>\n",
       "      <td>...</td>\n",
       "      <td>0</td>\n",
       "      <td>1</td>\n",
       "      <td>49</td>\n",
       "      <td>78</td>\n",
       "      <td>72</td>\n",
       "      <td>790</td>\n",
       "      <td>203</td>\n",
       "      <td>6.0</td>\n",
       "      <td>3</td>\n",
       "      <td>2002</td>\n",
       "    </tr>\n",
       "    <tr>\n",
       "      <th>1844</th>\n",
       "      <td>660743</td>\n",
       "      <td>5</td>\n",
       "      <td>4</td>\n",
       "      <td>6662</td>\n",
       "      <td>1999</td>\n",
       "      <td>25264</td>\n",
       "      <td>Single-Family</td>\n",
       "      <td>Siding (Alum/Vinyl)</td>\n",
       "      <td>Composition Shingle</td>\n",
       "      <td>1.0</td>\n",
       "      <td>...</td>\n",
       "      <td>5</td>\n",
       "      <td>6</td>\n",
       "      <td>44</td>\n",
       "      <td>89</td>\n",
       "      <td>87</td>\n",
       "      <td>1065</td>\n",
       "      <td>324</td>\n",
       "      <td>10.0</td>\n",
       "      <td>3</td>\n",
       "      <td>1999</td>\n",
       "    </tr>\n",
       "    <tr>\n",
       "      <th>1845</th>\n",
       "      <td>700000</td>\n",
       "      <td>5</td>\n",
       "      <td>4</td>\n",
       "      <td>6946</td>\n",
       "      <td>2006</td>\n",
       "      <td>13068</td>\n",
       "      <td>Single-Family</td>\n",
       "      <td>Combination</td>\n",
       "      <td>Composition Shingle</td>\n",
       "      <td>1.0</td>\n",
       "      <td>...</td>\n",
       "      <td>8</td>\n",
       "      <td>6</td>\n",
       "      <td>40</td>\n",
       "      <td>84</td>\n",
       "      <td>74</td>\n",
       "      <td>700</td>\n",
       "      <td>198</td>\n",
       "      <td>7.0</td>\n",
       "      <td>3</td>\n",
       "      <td>2014</td>\n",
       "    </tr>\n",
       "    <tr>\n",
       "      <th>1846</th>\n",
       "      <td>765000</td>\n",
       "      <td>5</td>\n",
       "      <td>4</td>\n",
       "      <td>7001</td>\n",
       "      <td>2004</td>\n",
       "      <td>27007</td>\n",
       "      <td>Single-Family</td>\n",
       "      <td>NaN</td>\n",
       "      <td>Composition Shingle</td>\n",
       "      <td>1.0</td>\n",
       "      <td>...</td>\n",
       "      <td>12</td>\n",
       "      <td>8</td>\n",
       "      <td>33</td>\n",
       "      <td>98</td>\n",
       "      <td>83</td>\n",
       "      <td>824</td>\n",
       "      <td>212</td>\n",
       "      <td>8.5</td>\n",
       "      <td>2</td>\n",
       "      <td>2008</td>\n",
       "    </tr>\n",
       "    <tr>\n",
       "      <th>1847</th>\n",
       "      <td>535000</td>\n",
       "      <td>5</td>\n",
       "      <td>5</td>\n",
       "      <td>1365</td>\n",
       "      <td>1951</td>\n",
       "      <td>10010</td>\n",
       "      <td>Single-Family</td>\n",
       "      <td>Siding (Alum/Vinyl)</td>\n",
       "      <td>Composition Shingle</td>\n",
       "      <td>1.0</td>\n",
       "      <td>...</td>\n",
       "      <td>22</td>\n",
       "      <td>25</td>\n",
       "      <td>46</td>\n",
       "      <td>75</td>\n",
       "      <td>66</td>\n",
       "      <td>1209</td>\n",
       "      <td>368</td>\n",
       "      <td>10.0</td>\n",
       "      <td>3</td>\n",
       "      <td>2015</td>\n",
       "    </tr>\n",
       "    <tr>\n",
       "      <th>1848</th>\n",
       "      <td>439000</td>\n",
       "      <td>5</td>\n",
       "      <td>5</td>\n",
       "      <td>3320</td>\n",
       "      <td>1947</td>\n",
       "      <td>16117</td>\n",
       "      <td>Single-Family</td>\n",
       "      <td>Siding (Alum/Vinyl)</td>\n",
       "      <td>Shake Shingle</td>\n",
       "      <td>1.0</td>\n",
       "      <td>...</td>\n",
       "      <td>2</td>\n",
       "      <td>1</td>\n",
       "      <td>50</td>\n",
       "      <td>69</td>\n",
       "      <td>81</td>\n",
       "      <td>737</td>\n",
       "      <td>224</td>\n",
       "      <td>6.0</td>\n",
       "      <td>3</td>\n",
       "      <td>2013</td>\n",
       "    </tr>\n",
       "    <tr>\n",
       "      <th>1849</th>\n",
       "      <td>488085</td>\n",
       "      <td>5</td>\n",
       "      <td>5</td>\n",
       "      <td>3696</td>\n",
       "      <td>2009</td>\n",
       "      <td>16988</td>\n",
       "      <td>Single-Family</td>\n",
       "      <td>Combination</td>\n",
       "      <td>NaN</td>\n",
       "      <td>1.0</td>\n",
       "      <td>...</td>\n",
       "      <td>3</td>\n",
       "      <td>1</td>\n",
       "      <td>33</td>\n",
       "      <td>92</td>\n",
       "      <td>64</td>\n",
       "      <td>550</td>\n",
       "      <td>156</td>\n",
       "      <td>9.0</td>\n",
       "      <td>1</td>\n",
       "      <td>2009</td>\n",
       "    </tr>\n",
       "    <tr>\n",
       "      <th>1850</th>\n",
       "      <td>706095</td>\n",
       "      <td>5</td>\n",
       "      <td>5</td>\n",
       "      <td>3720</td>\n",
       "      <td>2004</td>\n",
       "      <td>10606</td>\n",
       "      <td>Single-Family</td>\n",
       "      <td>Siding (Alum/Vinyl)</td>\n",
       "      <td>Composition Shingle</td>\n",
       "      <td>1.0</td>\n",
       "      <td>...</td>\n",
       "      <td>21</td>\n",
       "      <td>6</td>\n",
       "      <td>37</td>\n",
       "      <td>82</td>\n",
       "      <td>63</td>\n",
       "      <td>614</td>\n",
       "      <td>187</td>\n",
       "      <td>3.0</td>\n",
       "      <td>3</td>\n",
       "      <td>2004</td>\n",
       "    </tr>\n",
       "    <tr>\n",
       "      <th>1851</th>\n",
       "      <td>215000</td>\n",
       "      <td>5</td>\n",
       "      <td>5</td>\n",
       "      <td>4053</td>\n",
       "      <td>1961</td>\n",
       "      <td>11325</td>\n",
       "      <td>Single-Family</td>\n",
       "      <td>Siding (Alum/Vinyl)</td>\n",
       "      <td>Shake Shingle</td>\n",
       "      <td>1.0</td>\n",
       "      <td>...</td>\n",
       "      <td>32</td>\n",
       "      <td>31</td>\n",
       "      <td>42</td>\n",
       "      <td>74</td>\n",
       "      <td>67</td>\n",
       "      <td>696</td>\n",
       "      <td>212</td>\n",
       "      <td>9.0</td>\n",
       "      <td>3</td>\n",
       "      <td>1999</td>\n",
       "    </tr>\n",
       "  </tbody>\n",
       "</table>\n",
       "<p>1822 rows × 26 columns</p>\n",
       "</div>"
      ],
      "text/plain": [
       "      tx_price  beds  baths  sqft  year_built  lot_size  \\\n",
       "30      235000     1      1   723        2005         0   \n",
       "31      225000     1      1   724        1958         0   \n",
       "32      370000     1      1   725        2006         0   \n",
       "33      232000     1      1   736        1998         0   \n",
       "34      281900     1      1   737        2000         0   \n",
       "35      355000     1      1   740        2000         0   \n",
       "36      350000     1      1   741        2006         0   \n",
       "37      231900     1      1   750        1964         0   \n",
       "38      284000     1      1   755        1996         0   \n",
       "39      255000     1      1   759        1959         0   \n",
       "40      285850     1      1   759        2006         0   \n",
       "41      249298     1      1   759        2012         0   \n",
       "42      380000     1      1   760        1991         0   \n",
       "43      244800     1      1   767        1944         0   \n",
       "44      397400     1      1   771        2005    111513   \n",
       "45      345000     1      1   781        2006         0   \n",
       "46      220000     1      1   792        1987         0   \n",
       "47      279000     1      1   796        1986         0   \n",
       "48      286900     1      1   797        2005         0   \n",
       "49      220000     1      1   800        1985         0   \n",
       "50      305000     1      1   805        1941         0   \n",
       "51      409575     1      1   805        2005     46609   \n",
       "52      300367     1      1   805        2007         0   \n",
       "53      230000     1      1   809        1965         0   \n",
       "54      270000     1      1   810        1975         0   \n",
       "55      210000     1      1   811        1969         0   \n",
       "56      366700     1      1   817        2004         0   \n",
       "57      238600     1      1   834        1992         0   \n",
       "58      284900     1      1   838        2007         0   \n",
       "59      253000     1      1   850        1974         0   \n",
       "...        ...   ...    ...   ...         ...       ...   \n",
       "1822    427950     5      4  5354        1996     11761   \n",
       "1823    692353     5      4  5365        2002     37897   \n",
       "1824    655600     5      4  5370        1988     41817   \n",
       "1825    750000     5      4  5480        1998     10502   \n",
       "1826    570000     5      4  5480        2012     11325   \n",
       "1827    444788     5      4  5600        1994     33541   \n",
       "1828    365000     5      4  5654        2015     10175   \n",
       "1829    649415     5      4  5708        2011     18295   \n",
       "1830    438000     5      4  5742        1998     36154   \n",
       "1831    650000     5      4  5809        2002     30056   \n",
       "1832    575000     5      4  5933        2003    436035   \n",
       "1833    709233     5      4  5950        2007     15245   \n",
       "1834    760825     5      4  5956        2004     24393   \n",
       "1835    507175     5      4  6000        2000     14810   \n",
       "1836    751000     5      4  6025        1951     10024   \n",
       "1837    690000     5      4  6096        1995    217800   \n",
       "1838    649900     5      4  6127        1995    126324   \n",
       "1839    750000     5      4  6243        2006    435600   \n",
       "1840    785000     5      4  6464        2014     13939   \n",
       "1841    279875     5      4  6468        1952     10890   \n",
       "1842    698733     5      4  6518        1994     75358   \n",
       "1843    629513     5      4  6584        2002    175111   \n",
       "1844    660743     5      4  6662        1999     25264   \n",
       "1845    700000     5      4  6946        2006     13068   \n",
       "1846    765000     5      4  7001        2004     27007   \n",
       "1847    535000     5      5  1365        1951     10010   \n",
       "1848    439000     5      5  3320        1947     16117   \n",
       "1849    488085     5      5  3696        2009     16988   \n",
       "1850    706095     5      5  3720        2004     10606   \n",
       "1851    215000     5      5  4053        1961     11325   \n",
       "\n",
       "                      property_type       exterior_walls                 roof  \\\n",
       "30    Apartment / Condo / Townhouse               Stucco                Other   \n",
       "31    Apartment / Condo / Townhouse                Brick                  NaN   \n",
       "32    Apartment / Condo / Townhouse          Wood Siding                  NaN   \n",
       "33    Apartment / Condo / Townhouse                Brick  Composition Shingle   \n",
       "34    Apartment / Condo / Townhouse                Brick                  NaN   \n",
       "35    Apartment / Condo / Townhouse                Brick                  NaN   \n",
       "36    Apartment / Condo / Townhouse          Wood Siding                  NaN   \n",
       "37    Apartment / Condo / Townhouse                Brick                  NaN   \n",
       "38    Apartment / Condo / Townhouse                Brick  Composition Shingle   \n",
       "39    Apartment / Condo / Townhouse                Brick                  NaN   \n",
       "40    Apartment / Condo / Townhouse                Brick  Composition Shingle   \n",
       "41    Apartment / Condo / Townhouse  Siding (Alum/Vinyl)                  NaN   \n",
       "42    Apartment / Condo / Townhouse                Brick                  NaN   \n",
       "43    Apartment / Condo / Townhouse                Brick                  NaN   \n",
       "44    Apartment / Condo / Townhouse          Wood Siding                  NaN   \n",
       "45    Apartment / Condo / Townhouse          Wood Siding                  NaN   \n",
       "46    Apartment / Condo / Townhouse                Brick          Gravel/Rock   \n",
       "47    Apartment / Condo / Townhouse             Concrete          Gravel/Rock   \n",
       "48    Apartment / Condo / Townhouse                Brick  Composition Shingle   \n",
       "49    Apartment / Condo / Townhouse                Brick  Composition Shingle   \n",
       "50    Apartment / Condo / Townhouse                Brick                  NaN   \n",
       "51    Apartment / Condo / Townhouse       Concrete Block                  NaN   \n",
       "52    Apartment / Condo / Townhouse                Block     Roll Composition   \n",
       "53    Apartment / Condo / Townhouse                Brick                  NaN   \n",
       "54    Apartment / Condo / Townhouse                Brick                  NaN   \n",
       "55    Apartment / Condo / Townhouse                Brick                  NaN   \n",
       "56    Apartment / Condo / Townhouse                Brick  Composition Shingle   \n",
       "57    Apartment / Condo / Townhouse                Brick                  NaN   \n",
       "58    Apartment / Condo / Townhouse                Block     Roll Composition   \n",
       "59    Apartment / Condo / Townhouse                Brick                  NaN   \n",
       "...                             ...                  ...                  ...   \n",
       "1822                  Single-Family                Brick  Composition Shingle   \n",
       "1823                  Single-Family  Siding (Alum/Vinyl)  Composition Shingle   \n",
       "1824                  Single-Family                Brick              Asphalt   \n",
       "1825                  Single-Family                Metal  Composition Shingle   \n",
       "1826                  Single-Family                Brick  Composition Shingle   \n",
       "1827                  Single-Family                Brick  Composition Shingle   \n",
       "1828                  Single-Family                Brick  Composition Shingle   \n",
       "1829                  Single-Family                  NaN  Composition Shingle   \n",
       "1830                  Single-Family                Block  Composition Shingle   \n",
       "1831                  Single-Family                  NaN              Asphalt   \n",
       "1832                  Single-Family  Siding (Alum/Vinyl)                  NaN   \n",
       "1833                  Single-Family                  NaN  Composition Shingle   \n",
       "1834                  Single-Family                  NaN  Composition Shingle   \n",
       "1835                  Single-Family                  NaN                Other   \n",
       "1836                  Single-Family         Brick veneer  Composition Shingle   \n",
       "1837                  Single-Family  Siding (Alum/Vinyl)                Other   \n",
       "1838                  Single-Family                Metal             Asbestos   \n",
       "1839                  Single-Family                Brick                  NaN   \n",
       "1840                  Single-Family                Other  Composition Shingle   \n",
       "1841                  Single-Family         Brick veneer  Composition Shingle   \n",
       "1842                  Single-Family                Brick  Composition Shingle   \n",
       "1843                  Single-Family                  NaN  Composition Shingle   \n",
       "1844                  Single-Family  Siding (Alum/Vinyl)  Composition Shingle   \n",
       "1845                  Single-Family          Combination  Composition Shingle   \n",
       "1846                  Single-Family                  NaN  Composition Shingle   \n",
       "1847                  Single-Family  Siding (Alum/Vinyl)  Composition Shingle   \n",
       "1848                  Single-Family  Siding (Alum/Vinyl)        Shake Shingle   \n",
       "1849                  Single-Family          Combination                  NaN   \n",
       "1850                  Single-Family  Siding (Alum/Vinyl)  Composition Shingle   \n",
       "1851                  Single-Family  Siding (Alum/Vinyl)        Shake Shingle   \n",
       "\n",
       "      basement   ...     beauty_spas  active_life  median_age  married  \\\n",
       "30         1.0   ...              47           34          31       30   \n",
       "31         NaN   ...              69           36          57       13   \n",
       "32         NaN   ...              72           83          36       25   \n",
       "33         1.0   ...              14           11          36       47   \n",
       "34         1.0   ...              38           31          32       34   \n",
       "35         NaN   ...              73           85          36       25   \n",
       "36         NaN   ...              72           83          36       25   \n",
       "37         NaN   ...              81           28          35       63   \n",
       "38         1.0   ...              31           16          40       64   \n",
       "39         NaN   ...              73           74          31       23   \n",
       "40         1.0   ...              46           34          31       30   \n",
       "41         1.0   ...              17           25          27       38   \n",
       "42         NaN   ...              81           77          31       13   \n",
       "43         NaN   ...              39           41          34       44   \n",
       "44         NaN   ...              91           88          33       40   \n",
       "45         NaN   ...              37           44          33       35   \n",
       "46         1.0   ...              37           11          35       50   \n",
       "47         1.0   ...              96           34          64       52   \n",
       "48         1.0   ...              36            9          32       69   \n",
       "49         1.0   ...               5           11          39       64   \n",
       "50         NaN   ...              33           37          36       37   \n",
       "51         NaN   ...              74           86          29       15   \n",
       "52         1.0   ...              48           28          32       43   \n",
       "53         NaN   ...              36           48          40       41   \n",
       "54         1.0   ...              45           30          45       47   \n",
       "55         NaN   ...              36           37          30       72   \n",
       "56         1.0   ...              65           41          32       32   \n",
       "57         NaN   ...              33           20          43       32   \n",
       "58         1.0   ...              48           28          32       43   \n",
       "59         NaN   ...              70           25          32       13   \n",
       "...        ...   ...             ...          ...         ...      ...   \n",
       "1822       1.0   ...               0            8          47       51   \n",
       "1823       1.0   ...              11            9          48       91   \n",
       "1824       1.0   ...               0            0          47       93   \n",
       "1825       1.0   ...               1            4          52       72   \n",
       "1826       1.0   ...               3            9          38       70   \n",
       "1827       1.0   ...               1            2          45       99   \n",
       "1828       1.0   ...              19            4          44       72   \n",
       "1829       1.0   ...               2            1          37       74   \n",
       "1830       1.0   ...               0            3          47       89   \n",
       "1831       1.0   ...               5            8          37       64   \n",
       "1832       1.0   ...               0            0          42       84   \n",
       "1833       1.0   ...              17           12          32       82   \n",
       "1834       1.0   ...              12            8          33       98   \n",
       "1835       1.0   ...               3            8          32       82   \n",
       "1836       1.0   ...               4           12          44       92   \n",
       "1837       1.0   ...               0            1          48       82   \n",
       "1838       1.0   ...               1            0          45       89   \n",
       "1839       1.0   ...               0            0          43       89   \n",
       "1840       1.0   ...              58           18          41       94   \n",
       "1841       1.0   ...               0           15          22       77   \n",
       "1842       1.0   ...               0            1          46       76   \n",
       "1843       1.0   ...               0            1          49       78   \n",
       "1844       1.0   ...               5            6          44       89   \n",
       "1845       1.0   ...               8            6          40       84   \n",
       "1846       1.0   ...              12            8          33       98   \n",
       "1847       1.0   ...              22           25          46       75   \n",
       "1848       1.0   ...               2            1          50       69   \n",
       "1849       1.0   ...               3            1          33       92   \n",
       "1850       1.0   ...              21            6          37       82   \n",
       "1851       1.0   ...              32           31          42       74   \n",
       "\n",
       "      college_grad  property_tax  insurance  median_school  num_schools  \\\n",
       "30              99           278         85            8.0            3   \n",
       "31              83           118         41            6.0            3   \n",
       "32              91           306        106            9.0            3   \n",
       "33              83           243         74            8.0            3   \n",
       "34              50           229         69            4.0            3   \n",
       "35              91           298        103            9.0            3   \n",
       "36              91           291        101            9.0            3   \n",
       "37              70           118         41            7.0            3   \n",
       "38              77           258         78           10.0            3   \n",
       "39              81           190         66            9.0            3   \n",
       "40              99           266         81            8.0            3   \n",
       "41              35           251         76            5.0            3   \n",
       "42              84           291        101            8.0            3   \n",
       "43              90           190         66            6.0            3   \n",
       "44              96           345        119            5.0            3   \n",
       "45              72           284         98            6.0            3   \n",
       "46              82           221         67            8.0            3   \n",
       "47              63           286         87            8.0            3   \n",
       "48              70           184         56            7.0            3   \n",
       "49              81           184         56            6.0            3   \n",
       "50              80           150         49            4.0            3   \n",
       "51              82           302        104            9.0            3   \n",
       "52              63           261         79            5.0            3   \n",
       "53              90           172         60            9.0            3   \n",
       "54              54           190         58            3.0            3   \n",
       "55              34           143         49            4.0            3   \n",
       "56              88           274         83            7.0            3   \n",
       "57              66           185         61            2.0            3   \n",
       "58              63           249         76            5.0            3   \n",
       "59              72           146         48            2.0            3   \n",
       "...            ...           ...        ...            ...          ...   \n",
       "1822            77           758        231            7.0            3   \n",
       "1823            81           881        268            7.0            1   \n",
       "1824            81          1049        319            9.0            3   \n",
       "1825            28           819        249            4.0            2   \n",
       "1826            89          1147        349           10.0            3   \n",
       "1827            82           892        272           10.0            3   \n",
       "1828            42           799        243            4.0            3   \n",
       "1829            84           766        197            8.0            3   \n",
       "1830            66           769        234            7.0            3   \n",
       "1831            55           727        187            7.0            3   \n",
       "1832            38           668        189            8.0            3   \n",
       "1833            92           771        198            9.0            3   \n",
       "1834            83           920        237            8.5            2   \n",
       "1835            92           742        191            9.0            3   \n",
       "1836            81          1292        448            9.0            3   \n",
       "1837            76          1310        399           10.0            3   \n",
       "1838            72           881        268            5.5            2   \n",
       "1839            51           704        199            8.0            3   \n",
       "1840            96          1433        437           10.0            3   \n",
       "1841            83          1509        523            9.0            3   \n",
       "1842            87          1053        321           10.0            3   \n",
       "1843            72           790        203            6.0            3   \n",
       "1844            87          1065        324           10.0            3   \n",
       "1845            74           700        198            7.0            3   \n",
       "1846            83           824        212            8.5            2   \n",
       "1847            66          1209        368           10.0            3   \n",
       "1848            81           737        224            6.0            3   \n",
       "1849            64           550        156            9.0            1   \n",
       "1850            63           614        187            3.0            3   \n",
       "1851            67           696        212            9.0            3   \n",
       "\n",
       "      tx_year  \n",
       "30       2009  \n",
       "31       2009  \n",
       "32       2011  \n",
       "33       2008  \n",
       "34       2005  \n",
       "35       2006  \n",
       "36       2009  \n",
       "37       2005  \n",
       "38       2012  \n",
       "39       2012  \n",
       "40       2006  \n",
       "41       2012  \n",
       "42       2011  \n",
       "43       2011  \n",
       "44       2005  \n",
       "45       2007  \n",
       "46       2009  \n",
       "47       2014  \n",
       "48       2006  \n",
       "49       2015  \n",
       "50       2005  \n",
       "51       2006  \n",
       "52       2007  \n",
       "53       2007  \n",
       "54       2005  \n",
       "55       2011  \n",
       "56       2006  \n",
       "57       2013  \n",
       "58       2008  \n",
       "59       2005  \n",
       "...       ...  \n",
       "1822     1996  \n",
       "1823     2002  \n",
       "1824     2012  \n",
       "1825     2008  \n",
       "1826     2011  \n",
       "1827     1996  \n",
       "1828     2007  \n",
       "1829     2012  \n",
       "1830     1998  \n",
       "1831     2004  \n",
       "1832     2010  \n",
       "1833     2007  \n",
       "1834     2005  \n",
       "1835     2001  \n",
       "1836     2015  \n",
       "1837     1996  \n",
       "1838     2003  \n",
       "1839     2012  \n",
       "1840     2014  \n",
       "1841     1995  \n",
       "1842     1994  \n",
       "1843     2002  \n",
       "1844     1999  \n",
       "1845     2014  \n",
       "1846     2008  \n",
       "1847     2015  \n",
       "1848     2013  \n",
       "1849     2009  \n",
       "1850     2004  \n",
       "1851     1999  \n",
       "\n",
       "[1822 rows x 26 columns]"
      ]
     },
     "execution_count": 60,
     "metadata": {},
     "output_type": "execute_result"
    }
   ],
   "source": [
    "df[30:1852]"
   ]
  },
  {
   "cell_type": "code",
   "execution_count": 6,
   "metadata": {},
   "outputs": [
    {
     "data": {
      "text/plain": [
       "tx_price                int64\n",
       "beds                    int64\n",
       "baths                   int64\n",
       "sqft                    int64\n",
       "year_built              int64\n",
       "lot_size                int64\n",
       "property_type          object\n",
       "exterior_walls         object\n",
       "roof                   object\n",
       "basement              float64\n",
       "restaurants             int64\n",
       "groceries               int64\n",
       "nightlife               int64\n",
       "cafes                   int64\n",
       "shopping                int64\n",
       "arts_entertainment      int64\n",
       "beauty_spas             int64\n",
       "active_life             int64\n",
       "median_age              int64\n",
       "married                 int64\n",
       "college_grad            int64\n",
       "property_tax            int64\n",
       "insurance               int64\n",
       "median_school         float64\n",
       "num_schools             int64\n",
       "tx_year                 int64\n",
       "dtype: object"
      ]
     },
     "execution_count": 6,
     "metadata": {},
     "output_type": "execute_result"
    }
   ],
   "source": [
    "df.dtypes"
   ]
  },
  {
   "cell_type": "code",
   "execution_count": 7,
   "metadata": {},
   "outputs": [
    {
     "name": "stdout",
     "output_type": "stream",
     "text": [
      "<class 'pandas.core.frame.DataFrame'>\n",
      "RangeIndex: 1883 entries, 0 to 1882\n",
      "Data columns (total 26 columns):\n",
      "tx_price              1883 non-null int64\n",
      "beds                  1883 non-null int64\n",
      "baths                 1883 non-null int64\n",
      "sqft                  1883 non-null int64\n",
      "year_built            1883 non-null int64\n",
      "lot_size              1883 non-null int64\n",
      "property_type         1883 non-null object\n",
      "exterior_walls        1660 non-null object\n",
      "roof                  1529 non-null object\n",
      "basement              1657 non-null float64\n",
      "restaurants           1883 non-null int64\n",
      "groceries             1883 non-null int64\n",
      "nightlife             1883 non-null int64\n",
      "cafes                 1883 non-null int64\n",
      "shopping              1883 non-null int64\n",
      "arts_entertainment    1883 non-null int64\n",
      "beauty_spas           1883 non-null int64\n",
      "active_life           1883 non-null int64\n",
      "median_age            1883 non-null int64\n",
      "married               1883 non-null int64\n",
      "college_grad          1883 non-null int64\n",
      "property_tax          1883 non-null int64\n",
      "insurance             1883 non-null int64\n",
      "median_school         1883 non-null float64\n",
      "num_schools           1883 non-null int64\n",
      "tx_year               1883 non-null int64\n",
      "dtypes: float64(2), int64(21), object(3)\n",
      "memory usage: 382.6+ KB\n"
     ]
    }
   ],
   "source": [
    "df.info()"
   ]
  },
  {
   "cell_type": "code",
   "execution_count": 8,
   "metadata": {},
   "outputs": [
    {
     "data": {
      "text/plain": [
       "True"
      ]
     },
     "execution_count": 8,
     "metadata": {},
     "output_type": "execute_result"
    }
   ],
   "source": [
    "df.isnull().sum().any()"
   ]
  },
  {
   "cell_type": "code",
   "execution_count": 9,
   "metadata": {},
   "outputs": [
    {
     "data": {
      "text/plain": [
       "tx_price                0\n",
       "beds                    0\n",
       "baths                   0\n",
       "sqft                    0\n",
       "year_built              0\n",
       "lot_size                0\n",
       "property_type           0\n",
       "exterior_walls        223\n",
       "roof                  354\n",
       "basement              226\n",
       "restaurants             0\n",
       "groceries               0\n",
       "nightlife               0\n",
       "cafes                   0\n",
       "shopping                0\n",
       "arts_entertainment      0\n",
       "beauty_spas             0\n",
       "active_life             0\n",
       "median_age              0\n",
       "married                 0\n",
       "college_grad            0\n",
       "property_tax            0\n",
       "insurance               0\n",
       "median_school           0\n",
       "num_schools             0\n",
       "tx_year                 0\n",
       "dtype: int64"
      ]
     },
     "execution_count": 9,
     "metadata": {},
     "output_type": "execute_result"
    }
   ],
   "source": [
    "df.isnull().sum()"
   ]
  },
  {
   "cell_type": "markdown",
   "metadata": {},
   "source": [
    "there are 3 columns where null values are present. \n",
    "exterior_walls        223\n",
    "roof                  354\n",
    "basement              226"
   ]
  },
  {
   "cell_type": "code",
   "execution_count": 10,
   "metadata": {},
   "outputs": [
    {
     "data": {
      "text/html": [
       "<div>\n",
       "<style scoped>\n",
       "    .dataframe tbody tr th:only-of-type {\n",
       "        vertical-align: middle;\n",
       "    }\n",
       "\n",
       "    .dataframe tbody tr th {\n",
       "        vertical-align: top;\n",
       "    }\n",
       "\n",
       "    .dataframe thead th {\n",
       "        text-align: right;\n",
       "    }\n",
       "</style>\n",
       "<table border=\"1\" class=\"dataframe\">\n",
       "  <thead>\n",
       "    <tr style=\"text-align: right;\">\n",
       "      <th></th>\n",
       "      <th>count</th>\n",
       "      <th>mean</th>\n",
       "      <th>std</th>\n",
       "      <th>min</th>\n",
       "      <th>25%</th>\n",
       "      <th>50%</th>\n",
       "      <th>75%</th>\n",
       "      <th>max</th>\n",
       "    </tr>\n",
       "  </thead>\n",
       "  <tbody>\n",
       "    <tr>\n",
       "      <th>tx_price</th>\n",
       "      <td>1883.0</td>\n",
       "      <td>422839.807754</td>\n",
       "      <td>151462.593276</td>\n",
       "      <td>200000.0</td>\n",
       "      <td>300000.0</td>\n",
       "      <td>392000.0</td>\n",
       "      <td>525000.0</td>\n",
       "      <td>800000.0</td>\n",
       "    </tr>\n",
       "    <tr>\n",
       "      <th>beds</th>\n",
       "      <td>1883.0</td>\n",
       "      <td>3.420605</td>\n",
       "      <td>1.068554</td>\n",
       "      <td>1.0</td>\n",
       "      <td>3.0</td>\n",
       "      <td>3.0</td>\n",
       "      <td>4.0</td>\n",
       "      <td>5.0</td>\n",
       "    </tr>\n",
       "    <tr>\n",
       "      <th>baths</th>\n",
       "      <td>1883.0</td>\n",
       "      <td>2.579926</td>\n",
       "      <td>0.945576</td>\n",
       "      <td>1.0</td>\n",
       "      <td>2.0</td>\n",
       "      <td>3.0</td>\n",
       "      <td>3.0</td>\n",
       "      <td>6.0</td>\n",
       "    </tr>\n",
       "    <tr>\n",
       "      <th>sqft</th>\n",
       "      <td>1883.0</td>\n",
       "      <td>2329.398832</td>\n",
       "      <td>1336.991858</td>\n",
       "      <td>500.0</td>\n",
       "      <td>1345.0</td>\n",
       "      <td>1907.0</td>\n",
       "      <td>3005.0</td>\n",
       "      <td>8450.0</td>\n",
       "    </tr>\n",
       "    <tr>\n",
       "      <th>year_built</th>\n",
       "      <td>1883.0</td>\n",
       "      <td>1982.963887</td>\n",
       "      <td>20.295945</td>\n",
       "      <td>1880.0</td>\n",
       "      <td>1970.0</td>\n",
       "      <td>1986.0</td>\n",
       "      <td>2000.0</td>\n",
       "      <td>2015.0</td>\n",
       "    </tr>\n",
       "    <tr>\n",
       "      <th>lot_size</th>\n",
       "      <td>1883.0</td>\n",
       "      <td>13392.620287</td>\n",
       "      <td>44949.303601</td>\n",
       "      <td>0.0</td>\n",
       "      <td>1542.0</td>\n",
       "      <td>6098.0</td>\n",
       "      <td>11761.0</td>\n",
       "      <td>1220551.0</td>\n",
       "    </tr>\n",
       "    <tr>\n",
       "      <th>basement</th>\n",
       "      <td>1657.0</td>\n",
       "      <td>1.000000</td>\n",
       "      <td>0.000000</td>\n",
       "      <td>1.0</td>\n",
       "      <td>1.0</td>\n",
       "      <td>1.0</td>\n",
       "      <td>1.0</td>\n",
       "      <td>1.0</td>\n",
       "    </tr>\n",
       "    <tr>\n",
       "      <th>restaurants</th>\n",
       "      <td>1883.0</td>\n",
       "      <td>40.210303</td>\n",
       "      <td>46.867012</td>\n",
       "      <td>0.0</td>\n",
       "      <td>7.0</td>\n",
       "      <td>23.0</td>\n",
       "      <td>58.0</td>\n",
       "      <td>266.0</td>\n",
       "    </tr>\n",
       "    <tr>\n",
       "      <th>groceries</th>\n",
       "      <td>1883.0</td>\n",
       "      <td>4.505045</td>\n",
       "      <td>4.491029</td>\n",
       "      <td>0.0</td>\n",
       "      <td>1.0</td>\n",
       "      <td>3.0</td>\n",
       "      <td>7.0</td>\n",
       "      <td>24.0</td>\n",
       "    </tr>\n",
       "    <tr>\n",
       "      <th>nightlife</th>\n",
       "      <td>1883.0</td>\n",
       "      <td>5.074881</td>\n",
       "      <td>8.464668</td>\n",
       "      <td>0.0</td>\n",
       "      <td>0.0</td>\n",
       "      <td>2.0</td>\n",
       "      <td>6.0</td>\n",
       "      <td>54.0</td>\n",
       "    </tr>\n",
       "    <tr>\n",
       "      <th>cafes</th>\n",
       "      <td>1883.0</td>\n",
       "      <td>5.325013</td>\n",
       "      <td>7.539309</td>\n",
       "      <td>0.0</td>\n",
       "      <td>0.0</td>\n",
       "      <td>3.0</td>\n",
       "      <td>6.0</td>\n",
       "      <td>47.0</td>\n",
       "    </tr>\n",
       "    <tr>\n",
       "      <th>shopping</th>\n",
       "      <td>1883.0</td>\n",
       "      <td>40.802443</td>\n",
       "      <td>53.539296</td>\n",
       "      <td>0.0</td>\n",
       "      <td>6.0</td>\n",
       "      <td>22.0</td>\n",
       "      <td>51.0</td>\n",
       "      <td>340.0</td>\n",
       "    </tr>\n",
       "    <tr>\n",
       "      <th>arts_entertainment</th>\n",
       "      <td>1883.0</td>\n",
       "      <td>3.394052</td>\n",
       "      <td>4.699787</td>\n",
       "      <td>0.0</td>\n",
       "      <td>0.0</td>\n",
       "      <td>2.0</td>\n",
       "      <td>5.0</td>\n",
       "      <td>35.0</td>\n",
       "    </tr>\n",
       "    <tr>\n",
       "      <th>beauty_spas</th>\n",
       "      <td>1883.0</td>\n",
       "      <td>23.416888</td>\n",
       "      <td>25.776916</td>\n",
       "      <td>0.0</td>\n",
       "      <td>4.0</td>\n",
       "      <td>15.0</td>\n",
       "      <td>35.0</td>\n",
       "      <td>177.0</td>\n",
       "    </tr>\n",
       "    <tr>\n",
       "      <th>active_life</th>\n",
       "      <td>1883.0</td>\n",
       "      <td>15.835369</td>\n",
       "      <td>17.667717</td>\n",
       "      <td>0.0</td>\n",
       "      <td>4.0</td>\n",
       "      <td>10.0</td>\n",
       "      <td>21.0</td>\n",
       "      <td>94.0</td>\n",
       "    </tr>\n",
       "    <tr>\n",
       "      <th>median_age</th>\n",
       "      <td>1883.0</td>\n",
       "      <td>38.601168</td>\n",
       "      <td>6.634110</td>\n",
       "      <td>22.0</td>\n",
       "      <td>33.0</td>\n",
       "      <td>38.0</td>\n",
       "      <td>43.0</td>\n",
       "      <td>69.0</td>\n",
       "    </tr>\n",
       "    <tr>\n",
       "      <th>married</th>\n",
       "      <td>1883.0</td>\n",
       "      <td>69.091875</td>\n",
       "      <td>19.659767</td>\n",
       "      <td>11.0</td>\n",
       "      <td>58.0</td>\n",
       "      <td>73.0</td>\n",
       "      <td>84.0</td>\n",
       "      <td>100.0</td>\n",
       "    </tr>\n",
       "    <tr>\n",
       "      <th>college_grad</th>\n",
       "      <td>1883.0</td>\n",
       "      <td>65.085502</td>\n",
       "      <td>16.953165</td>\n",
       "      <td>5.0</td>\n",
       "      <td>54.0</td>\n",
       "      <td>66.0</td>\n",
       "      <td>78.0</td>\n",
       "      <td>100.0</td>\n",
       "    </tr>\n",
       "    <tr>\n",
       "      <th>property_tax</th>\n",
       "      <td>1883.0</td>\n",
       "      <td>466.777483</td>\n",
       "      <td>231.656645</td>\n",
       "      <td>88.0</td>\n",
       "      <td>320.0</td>\n",
       "      <td>426.0</td>\n",
       "      <td>569.0</td>\n",
       "      <td>4508.0</td>\n",
       "    </tr>\n",
       "    <tr>\n",
       "      <th>insurance</th>\n",
       "      <td>1883.0</td>\n",
       "      <td>140.454063</td>\n",
       "      <td>72.929765</td>\n",
       "      <td>30.0</td>\n",
       "      <td>94.0</td>\n",
       "      <td>125.0</td>\n",
       "      <td>169.0</td>\n",
       "      <td>1374.0</td>\n",
       "    </tr>\n",
       "    <tr>\n",
       "      <th>median_school</th>\n",
       "      <td>1883.0</td>\n",
       "      <td>6.502921</td>\n",
       "      <td>1.996109</td>\n",
       "      <td>1.0</td>\n",
       "      <td>5.0</td>\n",
       "      <td>7.0</td>\n",
       "      <td>8.0</td>\n",
       "      <td>10.0</td>\n",
       "    </tr>\n",
       "    <tr>\n",
       "      <th>num_schools</th>\n",
       "      <td>1883.0</td>\n",
       "      <td>2.793415</td>\n",
       "      <td>0.505358</td>\n",
       "      <td>1.0</td>\n",
       "      <td>3.0</td>\n",
       "      <td>3.0</td>\n",
       "      <td>3.0</td>\n",
       "      <td>4.0</td>\n",
       "    </tr>\n",
       "    <tr>\n",
       "      <th>tx_year</th>\n",
       "      <td>1883.0</td>\n",
       "      <td>2007.111524</td>\n",
       "      <td>5.196898</td>\n",
       "      <td>1993.0</td>\n",
       "      <td>2004.0</td>\n",
       "      <td>2007.0</td>\n",
       "      <td>2011.0</td>\n",
       "      <td>2016.0</td>\n",
       "    </tr>\n",
       "  </tbody>\n",
       "</table>\n",
       "</div>"
      ],
      "text/plain": [
       "                     count           mean            std       min       25%  \\\n",
       "tx_price            1883.0  422839.807754  151462.593276  200000.0  300000.0   \n",
       "beds                1883.0       3.420605       1.068554       1.0       3.0   \n",
       "baths               1883.0       2.579926       0.945576       1.0       2.0   \n",
       "sqft                1883.0    2329.398832    1336.991858     500.0    1345.0   \n",
       "year_built          1883.0    1982.963887      20.295945    1880.0    1970.0   \n",
       "lot_size            1883.0   13392.620287   44949.303601       0.0    1542.0   \n",
       "basement            1657.0       1.000000       0.000000       1.0       1.0   \n",
       "restaurants         1883.0      40.210303      46.867012       0.0       7.0   \n",
       "groceries           1883.0       4.505045       4.491029       0.0       1.0   \n",
       "nightlife           1883.0       5.074881       8.464668       0.0       0.0   \n",
       "cafes               1883.0       5.325013       7.539309       0.0       0.0   \n",
       "shopping            1883.0      40.802443      53.539296       0.0       6.0   \n",
       "arts_entertainment  1883.0       3.394052       4.699787       0.0       0.0   \n",
       "beauty_spas         1883.0      23.416888      25.776916       0.0       4.0   \n",
       "active_life         1883.0      15.835369      17.667717       0.0       4.0   \n",
       "median_age          1883.0      38.601168       6.634110      22.0      33.0   \n",
       "married             1883.0      69.091875      19.659767      11.0      58.0   \n",
       "college_grad        1883.0      65.085502      16.953165       5.0      54.0   \n",
       "property_tax        1883.0     466.777483     231.656645      88.0     320.0   \n",
       "insurance           1883.0     140.454063      72.929765      30.0      94.0   \n",
       "median_school       1883.0       6.502921       1.996109       1.0       5.0   \n",
       "num_schools         1883.0       2.793415       0.505358       1.0       3.0   \n",
       "tx_year             1883.0    2007.111524       5.196898    1993.0    2004.0   \n",
       "\n",
       "                         50%       75%        max  \n",
       "tx_price            392000.0  525000.0   800000.0  \n",
       "beds                     3.0       4.0        5.0  \n",
       "baths                    3.0       3.0        6.0  \n",
       "sqft                  1907.0    3005.0     8450.0  \n",
       "year_built            1986.0    2000.0     2015.0  \n",
       "lot_size              6098.0   11761.0  1220551.0  \n",
       "basement                 1.0       1.0        1.0  \n",
       "restaurants             23.0      58.0      266.0  \n",
       "groceries                3.0       7.0       24.0  \n",
       "nightlife                2.0       6.0       54.0  \n",
       "cafes                    3.0       6.0       47.0  \n",
       "shopping                22.0      51.0      340.0  \n",
       "arts_entertainment       2.0       5.0       35.0  \n",
       "beauty_spas             15.0      35.0      177.0  \n",
       "active_life             10.0      21.0       94.0  \n",
       "median_age              38.0      43.0       69.0  \n",
       "married                 73.0      84.0      100.0  \n",
       "college_grad            66.0      78.0      100.0  \n",
       "property_tax           426.0     569.0     4508.0  \n",
       "insurance              125.0     169.0     1374.0  \n",
       "median_school            7.0       8.0       10.0  \n",
       "num_schools              3.0       3.0        4.0  \n",
       "tx_year               2007.0    2011.0     2016.0  "
      ]
     },
     "execution_count": 10,
     "metadata": {},
     "output_type": "execute_result"
    }
   ],
   "source": [
    "df.describe().T"
   ]
  },
  {
   "cell_type": "code",
   "execution_count": 11,
   "metadata": {},
   "outputs": [
    {
     "data": {
      "text/html": [
       "<div>\n",
       "<style scoped>\n",
       "    .dataframe tbody tr th:only-of-type {\n",
       "        vertical-align: middle;\n",
       "    }\n",
       "\n",
       "    .dataframe tbody tr th {\n",
       "        vertical-align: top;\n",
       "    }\n",
       "\n",
       "    .dataframe thead th {\n",
       "        text-align: right;\n",
       "    }\n",
       "</style>\n",
       "<table border=\"1\" class=\"dataframe\">\n",
       "  <thead>\n",
       "    <tr style=\"text-align: right;\">\n",
       "      <th></th>\n",
       "      <th>property_type</th>\n",
       "      <th>exterior_walls</th>\n",
       "      <th>roof</th>\n",
       "    </tr>\n",
       "  </thead>\n",
       "  <tbody>\n",
       "    <tr>\n",
       "      <th>count</th>\n",
       "      <td>1883</td>\n",
       "      <td>1660</td>\n",
       "      <td>1529</td>\n",
       "    </tr>\n",
       "    <tr>\n",
       "      <th>unique</th>\n",
       "      <td>2</td>\n",
       "      <td>16</td>\n",
       "      <td>16</td>\n",
       "    </tr>\n",
       "    <tr>\n",
       "      <th>top</th>\n",
       "      <td>Single-Family</td>\n",
       "      <td>Brick</td>\n",
       "      <td>Composition Shingle</td>\n",
       "    </tr>\n",
       "    <tr>\n",
       "      <th>freq</th>\n",
       "      <td>1080</td>\n",
       "      <td>687</td>\n",
       "      <td>1179</td>\n",
       "    </tr>\n",
       "  </tbody>\n",
       "</table>\n",
       "</div>"
      ],
      "text/plain": [
       "        property_type exterior_walls                 roof\n",
       "count            1883           1660                 1529\n",
       "unique              2             16                   16\n",
       "top     Single-Family          Brick  Composition Shingle\n",
       "freq             1080            687                 1179"
      ]
     },
     "execution_count": 11,
     "metadata": {},
     "output_type": "execute_result"
    }
   ],
   "source": [
    "df.describe(include=['object'])"
   ]
  },
  {
   "cell_type": "code",
   "execution_count": 12,
   "metadata": {},
   "outputs": [
    {
     "data": {
      "text/html": [
       "<div>\n",
       "<style scoped>\n",
       "    .dataframe tbody tr th:only-of-type {\n",
       "        vertical-align: middle;\n",
       "    }\n",
       "\n",
       "    .dataframe tbody tr th {\n",
       "        vertical-align: top;\n",
       "    }\n",
       "\n",
       "    .dataframe thead th {\n",
       "        text-align: right;\n",
       "    }\n",
       "</style>\n",
       "<table border=\"1\" class=\"dataframe\">\n",
       "  <thead>\n",
       "    <tr style=\"text-align: right;\">\n",
       "      <th></th>\n",
       "      <th>Skewness</th>\n",
       "      <th>Kurtosis</th>\n",
       "    </tr>\n",
       "  </thead>\n",
       "  <tbody>\n",
       "    <tr>\n",
       "      <th>tx_price</th>\n",
       "      <td>0.638626</td>\n",
       "      <td>-0.500774</td>\n",
       "    </tr>\n",
       "    <tr>\n",
       "      <th>beds</th>\n",
       "      <td>-0.325058</td>\n",
       "      <td>-0.476143</td>\n",
       "    </tr>\n",
       "    <tr>\n",
       "      <th>baths</th>\n",
       "      <td>0.365652</td>\n",
       "      <td>0.195274</td>\n",
       "    </tr>\n",
       "    <tr>\n",
       "      <th>sqft</th>\n",
       "      <td>1.289462</td>\n",
       "      <td>1.466777</td>\n",
       "    </tr>\n",
       "    <tr>\n",
       "      <th>year_built</th>\n",
       "      <td>-0.812855</td>\n",
       "      <td>0.471197</td>\n",
       "    </tr>\n",
       "    <tr>\n",
       "      <th>lot_size</th>\n",
       "      <td>14.455869</td>\n",
       "      <td>309.214280</td>\n",
       "    </tr>\n",
       "    <tr>\n",
       "      <th>basement</th>\n",
       "      <td>0.000000</td>\n",
       "      <td>0.000000</td>\n",
       "    </tr>\n",
       "    <tr>\n",
       "      <th>restaurants</th>\n",
       "      <td>1.783391</td>\n",
       "      <td>3.072467</td>\n",
       "    </tr>\n",
       "    <tr>\n",
       "      <th>groceries</th>\n",
       "      <td>1.146555</td>\n",
       "      <td>0.868140</td>\n",
       "    </tr>\n",
       "    <tr>\n",
       "      <th>nightlife</th>\n",
       "      <td>2.707633</td>\n",
       "      <td>7.515349</td>\n",
       "    </tr>\n",
       "    <tr>\n",
       "      <th>cafes</th>\n",
       "      <td>2.252346</td>\n",
       "      <td>5.259277</td>\n",
       "    </tr>\n",
       "    <tr>\n",
       "      <th>shopping</th>\n",
       "      <td>2.601487</td>\n",
       "      <td>8.235567</td>\n",
       "    </tr>\n",
       "    <tr>\n",
       "      <th>arts_entertainment</th>\n",
       "      <td>2.610006</td>\n",
       "      <td>9.428858</td>\n",
       "    </tr>\n",
       "    <tr>\n",
       "      <th>beauty_spas</th>\n",
       "      <td>2.011830</td>\n",
       "      <td>6.157314</td>\n",
       "    </tr>\n",
       "    <tr>\n",
       "      <th>active_life</th>\n",
       "      <td>2.097870</td>\n",
       "      <td>4.670398</td>\n",
       "    </tr>\n",
       "    <tr>\n",
       "      <th>median_age</th>\n",
       "      <td>0.766448</td>\n",
       "      <td>0.775962</td>\n",
       "    </tr>\n",
       "    <tr>\n",
       "      <th>married</th>\n",
       "      <td>-0.854013</td>\n",
       "      <td>0.085079</td>\n",
       "    </tr>\n",
       "    <tr>\n",
       "      <th>college_grad</th>\n",
       "      <td>-0.447141</td>\n",
       "      <td>-0.341533</td>\n",
       "    </tr>\n",
       "    <tr>\n",
       "      <th>property_tax</th>\n",
       "      <td>4.155805</td>\n",
       "      <td>52.542190</td>\n",
       "    </tr>\n",
       "    <tr>\n",
       "      <th>insurance</th>\n",
       "      <td>4.129930</td>\n",
       "      <td>48.064251</td>\n",
       "    </tr>\n",
       "    <tr>\n",
       "      <th>median_school</th>\n",
       "      <td>-0.354464</td>\n",
       "      <td>-0.822654</td>\n",
       "    </tr>\n",
       "    <tr>\n",
       "      <th>num_schools</th>\n",
       "      <td>-2.384307</td>\n",
       "      <td>4.877331</td>\n",
       "    </tr>\n",
       "    <tr>\n",
       "      <th>tx_year</th>\n",
       "      <td>-0.471612</td>\n",
       "      <td>-0.313736</td>\n",
       "    </tr>\n",
       "  </tbody>\n",
       "</table>\n",
       "</div>"
      ],
      "text/plain": [
       "                     Skewness    Kurtosis\n",
       "tx_price             0.638626   -0.500774\n",
       "beds                -0.325058   -0.476143\n",
       "baths                0.365652    0.195274\n",
       "sqft                 1.289462    1.466777\n",
       "year_built          -0.812855    0.471197\n",
       "lot_size            14.455869  309.214280\n",
       "basement             0.000000    0.000000\n",
       "restaurants          1.783391    3.072467\n",
       "groceries            1.146555    0.868140\n",
       "nightlife            2.707633    7.515349\n",
       "cafes                2.252346    5.259277\n",
       "shopping             2.601487    8.235567\n",
       "arts_entertainment   2.610006    9.428858\n",
       "beauty_spas          2.011830    6.157314\n",
       "active_life          2.097870    4.670398\n",
       "median_age           0.766448    0.775962\n",
       "married             -0.854013    0.085079\n",
       "college_grad        -0.447141   -0.341533\n",
       "property_tax         4.155805   52.542190\n",
       "insurance            4.129930   48.064251\n",
       "median_school       -0.354464   -0.822654\n",
       "num_schools         -2.384307    4.877331\n",
       "tx_year             -0.471612   -0.313736"
      ]
     },
     "execution_count": 12,
     "metadata": {},
     "output_type": "execute_result"
    }
   ],
   "source": [
    "# skewness & kurtosis\n",
    "pd.DataFrame({\"Skewness\": df.skew(), \"Kurtosis\": df.kurt()})"
   ]
  },
  {
   "cell_type": "code",
   "execution_count": 13,
   "metadata": {},
   "outputs": [
    {
     "data": {
      "text/html": [
       "<div>\n",
       "<style scoped>\n",
       "    .dataframe tbody tr th:only-of-type {\n",
       "        vertical-align: middle;\n",
       "    }\n",
       "\n",
       "    .dataframe tbody tr th {\n",
       "        vertical-align: top;\n",
       "    }\n",
       "\n",
       "    .dataframe thead th {\n",
       "        text-align: right;\n",
       "    }\n",
       "</style>\n",
       "<table border=\"1\" class=\"dataframe\">\n",
       "  <thead>\n",
       "    <tr style=\"text-align: right;\">\n",
       "      <th></th>\n",
       "      <th>tx_price</th>\n",
       "      <th>beds</th>\n",
       "      <th>baths</th>\n",
       "      <th>sqft</th>\n",
       "      <th>year_built</th>\n",
       "      <th>lot_size</th>\n",
       "      <th>basement</th>\n",
       "      <th>restaurants</th>\n",
       "      <th>groceries</th>\n",
       "      <th>nightlife</th>\n",
       "      <th>...</th>\n",
       "      <th>beauty_spas</th>\n",
       "      <th>active_life</th>\n",
       "      <th>median_age</th>\n",
       "      <th>married</th>\n",
       "      <th>college_grad</th>\n",
       "      <th>property_tax</th>\n",
       "      <th>insurance</th>\n",
       "      <th>median_school</th>\n",
       "      <th>num_schools</th>\n",
       "      <th>tx_year</th>\n",
       "    </tr>\n",
       "  </thead>\n",
       "  <tbody>\n",
       "    <tr>\n",
       "      <th>tx_price</th>\n",
       "      <td>1.000000</td>\n",
       "      <td>0.384046</td>\n",
       "      <td>0.389375</td>\n",
       "      <td>0.469573</td>\n",
       "      <td>0.033138</td>\n",
       "      <td>0.130558</td>\n",
       "      <td>NaN</td>\n",
       "      <td>-0.038027</td>\n",
       "      <td>-0.094314</td>\n",
       "      <td>0.009361</td>\n",
       "      <td>...</td>\n",
       "      <td>-0.054349</td>\n",
       "      <td>-0.001165</td>\n",
       "      <td>0.126335</td>\n",
       "      <td>0.200494</td>\n",
       "      <td>0.268577</td>\n",
       "      <td>0.535148</td>\n",
       "      <td>0.532947</td>\n",
       "      <td>0.175762</td>\n",
       "      <td>-0.014380</td>\n",
       "      <td>0.108782</td>\n",
       "    </tr>\n",
       "    <tr>\n",
       "      <th>beds</th>\n",
       "      <td>0.384046</td>\n",
       "      <td>1.000000</td>\n",
       "      <td>0.644572</td>\n",
       "      <td>0.691039</td>\n",
       "      <td>-0.011844</td>\n",
       "      <td>0.164399</td>\n",
       "      <td>NaN</td>\n",
       "      <td>-0.495834</td>\n",
       "      <td>-0.421412</td>\n",
       "      <td>-0.440844</td>\n",
       "      <td>...</td>\n",
       "      <td>-0.419832</td>\n",
       "      <td>-0.486957</td>\n",
       "      <td>0.133711</td>\n",
       "      <td>0.643240</td>\n",
       "      <td>-0.082354</td>\n",
       "      <td>0.547643</td>\n",
       "      <td>0.485776</td>\n",
       "      <td>0.137309</td>\n",
       "      <td>-0.124359</td>\n",
       "      <td>-0.174081</td>\n",
       "    </tr>\n",
       "    <tr>\n",
       "      <th>baths</th>\n",
       "      <td>0.389375</td>\n",
       "      <td>0.644572</td>\n",
       "      <td>1.000000</td>\n",
       "      <td>0.682060</td>\n",
       "      <td>0.206141</td>\n",
       "      <td>0.132976</td>\n",
       "      <td>NaN</td>\n",
       "      <td>-0.350210</td>\n",
       "      <td>-0.340024</td>\n",
       "      <td>-0.306686</td>\n",
       "      <td>...</td>\n",
       "      <td>-0.282008</td>\n",
       "      <td>-0.329736</td>\n",
       "      <td>0.095844</td>\n",
       "      <td>0.442225</td>\n",
       "      <td>0.016097</td>\n",
       "      <td>0.525776</td>\n",
       "      <td>0.475430</td>\n",
       "      <td>0.163365</td>\n",
       "      <td>-0.088299</td>\n",
       "      <td>-0.132110</td>\n",
       "    </tr>\n",
       "    <tr>\n",
       "      <th>sqft</th>\n",
       "      <td>0.469573</td>\n",
       "      <td>0.691039</td>\n",
       "      <td>0.682060</td>\n",
       "      <td>1.000000</td>\n",
       "      <td>0.254589</td>\n",
       "      <td>0.246016</td>\n",
       "      <td>NaN</td>\n",
       "      <td>-0.353759</td>\n",
       "      <td>-0.371167</td>\n",
       "      <td>-0.281540</td>\n",
       "      <td>...</td>\n",
       "      <td>-0.310465</td>\n",
       "      <td>-0.332663</td>\n",
       "      <td>0.109811</td>\n",
       "      <td>0.480167</td>\n",
       "      <td>0.065343</td>\n",
       "      <td>0.660264</td>\n",
       "      <td>0.594049</td>\n",
       "      <td>0.220669</td>\n",
       "      <td>-0.102032</td>\n",
       "      <td>-0.236190</td>\n",
       "    </tr>\n",
       "    <tr>\n",
       "      <th>year_built</th>\n",
       "      <td>0.033138</td>\n",
       "      <td>-0.011844</td>\n",
       "      <td>0.206141</td>\n",
       "      <td>0.254589</td>\n",
       "      <td>1.000000</td>\n",
       "      <td>0.000068</td>\n",
       "      <td>NaN</td>\n",
       "      <td>-0.106948</td>\n",
       "      <td>-0.222443</td>\n",
       "      <td>-0.080006</td>\n",
       "      <td>...</td>\n",
       "      <td>-0.163670</td>\n",
       "      <td>-0.134919</td>\n",
       "      <td>-0.237152</td>\n",
       "      <td>0.038208</td>\n",
       "      <td>-0.014204</td>\n",
       "      <td>-0.046504</td>\n",
       "      <td>-0.109521</td>\n",
       "      <td>0.155835</td>\n",
       "      <td>-0.188106</td>\n",
       "      <td>-0.043301</td>\n",
       "    </tr>\n",
       "    <tr>\n",
       "      <th>lot_size</th>\n",
       "      <td>0.130558</td>\n",
       "      <td>0.164399</td>\n",
       "      <td>0.132976</td>\n",
       "      <td>0.246016</td>\n",
       "      <td>0.000068</td>\n",
       "      <td>1.000000</td>\n",
       "      <td>NaN</td>\n",
       "      <td>-0.113887</td>\n",
       "      <td>-0.118574</td>\n",
       "      <td>-0.072224</td>\n",
       "      <td>...</td>\n",
       "      <td>-0.121075</td>\n",
       "      <td>-0.092668</td>\n",
       "      <td>0.099140</td>\n",
       "      <td>0.122028</td>\n",
       "      <td>-0.030725</td>\n",
       "      <td>0.165800</td>\n",
       "      <td>0.146579</td>\n",
       "      <td>0.096551</td>\n",
       "      <td>-0.031535</td>\n",
       "      <td>-0.048207</td>\n",
       "    </tr>\n",
       "    <tr>\n",
       "      <th>basement</th>\n",
       "      <td>NaN</td>\n",
       "      <td>NaN</td>\n",
       "      <td>NaN</td>\n",
       "      <td>NaN</td>\n",
       "      <td>NaN</td>\n",
       "      <td>NaN</td>\n",
       "      <td>NaN</td>\n",
       "      <td>NaN</td>\n",
       "      <td>NaN</td>\n",
       "      <td>NaN</td>\n",
       "      <td>...</td>\n",
       "      <td>NaN</td>\n",
       "      <td>NaN</td>\n",
       "      <td>NaN</td>\n",
       "      <td>NaN</td>\n",
       "      <td>NaN</td>\n",
       "      <td>NaN</td>\n",
       "      <td>NaN</td>\n",
       "      <td>NaN</td>\n",
       "      <td>NaN</td>\n",
       "      <td>NaN</td>\n",
       "    </tr>\n",
       "    <tr>\n",
       "      <th>restaurants</th>\n",
       "      <td>-0.038027</td>\n",
       "      <td>-0.495834</td>\n",
       "      <td>-0.350210</td>\n",
       "      <td>-0.353759</td>\n",
       "      <td>-0.106948</td>\n",
       "      <td>-0.113887</td>\n",
       "      <td>NaN</td>\n",
       "      <td>1.000000</td>\n",
       "      <td>0.701462</td>\n",
       "      <td>0.926675</td>\n",
       "      <td>...</td>\n",
       "      <td>0.867829</td>\n",
       "      <td>0.881799</td>\n",
       "      <td>-0.063816</td>\n",
       "      <td>-0.615584</td>\n",
       "      <td>0.214260</td>\n",
       "      <td>-0.100821</td>\n",
       "      <td>-0.019925</td>\n",
       "      <td>-0.068425</td>\n",
       "      <td>0.251171</td>\n",
       "      <td>0.044739</td>\n",
       "    </tr>\n",
       "    <tr>\n",
       "      <th>groceries</th>\n",
       "      <td>-0.094314</td>\n",
       "      <td>-0.421412</td>\n",
       "      <td>-0.340024</td>\n",
       "      <td>-0.371167</td>\n",
       "      <td>-0.222443</td>\n",
       "      <td>-0.118574</td>\n",
       "      <td>NaN</td>\n",
       "      <td>0.701462</td>\n",
       "      <td>1.000000</td>\n",
       "      <td>0.565003</td>\n",
       "      <td>...</td>\n",
       "      <td>0.626850</td>\n",
       "      <td>0.574532</td>\n",
       "      <td>-0.022377</td>\n",
       "      <td>-0.508793</td>\n",
       "      <td>-0.006025</td>\n",
       "      <td>-0.159506</td>\n",
       "      <td>-0.093974</td>\n",
       "      <td>-0.354553</td>\n",
       "      <td>0.272856</td>\n",
       "      <td>0.115674</td>\n",
       "    </tr>\n",
       "    <tr>\n",
       "      <th>nightlife</th>\n",
       "      <td>0.009361</td>\n",
       "      <td>-0.440844</td>\n",
       "      <td>-0.306686</td>\n",
       "      <td>-0.281540</td>\n",
       "      <td>-0.080006</td>\n",
       "      <td>-0.072224</td>\n",
       "      <td>NaN</td>\n",
       "      <td>0.926675</td>\n",
       "      <td>0.565003</td>\n",
       "      <td>1.000000</td>\n",
       "      <td>...</td>\n",
       "      <td>0.777461</td>\n",
       "      <td>0.858836</td>\n",
       "      <td>-0.028611</td>\n",
       "      <td>-0.568811</td>\n",
       "      <td>0.253717</td>\n",
       "      <td>-0.054386</td>\n",
       "      <td>0.024551</td>\n",
       "      <td>-0.036948</td>\n",
       "      <td>0.196399</td>\n",
       "      <td>0.027495</td>\n",
       "    </tr>\n",
       "    <tr>\n",
       "      <th>cafes</th>\n",
       "      <td>-0.001398</td>\n",
       "      <td>-0.464289</td>\n",
       "      <td>-0.316836</td>\n",
       "      <td>-0.300969</td>\n",
       "      <td>-0.102209</td>\n",
       "      <td>-0.098182</td>\n",
       "      <td>NaN</td>\n",
       "      <td>0.937616</td>\n",
       "      <td>0.602857</td>\n",
       "      <td>0.923901</td>\n",
       "      <td>...</td>\n",
       "      <td>0.822541</td>\n",
       "      <td>0.826648</td>\n",
       "      <td>0.026400</td>\n",
       "      <td>-0.581850</td>\n",
       "      <td>0.266652</td>\n",
       "      <td>-0.044410</td>\n",
       "      <td>0.036502</td>\n",
       "      <td>-0.027868</td>\n",
       "      <td>0.224312</td>\n",
       "      <td>0.013558</td>\n",
       "    </tr>\n",
       "    <tr>\n",
       "      <th>shopping</th>\n",
       "      <td>-0.038246</td>\n",
       "      <td>-0.388670</td>\n",
       "      <td>-0.259603</td>\n",
       "      <td>-0.275586</td>\n",
       "      <td>-0.121684</td>\n",
       "      <td>-0.116560</td>\n",
       "      <td>NaN</td>\n",
       "      <td>0.818815</td>\n",
       "      <td>0.526356</td>\n",
       "      <td>0.743321</td>\n",
       "      <td>...</td>\n",
       "      <td>0.860987</td>\n",
       "      <td>0.678515</td>\n",
       "      <td>0.032339</td>\n",
       "      <td>-0.454072</td>\n",
       "      <td>0.177383</td>\n",
       "      <td>-0.040556</td>\n",
       "      <td>0.018846</td>\n",
       "      <td>-0.048058</td>\n",
       "      <td>0.228988</td>\n",
       "      <td>-0.000324</td>\n",
       "    </tr>\n",
       "    <tr>\n",
       "      <th>arts_entertainment</th>\n",
       "      <td>-0.021076</td>\n",
       "      <td>-0.442168</td>\n",
       "      <td>-0.305885</td>\n",
       "      <td>-0.293402</td>\n",
       "      <td>-0.195141</td>\n",
       "      <td>-0.067189</td>\n",
       "      <td>NaN</td>\n",
       "      <td>0.726907</td>\n",
       "      <td>0.502837</td>\n",
       "      <td>0.703038</td>\n",
       "      <td>...</td>\n",
       "      <td>0.757860</td>\n",
       "      <td>0.800994</td>\n",
       "      <td>-0.014640</td>\n",
       "      <td>-0.554533</td>\n",
       "      <td>0.239129</td>\n",
       "      <td>-0.066346</td>\n",
       "      <td>0.015380</td>\n",
       "      <td>-0.138266</td>\n",
       "      <td>0.214163</td>\n",
       "      <td>0.034356</td>\n",
       "    </tr>\n",
       "    <tr>\n",
       "      <th>beauty_spas</th>\n",
       "      <td>-0.054349</td>\n",
       "      <td>-0.419832</td>\n",
       "      <td>-0.282008</td>\n",
       "      <td>-0.310465</td>\n",
       "      <td>-0.163670</td>\n",
       "      <td>-0.121075</td>\n",
       "      <td>NaN</td>\n",
       "      <td>0.867829</td>\n",
       "      <td>0.626850</td>\n",
       "      <td>0.777461</td>\n",
       "      <td>...</td>\n",
       "      <td>1.000000</td>\n",
       "      <td>0.785920</td>\n",
       "      <td>-0.002961</td>\n",
       "      <td>-0.510331</td>\n",
       "      <td>0.177066</td>\n",
       "      <td>-0.057293</td>\n",
       "      <td>0.010980</td>\n",
       "      <td>-0.098727</td>\n",
       "      <td>0.262651</td>\n",
       "      <td>0.008066</td>\n",
       "    </tr>\n",
       "    <tr>\n",
       "      <th>active_life</th>\n",
       "      <td>-0.001165</td>\n",
       "      <td>-0.486957</td>\n",
       "      <td>-0.329736</td>\n",
       "      <td>-0.332663</td>\n",
       "      <td>-0.134919</td>\n",
       "      <td>-0.092668</td>\n",
       "      <td>NaN</td>\n",
       "      <td>0.881799</td>\n",
       "      <td>0.574532</td>\n",
       "      <td>0.858836</td>\n",
       "      <td>...</td>\n",
       "      <td>0.785920</td>\n",
       "      <td>1.000000</td>\n",
       "      <td>-0.081159</td>\n",
       "      <td>-0.632052</td>\n",
       "      <td>0.323985</td>\n",
       "      <td>-0.057646</td>\n",
       "      <td>0.030911</td>\n",
       "      <td>0.007675</td>\n",
       "      <td>0.235246</td>\n",
       "      <td>0.028759</td>\n",
       "    </tr>\n",
       "    <tr>\n",
       "      <th>median_age</th>\n",
       "      <td>0.126335</td>\n",
       "      <td>0.133711</td>\n",
       "      <td>0.095844</td>\n",
       "      <td>0.109811</td>\n",
       "      <td>-0.237152</td>\n",
       "      <td>0.099140</td>\n",
       "      <td>NaN</td>\n",
       "      <td>-0.063816</td>\n",
       "      <td>-0.022377</td>\n",
       "      <td>-0.028611</td>\n",
       "      <td>...</td>\n",
       "      <td>-0.002961</td>\n",
       "      <td>-0.081159</td>\n",
       "      <td>1.000000</td>\n",
       "      <td>0.045555</td>\n",
       "      <td>0.169749</td>\n",
       "      <td>0.215435</td>\n",
       "      <td>0.232503</td>\n",
       "      <td>-0.002861</td>\n",
       "      <td>0.071455</td>\n",
       "      <td>-0.118490</td>\n",
       "    </tr>\n",
       "    <tr>\n",
       "      <th>married</th>\n",
       "      <td>0.200494</td>\n",
       "      <td>0.643240</td>\n",
       "      <td>0.442225</td>\n",
       "      <td>0.480167</td>\n",
       "      <td>0.038208</td>\n",
       "      <td>0.122028</td>\n",
       "      <td>NaN</td>\n",
       "      <td>-0.615584</td>\n",
       "      <td>-0.508793</td>\n",
       "      <td>-0.568811</td>\n",
       "      <td>...</td>\n",
       "      <td>-0.510331</td>\n",
       "      <td>-0.632052</td>\n",
       "      <td>0.045555</td>\n",
       "      <td>1.000000</td>\n",
       "      <td>-0.143461</td>\n",
       "      <td>0.305330</td>\n",
       "      <td>0.233701</td>\n",
       "      <td>0.169439</td>\n",
       "      <td>-0.212870</td>\n",
       "      <td>-0.134787</td>\n",
       "    </tr>\n",
       "    <tr>\n",
       "      <th>college_grad</th>\n",
       "      <td>0.268577</td>\n",
       "      <td>-0.082354</td>\n",
       "      <td>0.016097</td>\n",
       "      <td>0.065343</td>\n",
       "      <td>-0.014204</td>\n",
       "      <td>-0.030725</td>\n",
       "      <td>NaN</td>\n",
       "      <td>0.214260</td>\n",
       "      <td>-0.006025</td>\n",
       "      <td>0.253717</td>\n",
       "      <td>...</td>\n",
       "      <td>0.177066</td>\n",
       "      <td>0.323985</td>\n",
       "      <td>0.169749</td>\n",
       "      <td>-0.143461</td>\n",
       "      <td>1.000000</td>\n",
       "      <td>0.287933</td>\n",
       "      <td>0.326057</td>\n",
       "      <td>0.400306</td>\n",
       "      <td>0.049756</td>\n",
       "      <td>-0.189932</td>\n",
       "    </tr>\n",
       "    <tr>\n",
       "      <th>property_tax</th>\n",
       "      <td>0.535148</td>\n",
       "      <td>0.547643</td>\n",
       "      <td>0.525776</td>\n",
       "      <td>0.660264</td>\n",
       "      <td>-0.046504</td>\n",
       "      <td>0.165800</td>\n",
       "      <td>NaN</td>\n",
       "      <td>-0.100821</td>\n",
       "      <td>-0.159506</td>\n",
       "      <td>-0.054386</td>\n",
       "      <td>...</td>\n",
       "      <td>-0.057293</td>\n",
       "      <td>-0.057646</td>\n",
       "      <td>0.215435</td>\n",
       "      <td>0.305330</td>\n",
       "      <td>0.287933</td>\n",
       "      <td>1.000000</td>\n",
       "      <td>0.984724</td>\n",
       "      <td>0.237455</td>\n",
       "      <td>0.037342</td>\n",
       "      <td>-0.257703</td>\n",
       "    </tr>\n",
       "    <tr>\n",
       "      <th>insurance</th>\n",
       "      <td>0.532947</td>\n",
       "      <td>0.485776</td>\n",
       "      <td>0.475430</td>\n",
       "      <td>0.594049</td>\n",
       "      <td>-0.109521</td>\n",
       "      <td>0.146579</td>\n",
       "      <td>NaN</td>\n",
       "      <td>-0.019925</td>\n",
       "      <td>-0.093974</td>\n",
       "      <td>0.024551</td>\n",
       "      <td>...</td>\n",
       "      <td>0.010980</td>\n",
       "      <td>0.030911</td>\n",
       "      <td>0.232503</td>\n",
       "      <td>0.233701</td>\n",
       "      <td>0.326057</td>\n",
       "      <td>0.984724</td>\n",
       "      <td>1.000000</td>\n",
       "      <td>0.234889</td>\n",
       "      <td>0.056985</td>\n",
       "      <td>-0.254706</td>\n",
       "    </tr>\n",
       "    <tr>\n",
       "      <th>median_school</th>\n",
       "      <td>0.175762</td>\n",
       "      <td>0.137309</td>\n",
       "      <td>0.163365</td>\n",
       "      <td>0.220669</td>\n",
       "      <td>0.155835</td>\n",
       "      <td>0.096551</td>\n",
       "      <td>NaN</td>\n",
       "      <td>-0.068425</td>\n",
       "      <td>-0.354553</td>\n",
       "      <td>-0.036948</td>\n",
       "      <td>...</td>\n",
       "      <td>-0.098727</td>\n",
       "      <td>0.007675</td>\n",
       "      <td>-0.002861</td>\n",
       "      <td>0.169439</td>\n",
       "      <td>0.400306</td>\n",
       "      <td>0.237455</td>\n",
       "      <td>0.234889</td>\n",
       "      <td>1.000000</td>\n",
       "      <td>-0.145572</td>\n",
       "      <td>-0.167141</td>\n",
       "    </tr>\n",
       "    <tr>\n",
       "      <th>num_schools</th>\n",
       "      <td>-0.014380</td>\n",
       "      <td>-0.124359</td>\n",
       "      <td>-0.088299</td>\n",
       "      <td>-0.102032</td>\n",
       "      <td>-0.188106</td>\n",
       "      <td>-0.031535</td>\n",
       "      <td>NaN</td>\n",
       "      <td>0.251171</td>\n",
       "      <td>0.272856</td>\n",
       "      <td>0.196399</td>\n",
       "      <td>...</td>\n",
       "      <td>0.262651</td>\n",
       "      <td>0.235246</td>\n",
       "      <td>0.071455</td>\n",
       "      <td>-0.212870</td>\n",
       "      <td>0.049756</td>\n",
       "      <td>0.037342</td>\n",
       "      <td>0.056985</td>\n",
       "      <td>-0.145572</td>\n",
       "      <td>1.000000</td>\n",
       "      <td>0.007361</td>\n",
       "    </tr>\n",
       "    <tr>\n",
       "      <th>tx_year</th>\n",
       "      <td>0.108782</td>\n",
       "      <td>-0.174081</td>\n",
       "      <td>-0.132110</td>\n",
       "      <td>-0.236190</td>\n",
       "      <td>-0.043301</td>\n",
       "      <td>-0.048207</td>\n",
       "      <td>NaN</td>\n",
       "      <td>0.044739</td>\n",
       "      <td>0.115674</td>\n",
       "      <td>0.027495</td>\n",
       "      <td>...</td>\n",
       "      <td>0.008066</td>\n",
       "      <td>0.028759</td>\n",
       "      <td>-0.118490</td>\n",
       "      <td>-0.134787</td>\n",
       "      <td>-0.189932</td>\n",
       "      <td>-0.257703</td>\n",
       "      <td>-0.254706</td>\n",
       "      <td>-0.167141</td>\n",
       "      <td>0.007361</td>\n",
       "      <td>1.000000</td>\n",
       "    </tr>\n",
       "  </tbody>\n",
       "</table>\n",
       "<p>23 rows × 23 columns</p>\n",
       "</div>"
      ],
      "text/plain": [
       "                    tx_price      beds     baths      sqft  year_built  \\\n",
       "tx_price            1.000000  0.384046  0.389375  0.469573    0.033138   \n",
       "beds                0.384046  1.000000  0.644572  0.691039   -0.011844   \n",
       "baths               0.389375  0.644572  1.000000  0.682060    0.206141   \n",
       "sqft                0.469573  0.691039  0.682060  1.000000    0.254589   \n",
       "year_built          0.033138 -0.011844  0.206141  0.254589    1.000000   \n",
       "lot_size            0.130558  0.164399  0.132976  0.246016    0.000068   \n",
       "basement                 NaN       NaN       NaN       NaN         NaN   \n",
       "restaurants        -0.038027 -0.495834 -0.350210 -0.353759   -0.106948   \n",
       "groceries          -0.094314 -0.421412 -0.340024 -0.371167   -0.222443   \n",
       "nightlife           0.009361 -0.440844 -0.306686 -0.281540   -0.080006   \n",
       "cafes              -0.001398 -0.464289 -0.316836 -0.300969   -0.102209   \n",
       "shopping           -0.038246 -0.388670 -0.259603 -0.275586   -0.121684   \n",
       "arts_entertainment -0.021076 -0.442168 -0.305885 -0.293402   -0.195141   \n",
       "beauty_spas        -0.054349 -0.419832 -0.282008 -0.310465   -0.163670   \n",
       "active_life        -0.001165 -0.486957 -0.329736 -0.332663   -0.134919   \n",
       "median_age          0.126335  0.133711  0.095844  0.109811   -0.237152   \n",
       "married             0.200494  0.643240  0.442225  0.480167    0.038208   \n",
       "college_grad        0.268577 -0.082354  0.016097  0.065343   -0.014204   \n",
       "property_tax        0.535148  0.547643  0.525776  0.660264   -0.046504   \n",
       "insurance           0.532947  0.485776  0.475430  0.594049   -0.109521   \n",
       "median_school       0.175762  0.137309  0.163365  0.220669    0.155835   \n",
       "num_schools        -0.014380 -0.124359 -0.088299 -0.102032   -0.188106   \n",
       "tx_year             0.108782 -0.174081 -0.132110 -0.236190   -0.043301   \n",
       "\n",
       "                    lot_size  basement  restaurants  groceries  nightlife  \\\n",
       "tx_price            0.130558       NaN    -0.038027  -0.094314   0.009361   \n",
       "beds                0.164399       NaN    -0.495834  -0.421412  -0.440844   \n",
       "baths               0.132976       NaN    -0.350210  -0.340024  -0.306686   \n",
       "sqft                0.246016       NaN    -0.353759  -0.371167  -0.281540   \n",
       "year_built          0.000068       NaN    -0.106948  -0.222443  -0.080006   \n",
       "lot_size            1.000000       NaN    -0.113887  -0.118574  -0.072224   \n",
       "basement                 NaN       NaN          NaN        NaN        NaN   \n",
       "restaurants        -0.113887       NaN     1.000000   0.701462   0.926675   \n",
       "groceries          -0.118574       NaN     0.701462   1.000000   0.565003   \n",
       "nightlife          -0.072224       NaN     0.926675   0.565003   1.000000   \n",
       "cafes              -0.098182       NaN     0.937616   0.602857   0.923901   \n",
       "shopping           -0.116560       NaN     0.818815   0.526356   0.743321   \n",
       "arts_entertainment -0.067189       NaN     0.726907   0.502837   0.703038   \n",
       "beauty_spas        -0.121075       NaN     0.867829   0.626850   0.777461   \n",
       "active_life        -0.092668       NaN     0.881799   0.574532   0.858836   \n",
       "median_age          0.099140       NaN    -0.063816  -0.022377  -0.028611   \n",
       "married             0.122028       NaN    -0.615584  -0.508793  -0.568811   \n",
       "college_grad       -0.030725       NaN     0.214260  -0.006025   0.253717   \n",
       "property_tax        0.165800       NaN    -0.100821  -0.159506  -0.054386   \n",
       "insurance           0.146579       NaN    -0.019925  -0.093974   0.024551   \n",
       "median_school       0.096551       NaN    -0.068425  -0.354553  -0.036948   \n",
       "num_schools        -0.031535       NaN     0.251171   0.272856   0.196399   \n",
       "tx_year            -0.048207       NaN     0.044739   0.115674   0.027495   \n",
       "\n",
       "                      ...     beauty_spas  active_life  median_age   married  \\\n",
       "tx_price              ...       -0.054349    -0.001165    0.126335  0.200494   \n",
       "beds                  ...       -0.419832    -0.486957    0.133711  0.643240   \n",
       "baths                 ...       -0.282008    -0.329736    0.095844  0.442225   \n",
       "sqft                  ...       -0.310465    -0.332663    0.109811  0.480167   \n",
       "year_built            ...       -0.163670    -0.134919   -0.237152  0.038208   \n",
       "lot_size              ...       -0.121075    -0.092668    0.099140  0.122028   \n",
       "basement              ...             NaN          NaN         NaN       NaN   \n",
       "restaurants           ...        0.867829     0.881799   -0.063816 -0.615584   \n",
       "groceries             ...        0.626850     0.574532   -0.022377 -0.508793   \n",
       "nightlife             ...        0.777461     0.858836   -0.028611 -0.568811   \n",
       "cafes                 ...        0.822541     0.826648    0.026400 -0.581850   \n",
       "shopping              ...        0.860987     0.678515    0.032339 -0.454072   \n",
       "arts_entertainment    ...        0.757860     0.800994   -0.014640 -0.554533   \n",
       "beauty_spas           ...        1.000000     0.785920   -0.002961 -0.510331   \n",
       "active_life           ...        0.785920     1.000000   -0.081159 -0.632052   \n",
       "median_age            ...       -0.002961    -0.081159    1.000000  0.045555   \n",
       "married               ...       -0.510331    -0.632052    0.045555  1.000000   \n",
       "college_grad          ...        0.177066     0.323985    0.169749 -0.143461   \n",
       "property_tax          ...       -0.057293    -0.057646    0.215435  0.305330   \n",
       "insurance             ...        0.010980     0.030911    0.232503  0.233701   \n",
       "median_school         ...       -0.098727     0.007675   -0.002861  0.169439   \n",
       "num_schools           ...        0.262651     0.235246    0.071455 -0.212870   \n",
       "tx_year               ...        0.008066     0.028759   -0.118490 -0.134787   \n",
       "\n",
       "                    college_grad  property_tax  insurance  median_school  \\\n",
       "tx_price                0.268577      0.535148   0.532947       0.175762   \n",
       "beds                   -0.082354      0.547643   0.485776       0.137309   \n",
       "baths                   0.016097      0.525776   0.475430       0.163365   \n",
       "sqft                    0.065343      0.660264   0.594049       0.220669   \n",
       "year_built             -0.014204     -0.046504  -0.109521       0.155835   \n",
       "lot_size               -0.030725      0.165800   0.146579       0.096551   \n",
       "basement                     NaN           NaN        NaN            NaN   \n",
       "restaurants             0.214260     -0.100821  -0.019925      -0.068425   \n",
       "groceries              -0.006025     -0.159506  -0.093974      -0.354553   \n",
       "nightlife               0.253717     -0.054386   0.024551      -0.036948   \n",
       "cafes                   0.266652     -0.044410   0.036502      -0.027868   \n",
       "shopping                0.177383     -0.040556   0.018846      -0.048058   \n",
       "arts_entertainment      0.239129     -0.066346   0.015380      -0.138266   \n",
       "beauty_spas             0.177066     -0.057293   0.010980      -0.098727   \n",
       "active_life             0.323985     -0.057646   0.030911       0.007675   \n",
       "median_age              0.169749      0.215435   0.232503      -0.002861   \n",
       "married                -0.143461      0.305330   0.233701       0.169439   \n",
       "college_grad            1.000000      0.287933   0.326057       0.400306   \n",
       "property_tax            0.287933      1.000000   0.984724       0.237455   \n",
       "insurance               0.326057      0.984724   1.000000       0.234889   \n",
       "median_school           0.400306      0.237455   0.234889       1.000000   \n",
       "num_schools             0.049756      0.037342   0.056985      -0.145572   \n",
       "tx_year                -0.189932     -0.257703  -0.254706      -0.167141   \n",
       "\n",
       "                    num_schools   tx_year  \n",
       "tx_price              -0.014380  0.108782  \n",
       "beds                  -0.124359 -0.174081  \n",
       "baths                 -0.088299 -0.132110  \n",
       "sqft                  -0.102032 -0.236190  \n",
       "year_built            -0.188106 -0.043301  \n",
       "lot_size              -0.031535 -0.048207  \n",
       "basement                    NaN       NaN  \n",
       "restaurants            0.251171  0.044739  \n",
       "groceries              0.272856  0.115674  \n",
       "nightlife              0.196399  0.027495  \n",
       "cafes                  0.224312  0.013558  \n",
       "shopping               0.228988 -0.000324  \n",
       "arts_entertainment     0.214163  0.034356  \n",
       "beauty_spas            0.262651  0.008066  \n",
       "active_life            0.235246  0.028759  \n",
       "median_age             0.071455 -0.118490  \n",
       "married               -0.212870 -0.134787  \n",
       "college_grad           0.049756 -0.189932  \n",
       "property_tax           0.037342 -0.257703  \n",
       "insurance              0.056985 -0.254706  \n",
       "median_school         -0.145572 -0.167141  \n",
       "num_schools            1.000000  0.007361  \n",
       "tx_year                0.007361  1.000000  \n",
       "\n",
       "[23 rows x 23 columns]"
      ]
     },
     "execution_count": 13,
     "metadata": {},
     "output_type": "execute_result"
    }
   ],
   "source": [
    "df.corr().T"
   ]
  },
  {
   "cell_type": "code",
   "execution_count": 14,
   "metadata": {},
   "outputs": [
    {
     "data": {
      "text/plain": [
       "<matplotlib.axes._subplots.AxesSubplot at 0x749a036128>"
      ]
     },
     "execution_count": 14,
     "metadata": {},
     "output_type": "execute_result"
    },
    {
     "data": {
      "image/png": "[encoded data removed]",
      "text/plain": [
       "<Figure size 1080x720 with 2 Axes>"
      ]
     },
     "metadata": {
      "needs_background": "light"
     },
     "output_type": "display_data"
    }
   ],
   "source": [
    "plt.figure(figsize=(15,10))\n",
    "sns.heatmap(df.corr())"
   ]
  },
  {
   "cell_type": "code",
   "execution_count": 15,
   "metadata": {},
   "outputs": [
    {
     "data": {
      "image/png": "[encoded data removed]",
      "text/plain": [
       "<Figure size 1152x1152 with 25 Axes>"
      ]
     },
     "metadata": {
      "needs_background": "light"
     },
     "output_type": "display_data"
    }
   ],
   "source": [
    "df.hist(figsize=(16,16), xrot=-45) ## Display the labels rotated by 45 degress\n",
    "\n",
    "plt.show()"
   ]
  },
  {
   "cell_type": "code",
   "execution_count": 55,
   "metadata": {},
   "outputs": [
    {
     "data": {
      "text/plain": [
       "<matplotlib.axes._subplots.AxesSubplot at 0x74906fd390>"
      ]
     },
     "execution_count": 55,
     "metadata": {},
     "output_type": "execute_result"
    },
    {
     "data": {
      "image/png": "[encoded data removed]",
      "text/plain": [
       "<Figure size 432x288 with 1 Axes>"
      ]
     },
     "metadata": {
      "needs_background": "light"
     },
     "output_type": "display_data"
    }
   ],
   "source": [
    "df['tx_price'].hist(bins=10)"
   ]
  },
  {
   "cell_type": "code",
   "execution_count": 17,
   "metadata": {},
   "outputs": [
    {
     "data": {
      "text/plain": [
       "Single-Family                    1080\n",
       "Apartment / Condo / Townhouse     803\n",
       "Name: property_type, dtype: int64"
      ]
     },
     "execution_count": 17,
     "metadata": {},
     "output_type": "execute_result"
    }
   ],
   "source": [
    "df.property_type.value_counts()"
   ]
  },
  {
   "cell_type": "code",
   "execution_count": 18,
   "metadata": {},
   "outputs": [
    {
     "data": {
      "text/plain": [
       "Brick                  687\n",
       "Siding (Alum/Vinyl)    503\n",
       "Metal                  120\n",
       "Combination            107\n",
       "Wood                    72\n",
       "Wood Siding             49\n",
       "Brick veneer            48\n",
       "Stucco                  26\n",
       "Other                   10\n",
       "Concrete                 8\n",
       "Concrete Block           7\n",
       "Block                    7\n",
       "Asbestos shingle         6\n",
       "Rock, Stone              5\n",
       "Masonry                  3\n",
       "Wood Shingle             2\n",
       "Name: exterior_walls, dtype: int64"
      ]
     },
     "execution_count": 18,
     "metadata": {},
     "output_type": "execute_result"
    }
   ],
   "source": [
    "df.exterior_walls.value_counts()"
   ]
  },
  {
   "cell_type": "code",
   "execution_count": 19,
   "metadata": {},
   "outputs": [
    {
     "data": {
      "text/plain": [
       "Composition Shingle      1179\n",
       "Asphalt                   132\n",
       "Shake Shingle              55\n",
       "Other                      49\n",
       "Wood Shake/ Shingles       30\n",
       "Gravel/Rock                30\n",
       "Roll Composition           12\n",
       "Slate                       9\n",
       "Asbestos                    9\n",
       "asphalt                     5\n",
       "Composition                 5\n",
       "Metal                       4\n",
       "composition                 4\n",
       "shake-shingle               3\n",
       "Built-up                    2\n",
       "asphalt,shake-shingle       1\n",
       "Name: roof, dtype: int64"
      ]
     },
     "execution_count": 19,
     "metadata": {},
     "output_type": "execute_result"
    }
   ],
   "source": [
    "df.roof.value_counts()"
   ]
  },
  {
   "cell_type": "code",
   "execution_count": 20,
   "metadata": {},
   "outputs": [
    {
     "data": {
      "text/plain": [
       "4    620\n",
       "3    598\n",
       "5    309\n",
       "2    266\n",
       "1     90\n",
       "Name: beds, dtype: int64"
      ]
     },
     "execution_count": 20,
     "metadata": {},
     "output_type": "execute_result"
    }
   ],
   "source": [
    "df.beds.value_counts()"
   ]
  },
  {
   "cell_type": "code",
   "execution_count": 21,
   "metadata": {},
   "outputs": [
    {
     "data": {
      "text/plain": [
       "<matplotlib.axes._subplots.AxesSubplot at 0x749cc06dd8>"
      ]
     },
     "execution_count": 21,
     "metadata": {},
     "output_type": "execute_result"
    },
    {
     "data": {
      "image/png": "[encoded data removed]",
      "text/plain": [
       "<Figure size 432x288 with 1 Axes>"
      ]
     },
     "metadata": {
      "needs_background": "light"
     },
     "output_type": "display_data"
    }
   ],
   "source": [
    "sns.countplot(x='beds',data=df)"
   ]
  },
  {
   "cell_type": "markdown",
   "metadata": {},
   "source": [
    " house with beds 3 and 4 are very high on numbers and beds with 2 and 3 are moderate in numbers and beds with 1 is very low"
   ]
  },
  {
   "cell_type": "code",
   "execution_count": 22,
   "metadata": {},
   "outputs": [
    {
     "data": {
      "text/plain": [
       "3    700\n",
       "2    687\n",
       "4    232\n",
       "1    218\n",
       "5     38\n",
       "6      8\n",
       "Name: baths, dtype: int64"
      ]
     },
     "execution_count": 22,
     "metadata": {},
     "output_type": "execute_result"
    }
   ],
   "source": [
    "df['baths'].value_counts()"
   ]
  },
  {
   "cell_type": "code",
   "execution_count": 23,
   "metadata": {},
   "outputs": [
    {
     "data": {
      "text/plain": [
       "<matplotlib.axes._subplots.AxesSubplot at 0x749cc821d0>"
      ]
     },
     "execution_count": 23,
     "metadata": {},
     "output_type": "execute_result"
    },
    {
     "data": {
      "image/png": "[encoded data removed]",
      "text/plain": [
       "<Figure size 432x288 with 1 Axes>"
      ]
     },
     "metadata": {
      "needs_background": "light"
     },
     "output_type": "display_data"
    }
   ],
   "source": [
    "sns.countplot(x='baths',data=df)"
   ]
  },
  {
   "cell_type": "code",
   "execution_count": 44,
   "metadata": {},
   "outputs": [
    {
     "data": {
      "text/html": [
       "<div>\n",
       "<style scoped>\n",
       "    .dataframe tbody tr th:only-of-type {\n",
       "        vertical-align: middle;\n",
       "    }\n",
       "\n",
       "    .dataframe tbody tr th {\n",
       "        vertical-align: top;\n",
       "    }\n",
       "\n",
       "    .dataframe thead th {\n",
       "        text-align: right;\n",
       "    }\n",
       "</style>\n",
       "<table border=\"1\" class=\"dataframe\">\n",
       "  <thead>\n",
       "    <tr style=\"text-align: right;\">\n",
       "      <th>baths</th>\n",
       "      <th>1</th>\n",
       "      <th>2</th>\n",
       "      <th>3</th>\n",
       "      <th>4</th>\n",
       "      <th>5</th>\n",
       "      <th>6</th>\n",
       "    </tr>\n",
       "    <tr>\n",
       "      <th>beds</th>\n",
       "      <th></th>\n",
       "      <th></th>\n",
       "      <th></th>\n",
       "      <th></th>\n",
       "      <th></th>\n",
       "      <th></th>\n",
       "    </tr>\n",
       "  </thead>\n",
       "  <tbody>\n",
       "    <tr>\n",
       "      <th>1</th>\n",
       "      <td>87</td>\n",
       "      <td>3</td>\n",
       "      <td>0</td>\n",
       "      <td>0</td>\n",
       "      <td>0</td>\n",
       "      <td>0</td>\n",
       "    </tr>\n",
       "    <tr>\n",
       "      <th>2</th>\n",
       "      <td>74</td>\n",
       "      <td>178</td>\n",
       "      <td>13</td>\n",
       "      <td>1</td>\n",
       "      <td>0</td>\n",
       "      <td>0</td>\n",
       "    </tr>\n",
       "    <tr>\n",
       "      <th>3</th>\n",
       "      <td>38</td>\n",
       "      <td>306</td>\n",
       "      <td>216</td>\n",
       "      <td>38</td>\n",
       "      <td>0</td>\n",
       "      <td>0</td>\n",
       "    </tr>\n",
       "    <tr>\n",
       "      <th>4</th>\n",
       "      <td>13</td>\n",
       "      <td>182</td>\n",
       "      <td>334</td>\n",
       "      <td>81</td>\n",
       "      <td>7</td>\n",
       "      <td>3</td>\n",
       "    </tr>\n",
       "    <tr>\n",
       "      <th>5</th>\n",
       "      <td>6</td>\n",
       "      <td>18</td>\n",
       "      <td>137</td>\n",
       "      <td>112</td>\n",
       "      <td>31</td>\n",
       "      <td>5</td>\n",
       "    </tr>\n",
       "  </tbody>\n",
       "</table>\n",
       "</div>"
      ],
      "text/plain": [
       "baths   1    2    3    4   5  6\n",
       "beds                           \n",
       "1      87    3    0    0   0  0\n",
       "2      74  178   13    1   0  0\n",
       "3      38  306  216   38   0  0\n",
       "4      13  182  334   81   7  3\n",
       "5       6   18  137  112  31  5"
      ]
     },
     "execution_count": 44,
     "metadata": {},
     "output_type": "execute_result"
    }
   ],
   "source": [
    "x=pd.crosstab(df['beds'],df['baths'])\n",
    "x"
   ]
  },
  {
   "cell_type": "code",
   "execution_count": 52,
   "metadata": {},
   "outputs": [
    {
     "data": {
      "text/plain": [
       "<matplotlib.axes._subplots.AxesSubplot at 0x74a3343a58>"
      ]
     },
     "execution_count": 52,
     "metadata": {},
     "output_type": "execute_result"
    },
    {
     "data": {
      "text/plain": [
       "<Figure size 2160x720 with 0 Axes>"
      ]
     },
     "metadata": {},
     "output_type": "display_data"
    },
    {
     "data": {
      "image/png": "[encoded data removed]",
      "text/plain": [
       "<Figure size 432x288 with 1 Axes>"
      ]
     },
     "metadata": {
      "needs_background": "light"
     },
     "output_type": "display_data"
    }
   ],
   "source": [
    "plt.figure(figsize=(30,10))\n",
    "x.plot(kind='bar')"
   ]
  },
  {
   "cell_type": "code",
   "execution_count": 54,
   "metadata": {},
   "outputs": [
    {
     "data": {
      "text/plain": [
       "<matplotlib.axes._subplots.AxesSubplot at 0x749062a898>"
      ]
     },
     "execution_count": 54,
     "metadata": {},
     "output_type": "execute_result"
    },
    {
     "data": {
      "image/png": "[encoded data removed]",
      "text/plain": [
       "<Figure size 432x288 with 1 Axes>"
      ]
     },
     "metadata": {
      "needs_background": "light"
     },
     "output_type": "display_data"
    }
   ],
   "source": [
    "x.plot(kind='bar', stacked=True, grid=True)"
   ]
  },
  {
   "cell_type": "code",
   "execution_count": 25,
   "metadata": {
    "scrolled": true
   },
   "outputs": [
    {
     "data": {
      "text/plain": [
       "2005    63\n",
       "2004    57\n",
       "2000    52\n",
       "2006    50\n",
       "2002    48\n",
       "1988    47\n",
       "1994    46\n",
       "1986    46\n",
       "1987    44\n",
       "1984    42\n",
       "1999    40\n",
       "2001    39\n",
       "1985    38\n",
       "1998    38\n",
       "2007    38\n",
       "1996    37\n",
       "1995    37\n",
       "2003    36\n",
       "1983    35\n",
       "1997    35\n",
       "1978    35\n",
       "1979    33\n",
       "1993    32\n",
       "1989    30\n",
       "1950    29\n",
       "1954    27\n",
       "1981    27\n",
       "1980    27\n",
       "1965    26\n",
       "1975    25\n",
       "        ..\n",
       "1952    11\n",
       "1947    11\n",
       "1944    10\n",
       "1948    10\n",
       "1940     9\n",
       "1949     7\n",
       "1942     6\n",
       "1930     5\n",
       "1936     5\n",
       "1938     5\n",
       "1920     4\n",
       "1939     4\n",
       "1925     3\n",
       "1900     3\n",
       "2015     3\n",
       "1943     3\n",
       "1945     3\n",
       "1946     3\n",
       "2014     3\n",
       "1937     2\n",
       "1935     1\n",
       "1932     1\n",
       "1929     1\n",
       "1927     1\n",
       "1924     1\n",
       "1921     1\n",
       "1918     1\n",
       "1905     1\n",
       "1892     1\n",
       "1880     1\n",
       "Name: year_built, Length: 94, dtype: int64"
      ]
     },
     "execution_count": 25,
     "metadata": {},
     "output_type": "execute_result"
    }
   ],
   "source": [
    "df.year_built.value_counts()"
   ]
  },
  {
   "cell_type": "code",
   "execution_count": 51,
   "metadata": {},
   "outputs": [
    {
     "data": {
      "text/plain": [
       "<matplotlib.axes._subplots.AxesSubplot at 0x74a3170fd0>"
      ]
     },
     "execution_count": 51,
     "metadata": {},
     "output_type": "execute_result"
    },
    {
     "data": {
      "image/png": "[encoded data removed]",
      "text/plain": [
       "<Figure size 2160x720 with 1 Axes>"
      ]
     },
     "metadata": {
      "needs_background": "light"
     },
     "output_type": "display_data"
    }
   ],
   "source": [
    "plt.figure(figsize=(30,10))\n",
    "sns.countplot(x='year_built',data=df)"
   ]
  },
  {
   "cell_type": "code",
   "execution_count": 27,
   "metadata": {},
   "outputs": [
    {
     "data": {
      "text/plain": [
       "3    1574\n",
       "2     223\n",
       "1      84\n",
       "4       2\n",
       "Name: num_schools, dtype: int64"
      ]
     },
     "execution_count": 27,
     "metadata": {},
     "output_type": "execute_result"
    }
   ],
   "source": [
    "df['num_schools'].value_counts()"
   ]
  },
  {
   "cell_type": "code",
   "execution_count": 28,
   "metadata": {},
   "outputs": [
    {
     "data": {
      "text/plain": [
       "<matplotlib.axes._subplots.AxesSubplot at 0x749ecbfd30>"
      ]
     },
     "execution_count": 28,
     "metadata": {},
     "output_type": "execute_result"
    },
    {
     "data": {
      "image/png": "[encoded data removed]",
      "text/plain": [
       "<Figure size 432x288 with 1 Axes>"
      ]
     },
     "metadata": {
      "needs_background": "light"
     },
     "output_type": "display_data"
    }
   ],
   "source": [
    "sns.countplot(x='num_schools',data=df)"
   ]
  },
  {
   "cell_type": "code",
   "execution_count": 29,
   "metadata": {},
   "outputs": [
    {
     "data": {
      "text/plain": [
       "8.0     367\n",
       "9.0     266\n",
       "6.0     264\n",
       "7.0     261\n",
       "5.0     199\n",
       "4.0     190\n",
       "3.0     140\n",
       "10.0     49\n",
       "8.5      32\n",
       "2.0      27\n",
       "5.5      25\n",
       "7.5      23\n",
       "6.5      21\n",
       "4.5      10\n",
       "3.5       5\n",
       "1.0       4\n",
       "Name: median_school, dtype: int64"
      ]
     },
     "execution_count": 29,
     "metadata": {},
     "output_type": "execute_result"
    }
   ],
   "source": [
    "df['median_school'].value_counts()"
   ]
  },
  {
   "cell_type": "code",
   "execution_count": 30,
   "metadata": {},
   "outputs": [
    {
     "data": {
      "text/plain": [
       "<matplotlib.axes._subplots.AxesSubplot at 0x749ed92a58>"
      ]
     },
     "execution_count": 30,
     "metadata": {},
     "output_type": "execute_result"
    },
    {
     "data": {
      "image/png": "[encoded data removed]",
      "text/plain": [
       "<Figure size 432x288 with 1 Axes>"
      ]
     },
     "metadata": {
      "needs_background": "light"
     },
     "output_type": "display_data"
    }
   ],
   "source": [
    "sns.countplot(x='median_school',data=df)"
   ]
  },
  {
   "cell_type": "code",
   "execution_count": 57,
   "metadata": {},
   "outputs": [
    {
     "data": {
      "text/plain": [
       "<matplotlib.axes._subplots.AxesSubplot at 0x74a36be4a8>"
      ]
     },
     "execution_count": 57,
     "metadata": {},
     "output_type": "execute_result"
    },
    {
     "data": {
      "image/png": "[encoded data removed]",
      "text/plain": [
       "<Figure size 432x288 with 1 Axes>"
      ]
     },
     "metadata": {
      "needs_background": "light"
     },
     "output_type": "display_data"
    }
   ],
   "source": [
    "df.boxplot(column='tx_price')"
   ]
  },
  {
   "cell_type": "code",
   "execution_count": 31,
   "metadata": {},
   "outputs": [
    {
     "data": {
      "text/plain": [
       "<matplotlib.axes._subplots.AxesSubplot at 0x749b371fd0>"
      ]
     },
     "execution_count": 31,
     "metadata": {},
     "output_type": "execute_result"
    },
    {
     "data": {
      "image/png": "[encoded data removed]",
      "text/plain": [
       "<Figure size 432x288 with 1 Axes>"
      ]
     },
     "metadata": {
      "needs_background": "light"
     },
     "output_type": "display_data"
    }
   ],
   "source": [
    "sns.boxplot(x='property_type',y='tx_price',data=df)"
   ]
  },
  {
   "cell_type": "code",
   "execution_count": 32,
   "metadata": {},
   "outputs": [
    {
     "data": {
      "text/plain": [
       "(array([ 0,  1,  2,  3,  4,  5,  6,  7,  8,  9, 10, 11, 12, 13, 14, 15]),\n",
       " <a list of 16 Text xticklabel objects>)"
      ]
     },
     "execution_count": 32,
     "metadata": {},
     "output_type": "execute_result"
    },
    {
     "data": {
      "image/png": "[encoded data removed]",
      "text/plain": [
       "<Figure size 1080x360 with 1 Axes>"
      ]
     },
     "metadata": {
      "needs_background": "light"
     },
     "output_type": "display_data"
    }
   ],
   "source": [
    "plt.figure(figsize=(15,5))\n",
    "sns.boxplot(x='exterior_walls',y='tx_price',data=df)\n",
    "plt.xticks(rotation =90)"
   ]
  },
  {
   "cell_type": "code",
   "execution_count": 33,
   "metadata": {},
   "outputs": [
    {
     "data": {
      "text/plain": [
       "(array([ 0,  1,  2,  3,  4,  5,  6,  7,  8,  9, 10, 11, 12, 13, 14, 15]),\n",
       " <a list of 16 Text xticklabel objects>)"
      ]
     },
     "execution_count": 33,
     "metadata": {},
     "output_type": "execute_result"
    },
    {
     "data": {
      "image/png": "[encoded data removed]",
      "text/plain": [
       "<Figure size 1080x360 with 1 Axes>"
      ]
     },
     "metadata": {
      "needs_background": "light"
     },
     "output_type": "display_data"
    }
   ],
   "source": [
    "plt.figure(figsize=(15,5))\n",
    "sns.boxplot(x='roof',y='tx_price',data=df)\n",
    "plt.xticks(rotation =90)"
   ]
  },
  {
   "cell_type": "code",
   "execution_count": 34,
   "metadata": {},
   "outputs": [
    {
     "data": {
      "text/plain": [
       "<matplotlib.axes._subplots.AxesSubplot at 0x749be6b940>"
      ]
     },
     "execution_count": 34,
     "metadata": {},
     "output_type": "execute_result"
    },
    {
     "data": {
      "image/png": "[encoded data removed]",
      "text/plain": [
       "<Figure size 432x288 with 1 Axes>"
      ]
     },
     "metadata": {
      "needs_background": "light"
     },
     "output_type": "display_data"
    }
   ],
   "source": [
    "sns.boxplot(x='beds',y='tx_price',data=df)"
   ]
  },
  {
   "cell_type": "code",
   "execution_count": 35,
   "metadata": {},
   "outputs": [
    {
     "data": {
      "text/plain": [
       "<matplotlib.axes._subplots.AxesSubplot at 0x749bbcec88>"
      ]
     },
     "execution_count": 35,
     "metadata": {},
     "output_type": "execute_result"
    },
    {
     "data": {
      "image/png": "[encoded data removed]",
      "text/plain": [
       "<Figure size 432x288 with 1 Axes>"
      ]
     },
     "metadata": {
      "needs_background": "light"
     },
     "output_type": "display_data"
    }
   ],
   "source": [
    "sns.boxplot(x='baths',y='tx_price',data=df)"
   ]
  },
  {
   "cell_type": "code",
   "execution_count": 36,
   "metadata": {},
   "outputs": [
    {
     "data": {
      "text/plain": [
       "<matplotlib.axes._subplots.AxesSubplot at 0x749c3c20b8>"
      ]
     },
     "execution_count": 36,
     "metadata": {},
     "output_type": "execute_result"
    },
    {
     "data": {
      "image/png": "[encoded data removed]",
      "text/plain": [
       "<Figure size 432x288 with 1 Axes>"
      ]
     },
     "metadata": {
      "needs_background": "light"
     },
     "output_type": "display_data"
    }
   ],
   "source": [
    "sns.boxplot(x='num_schools',y='tx_price',data=df)"
   ]
  },
  {
   "cell_type": "code",
   "execution_count": 37,
   "metadata": {},
   "outputs": [
    {
     "data": {
      "text/plain": [
       "<matplotlib.axes._subplots.AxesSubplot at 0x749b714e10>"
      ]
     },
     "execution_count": 37,
     "metadata": {},
     "output_type": "execute_result"
    },
    {
     "data": {
      "image/png": "[encoded data removed]",
      "text/plain": [
       "<Figure size 432x288 with 1 Axes>"
      ]
     },
     "metadata": {
      "needs_background": "light"
     },
     "output_type": "display_data"
    }
   ],
   "source": [
    "sns.scatterplot(x='sqft',y='tx_price',data=df)"
   ]
  },
  {
   "cell_type": "code",
   "execution_count": 38,
   "metadata": {},
   "outputs": [
    {
     "data": {
      "text/plain": [
       "<matplotlib.axes._subplots.AxesSubplot at 0x749be25f98>"
      ]
     },
     "execution_count": 38,
     "metadata": {},
     "output_type": "execute_result"
    },
    {
     "data": {
      "image/png": "[encoded data removed]",
      "text/plain": [
       "<Figure size 432x288 with 1 Axes>"
      ]
     },
     "metadata": {
      "needs_background": "light"
     },
     "output_type": "display_data"
    }
   ],
   "source": [
    "sns.scatterplot(x='year_built',y='tx_price',data=df)"
   ]
  },
  {
   "cell_type": "code",
   "execution_count": 39,
   "metadata": {},
   "outputs": [
    {
     "data": {
      "text/plain": [
       "<matplotlib.axes._subplots.AxesSubplot at 0x749be002b0>"
      ]
     },
     "execution_count": 39,
     "metadata": {},
     "output_type": "execute_result"
    },
    {
     "data": {
      "image/png": "[encoded data removed]",
      "text/plain": [
       "<Figure size 432x288 with 1 Axes>"
      ]
     },
     "metadata": {
      "needs_background": "light"
     },
     "output_type": "display_data"
    }
   ],
   "source": [
    "sns.scatterplot(x='lot_size',y='tx_price',data=df)"
   ]
  },
  {
   "cell_type": "code",
   "execution_count": 40,
   "metadata": {},
   "outputs": [
    {
     "data": {
      "text/plain": [
       "<matplotlib.axes._subplots.AxesSubplot at 0x749b44db70>"
      ]
     },
     "execution_count": 40,
     "metadata": {},
     "output_type": "execute_result"
    },
    {
     "data": {
      "image/png": "[encoded data removed]",
      "text/plain": [
       "<Figure size 432x288 with 1 Axes>"
      ]
     },
     "metadata": {
      "needs_background": "light"
     },
     "output_type": "display_data"
    }
   ],
   "source": [
    "sns.scatterplot(x='restaurants',y='tx_price',data=df)"
   ]
  },
  {
   "cell_type": "code",
   "execution_count": 41,
   "metadata": {},
   "outputs": [
    {
     "data": {
      "text/plain": [
       "<matplotlib.axes._subplots.AxesSubplot at 0x749bdc0278>"
      ]
     },
     "execution_count": 41,
     "metadata": {},
     "output_type": "execute_result"
    },
    {
     "data": {
      "image/png": "[encoded data removed]",
      "text/plain": [
       "<Figure size 432x288 with 1 Axes>"
      ]
     },
     "metadata": {
      "needs_background": "light"
     },
     "output_type": "display_data"
    }
   ],
   "source": [
    "sns.scatterplot(x='sqft',y='tx_price',data=df)"
   ]
  },
  {
   "cell_type": "markdown",
   "metadata": {},
   "source": [
    "# Data Cleaning"
   ]
  },
  {
   "cell_type": "code",
   "execution_count": 61,
   "metadata": {},
   "outputs": [
    {
     "name": "stdout",
     "output_type": "stream",
     "text": [
      "(1883, 26)\n"
     ]
    }
   ],
   "source": [
    "df = df.drop_duplicates()\n",
    "print( df.shape )"
   ]
  },
  {
   "cell_type": "code",
   "execution_count": 62,
   "metadata": {},
   "outputs": [
    {
     "data": {
      "text/plain": [
       "array([nan,  1.])"
      ]
     },
     "execution_count": 62,
     "metadata": {},
     "output_type": "execute_result"
    }
   ],
   "source": [
    "df.basement.unique()"
   ]
  },
  {
   "cell_type": "code",
   "execution_count": 63,
   "metadata": {},
   "outputs": [],
   "source": [
    "df.basement.fillna(0, inplace=True)"
   ]
  },
  {
   "cell_type": "code",
   "execution_count": 64,
   "metadata": {},
   "outputs": [
    {
     "data": {
      "text/plain": [
       "array([0., 1.])"
      ]
     },
     "execution_count": 64,
     "metadata": {},
     "output_type": "execute_result"
    }
   ],
   "source": [
    "df.basement.unique()"
   ]
  },
  {
   "cell_type": "code",
   "execution_count": 66,
   "metadata": {},
   "outputs": [
    {
     "data": {
      "text/plain": [
       "(array([ 0,  1,  2,  3,  4,  5,  6,  7,  8,  9, 10, 11, 12, 13, 14, 15]),\n",
       " <a list of 16 Text xticklabel objects>)"
      ]
     },
     "execution_count": 66,
     "metadata": {},
     "output_type": "execute_result"
    },
    {
     "data": {
      "image/png": "[encoded data removed]",
      "text/plain": [
       "<Figure size 432x288 with 1 Axes>"
      ]
     },
     "metadata": {
      "needs_background": "light"
     },
     "output_type": "display_data"
    }
   ],
   "source": [
    "sns.countplot(x='roof',data=df)\n",
    "plt.xticks(rotation =90)"
   ]
  },
  {
   "cell_type": "code",
   "execution_count": 67,
   "metadata": {},
   "outputs": [],
   "source": [
    "df.roof.replace('composition', 'Composition', inplace=True)\n",
    "df.roof.replace('asphalt', 'Asphalt', inplace=True)\n",
    "df.roof.replace(['shake-shingle', 'asphalt,shake-shingle'], 'Shake Shingle', inplace=True)"
   ]
  },
  {
   "cell_type": "code",
   "execution_count": 70,
   "metadata": {},
   "outputs": [
    {
     "data": {
      "text/plain": [
       "(array([ 0,  1,  2,  3,  4,  5,  6,  7,  8,  9, 10, 11]),\n",
       " <a list of 12 Text xticklabel objects>)"
      ]
     },
     "execution_count": 70,
     "metadata": {},
     "output_type": "execute_result"
    },
    {
     "data": {
      "image/png": "[encoded data removed]",
      "text/plain": [
       "<Figure size 432x288 with 1 Axes>"
      ]
     },
     "metadata": {
      "needs_background": "light"
     },
     "output_type": "display_data"
    }
   ],
   "source": [
    "sns.countplot(x='roof', data=df)\n",
    "plt.xticks(rotation =90)"
   ]
  },
  {
   "cell_type": "code",
   "execution_count": 73,
   "metadata": {},
   "outputs": [
    {
     "data": {
      "text/plain": [
       "(array([ 0,  1,  2,  3,  4,  5,  6,  7,  8,  9, 10, 11, 12, 13]),\n",
       " <a list of 14 Text xticklabel objects>)"
      ]
     },
     "execution_count": 73,
     "metadata": {},
     "output_type": "execute_result"
    },
    {
     "data": {
      "image/png": "[encoded data removed]",
      "text/plain": [
       "<Figure size 432x288 with 1 Axes>"
      ]
     },
     "metadata": {
      "needs_background": "light"
     },
     "output_type": "display_data"
    }
   ],
   "source": [
    "df.exterior_walls.replace(['Concrete', 'Block'], 'Concrete Block', inplace=True)\n",
    "sns.countplot(x='exterior_walls', data=df)\n",
    "plt.xticks(rotation =90)"
   ]
  },
  {
   "cell_type": "code",
   "execution_count": 58,
   "metadata": {},
   "outputs": [
    {
     "data": {
      "text/plain": [
       "<matplotlib.axes._subplots.AxesSubplot at 0x74a3723cf8>"
      ]
     },
     "execution_count": 58,
     "metadata": {},
     "output_type": "execute_result"
    },
    {
     "data": {
      "image/png": "[encoded data removed]",
      "text/plain": [
       "<Figure size 432x288 with 1 Axes>"
      ]
     },
     "metadata": {
      "needs_background": "light"
     },
     "output_type": "display_data"
    }
   ],
   "source": [
    "sns.boxplot(x='tx_price',data=df)"
   ]
  },
  {
   "cell_type": "code",
   "execution_count": 74,
   "metadata": {},
   "outputs": [
    {
     "data": {
      "text/plain": [
       "<matplotlib.axes._subplots.AxesSubplot at 0x74a3803cc0>"
      ]
     },
     "execution_count": 74,
     "metadata": {},
     "output_type": "execute_result"
    },
    {
     "data": {
      "image/png": "[encoded data removed]",
      "text/plain": [
       "<Figure size 432x288 with 1 Axes>"
      ]
     },
     "metadata": {
      "needs_background": "light"
     },
     "output_type": "display_data"
    }
   ],
   "source": [
    "sns.boxplot(df.beds)"
   ]
  },
  {
   "cell_type": "code",
   "execution_count": 75,
   "metadata": {},
   "outputs": [
    {
     "data": {
      "text/plain": [
       "<matplotlib.axes._subplots.AxesSubplot at 0x74a3860cc0>"
      ]
     },
     "execution_count": 75,
     "metadata": {},
     "output_type": "execute_result"
    },
    {
     "data": {
      "image/png": "[encoded data removed]",
      "text/plain": [
       "<Figure size 432x288 with 1 Axes>"
      ]
     },
     "metadata": {
      "needs_background": "light"
     },
     "output_type": "display_data"
    }
   ],
   "source": [
    "sns.boxplot(df.sqft)"
   ]
  },
  {
   "cell_type": "code",
   "execution_count": 77,
   "metadata": {},
   "outputs": [
    {
     "data": {
      "text/plain": [
       "<matplotlib.axes._subplots.AxesSubplot at 0x74a38c6320>"
      ]
     },
     "execution_count": 77,
     "metadata": {},
     "output_type": "execute_result"
    },
    {
     "data": {
      "image/png": "[encoded data removed]",
      "text/plain": [
       "<Figure size 432x288 with 1 Axes>"
      ]
     },
     "metadata": {
      "needs_background": "light"
     },
     "output_type": "display_data"
    }
   ],
   "source": [
    "sns.boxplot(df.lot_size)"
   ]
  },
  {
   "cell_type": "code",
   "execution_count": 78,
   "metadata": {},
   "outputs": [
    {
     "data": {
      "text/plain": [
       "102     1220551\n",
       "1111     436471\n",
       "1876     436035\n",
       "1832     436035\n",
       "1115     435600\n",
       "Name: lot_size, dtype: int64"
      ]
     },
     "execution_count": 78,
     "metadata": {},
     "output_type": "execute_result"
    }
   ],
   "source": [
    "df.lot_size.sort_values(ascending=False).head()"
   ]
  },
  {
   "cell_type": "code",
   "execution_count": 79,
   "metadata": {},
   "outputs": [
    {
     "data": {
      "text/plain": [
       "(1882, 26)"
      ]
     },
     "execution_count": 79,
     "metadata": {},
     "output_type": "execute_result"
    }
   ],
   "source": [
    "df = df[df.lot_size <= 500000]\n",
    "df.shape"
   ]
  },
  {
   "cell_type": "code",
   "execution_count": 80,
   "metadata": {},
   "outputs": [
    {
     "data": {
      "text/plain": [
       "1111    436471\n",
       "1876    436035\n",
       "1832    436035\n",
       "1839    435600\n",
       "1115    435600\n",
       "1817    435600\n",
       "1570    435600\n",
       "1852    351529\n",
       "1479    343252\n",
       "682     260488\n",
       "1705    231303\n",
       "1878    224334\n",
       "1880    217800\n",
       "1837    217800\n",
       "1486    217800\n",
       "1578    217800\n",
       "172     183387\n",
       "1843    175111\n",
       "696     160736\n",
       "1457    153331\n",
       "Name: lot_size, dtype: int64"
      ]
     },
     "execution_count": 80,
     "metadata": {},
     "output_type": "execute_result"
    }
   ],
   "source": [
    "df.lot_size.sort_values(ascending=False).head(20)"
   ]
  },
  {
   "cell_type": "code",
   "execution_count": 81,
   "metadata": {},
   "outputs": [
    {
     "data": {
      "text/plain": [
       "<matplotlib.axes._subplots.AxesSubplot at 0x74a393d710>"
      ]
     },
     "execution_count": 81,
     "metadata": {},
     "output_type": "execute_result"
    },
    {
     "data": {
      "image/png": "[encoded data removed]",
      "text/plain": [
       "<Figure size 432x288 with 1 Axes>"
      ]
     },
     "metadata": {
      "needs_background": "light"
     },
     "output_type": "display_data"
    }
   ],
   "source": [
    "sns.boxplot(df.lot_size)"
   ]
  },
  {
   "cell_type": "code",
   "execution_count": 82,
   "metadata": {},
   "outputs": [],
   "source": [
    "df = df.drop(columns=['roof', 'exterior_walls'])"
   ]
  },
  {
   "cell_type": "code",
   "execution_count": 83,
   "metadata": {},
   "outputs": [
    {
     "data": {
      "text/plain": [
       "(1882, 24)"
      ]
     },
     "execution_count": 83,
     "metadata": {},
     "output_type": "execute_result"
    }
   ],
   "source": [
    "df.shape"
   ]
  },
  {
   "cell_type": "code",
   "execution_count": 84,
   "metadata": {},
   "outputs": [
    {
     "data": {
      "text/plain": [
       "array([1880, 1892, 1900, 1905, 1918, 1920, 1921, 1924, 1925, 1927, 1929,\n",
       "       1930, 1932, 1935, 1936, 1937, 1938, 1939, 1940, 1941, 1942, 1943,\n",
       "       1944, 1945, 1946, 1947, 1948, 1949, 1950, 1951, 1952, 1953, 1954,\n",
       "       1955, 1956, 1957, 1958, 1959, 1960, 1961, 1962, 1963, 1964, 1965,\n",
       "       1966, 1967, 1968, 1969, 1970, 1971, 1972, 1973, 1974, 1975, 1976,\n",
       "       1977, 1978, 1979, 1980, 1981, 1982, 1983, 1984, 1985, 1986, 1987,\n",
       "       1988, 1989, 1990, 1991, 1992, 1993, 1994, 1995, 1996, 1997, 1998,\n",
       "       1999, 2000, 2001, 2002, 2003, 2004, 2005, 2006, 2007, 2008, 2009,\n",
       "       2010, 2011, 2012, 2013, 2014, 2015], dtype=int64)"
      ]
     },
     "execution_count": 84,
     "metadata": {},
     "output_type": "execute_result"
    }
   ],
   "source": [
    "df.year_built.sort_values().unique()"
   ]
  },
  {
   "cell_type": "code",
   "execution_count": 85,
   "metadata": {},
   "outputs": [],
   "source": [
    "df['property_age'] = df.tx_year - df.year_built"
   ]
  },
  {
   "cell_type": "code",
   "execution_count": 86,
   "metadata": {},
   "outputs": [
    {
     "data": {
      "text/html": [
       "<div>\n",
       "<style scoped>\n",
       "    .dataframe tbody tr th:only-of-type {\n",
       "        vertical-align: middle;\n",
       "    }\n",
       "\n",
       "    .dataframe tbody tr th {\n",
       "        vertical-align: top;\n",
       "    }\n",
       "\n",
       "    .dataframe thead th {\n",
       "        text-align: right;\n",
       "    }\n",
       "</style>\n",
       "<table border=\"1\" class=\"dataframe\">\n",
       "  <thead>\n",
       "    <tr style=\"text-align: right;\">\n",
       "      <th></th>\n",
       "      <th>tx_price</th>\n",
       "      <th>beds</th>\n",
       "      <th>baths</th>\n",
       "      <th>sqft</th>\n",
       "      <th>year_built</th>\n",
       "      <th>lot_size</th>\n",
       "      <th>property_type</th>\n",
       "      <th>basement</th>\n",
       "      <th>restaurants</th>\n",
       "      <th>groceries</th>\n",
       "      <th>...</th>\n",
       "      <th>active_life</th>\n",
       "      <th>median_age</th>\n",
       "      <th>married</th>\n",
       "      <th>college_grad</th>\n",
       "      <th>property_tax</th>\n",
       "      <th>insurance</th>\n",
       "      <th>median_school</th>\n",
       "      <th>num_schools</th>\n",
       "      <th>tx_year</th>\n",
       "      <th>property_age</th>\n",
       "    </tr>\n",
       "  </thead>\n",
       "  <tbody>\n",
       "    <tr>\n",
       "      <th>0</th>\n",
       "      <td>295850</td>\n",
       "      <td>1</td>\n",
       "      <td>1</td>\n",
       "      <td>584</td>\n",
       "      <td>2013</td>\n",
       "      <td>0</td>\n",
       "      <td>Apartment / Condo / Townhouse</td>\n",
       "      <td>0.0</td>\n",
       "      <td>107</td>\n",
       "      <td>9</td>\n",
       "      <td>...</td>\n",
       "      <td>58</td>\n",
       "      <td>33</td>\n",
       "      <td>65</td>\n",
       "      <td>84</td>\n",
       "      <td>234</td>\n",
       "      <td>81</td>\n",
       "      <td>9.0</td>\n",
       "      <td>3</td>\n",
       "      <td>2013</td>\n",
       "      <td>0</td>\n",
       "    </tr>\n",
       "    <tr>\n",
       "      <th>1</th>\n",
       "      <td>216500</td>\n",
       "      <td>1</td>\n",
       "      <td>1</td>\n",
       "      <td>612</td>\n",
       "      <td>1965</td>\n",
       "      <td>0</td>\n",
       "      <td>Apartment / Condo / Townhouse</td>\n",
       "      <td>1.0</td>\n",
       "      <td>105</td>\n",
       "      <td>15</td>\n",
       "      <td>...</td>\n",
       "      <td>14</td>\n",
       "      <td>39</td>\n",
       "      <td>73</td>\n",
       "      <td>69</td>\n",
       "      <td>169</td>\n",
       "      <td>51</td>\n",
       "      <td>3.0</td>\n",
       "      <td>3</td>\n",
       "      <td>2006</td>\n",
       "      <td>41</td>\n",
       "    </tr>\n",
       "    <tr>\n",
       "      <th>2</th>\n",
       "      <td>279900</td>\n",
       "      <td>1</td>\n",
       "      <td>1</td>\n",
       "      <td>615</td>\n",
       "      <td>1963</td>\n",
       "      <td>0</td>\n",
       "      <td>Apartment / Condo / Townhouse</td>\n",
       "      <td>0.0</td>\n",
       "      <td>183</td>\n",
       "      <td>13</td>\n",
       "      <td>...</td>\n",
       "      <td>62</td>\n",
       "      <td>28</td>\n",
       "      <td>15</td>\n",
       "      <td>86</td>\n",
       "      <td>216</td>\n",
       "      <td>74</td>\n",
       "      <td>8.0</td>\n",
       "      <td>3</td>\n",
       "      <td>2012</td>\n",
       "      <td>49</td>\n",
       "    </tr>\n",
       "    <tr>\n",
       "      <th>3</th>\n",
       "      <td>379900</td>\n",
       "      <td>1</td>\n",
       "      <td>1</td>\n",
       "      <td>618</td>\n",
       "      <td>2000</td>\n",
       "      <td>33541</td>\n",
       "      <td>Apartment / Condo / Townhouse</td>\n",
       "      <td>0.0</td>\n",
       "      <td>198</td>\n",
       "      <td>9</td>\n",
       "      <td>...</td>\n",
       "      <td>83</td>\n",
       "      <td>36</td>\n",
       "      <td>25</td>\n",
       "      <td>91</td>\n",
       "      <td>265</td>\n",
       "      <td>92</td>\n",
       "      <td>9.0</td>\n",
       "      <td>3</td>\n",
       "      <td>2005</td>\n",
       "      <td>5</td>\n",
       "    </tr>\n",
       "    <tr>\n",
       "      <th>4</th>\n",
       "      <td>340000</td>\n",
       "      <td>1</td>\n",
       "      <td>1</td>\n",
       "      <td>634</td>\n",
       "      <td>1992</td>\n",
       "      <td>0</td>\n",
       "      <td>Apartment / Condo / Townhouse</td>\n",
       "      <td>0.0</td>\n",
       "      <td>149</td>\n",
       "      <td>7</td>\n",
       "      <td>...</td>\n",
       "      <td>73</td>\n",
       "      <td>37</td>\n",
       "      <td>20</td>\n",
       "      <td>75</td>\n",
       "      <td>88</td>\n",
       "      <td>30</td>\n",
       "      <td>9.0</td>\n",
       "      <td>3</td>\n",
       "      <td>2002</td>\n",
       "      <td>10</td>\n",
       "    </tr>\n",
       "  </tbody>\n",
       "</table>\n",
       "<p>5 rows × 25 columns</p>\n",
       "</div>"
      ],
      "text/plain": [
       "   tx_price  beds  baths  sqft  year_built  lot_size  \\\n",
       "0    295850     1      1   584        2013         0   \n",
       "1    216500     1      1   612        1965         0   \n",
       "2    279900     1      1   615        1963         0   \n",
       "3    379900     1      1   618        2000     33541   \n",
       "4    340000     1      1   634        1992         0   \n",
       "\n",
       "                   property_type  basement  restaurants  groceries  \\\n",
       "0  Apartment / Condo / Townhouse       0.0          107          9   \n",
       "1  Apartment / Condo / Townhouse       1.0          105         15   \n",
       "2  Apartment / Condo / Townhouse       0.0          183         13   \n",
       "3  Apartment / Condo / Townhouse       0.0          198          9   \n",
       "4  Apartment / Condo / Townhouse       0.0          149          7   \n",
       "\n",
       "       ...       active_life  median_age  married  college_grad  property_tax  \\\n",
       "0      ...                58          33       65            84           234   \n",
       "1      ...                14          39       73            69           169   \n",
       "2      ...                62          28       15            86           216   \n",
       "3      ...                83          36       25            91           265   \n",
       "4      ...                73          37       20            75            88   \n",
       "\n",
       "   insurance  median_school  num_schools  tx_year  property_age  \n",
       "0         81            9.0            3     2013             0  \n",
       "1         51            3.0            3     2006            41  \n",
       "2         74            8.0            3     2012            49  \n",
       "3         92            9.0            3     2005             5  \n",
       "4         30            9.0            3     2002            10  \n",
       "\n",
       "[5 rows x 25 columns]"
      ]
     },
     "execution_count": 86,
     "metadata": {},
     "output_type": "execute_result"
    }
   ],
   "source": [
    "df.head()"
   ]
  },
  {
   "cell_type": "code",
   "execution_count": 87,
   "metadata": {},
   "outputs": [
    {
     "name": "stdout",
     "output_type": "stream",
     "text": [
      "-8\n"
     ]
    }
   ],
   "source": [
    "print(df.property_age.min())"
   ]
  },
  {
   "cell_type": "code",
   "execution_count": 88,
   "metadata": {},
   "outputs": [
    {
     "name": "stdout",
     "output_type": "stream",
     "text": [
      "19\n"
     ]
    }
   ],
   "source": [
    "print(sum(df.property_age < 0))"
   ]
  },
  {
   "cell_type": "code",
   "execution_count": 89,
   "metadata": {},
   "outputs": [
    {
     "data": {
      "text/plain": [
       "(1863, 25)"
      ]
     },
     "execution_count": 89,
     "metadata": {},
     "output_type": "execute_result"
    }
   ],
   "source": [
    "df = df[df.property_age >= 0]\n",
    "df.shape"
   ]
  },
  {
   "cell_type": "code",
   "execution_count": 90,
   "metadata": {},
   "outputs": [],
   "source": [
    "df = df.drop(['basement'], axis=1)"
   ]
  },
  {
   "cell_type": "code",
   "execution_count": 91,
   "metadata": {},
   "outputs": [],
   "source": [
    "df = pd.get_dummies(df, columns=[ 'property_type'])"
   ]
  },
  {
   "cell_type": "code",
   "execution_count": 92,
   "metadata": {},
   "outputs": [
    {
     "data": {
      "text/plain": [
       "(1863, 25)"
      ]
     },
     "execution_count": 92,
     "metadata": {},
     "output_type": "execute_result"
    }
   ],
   "source": [
    "df.shape"
   ]
  },
  {
   "cell_type": "code",
   "execution_count": 93,
   "metadata": {},
   "outputs": [
    {
     "data": {
      "text/html": [
       "<div>\n",
       "<style scoped>\n",
       "    .dataframe tbody tr th:only-of-type {\n",
       "        vertical-align: middle;\n",
       "    }\n",
       "\n",
       "    .dataframe tbody tr th {\n",
       "        vertical-align: top;\n",
       "    }\n",
       "\n",
       "    .dataframe thead th {\n",
       "        text-align: right;\n",
       "    }\n",
       "</style>\n",
       "<table border=\"1\" class=\"dataframe\">\n",
       "  <thead>\n",
       "    <tr style=\"text-align: right;\">\n",
       "      <th></th>\n",
       "      <th>tx_price</th>\n",
       "      <th>beds</th>\n",
       "      <th>baths</th>\n",
       "      <th>sqft</th>\n",
       "      <th>year_built</th>\n",
       "      <th>lot_size</th>\n",
       "      <th>restaurants</th>\n",
       "      <th>groceries</th>\n",
       "      <th>nightlife</th>\n",
       "      <th>cafes</th>\n",
       "      <th>...</th>\n",
       "      <th>married</th>\n",
       "      <th>college_grad</th>\n",
       "      <th>property_tax</th>\n",
       "      <th>insurance</th>\n",
       "      <th>median_school</th>\n",
       "      <th>num_schools</th>\n",
       "      <th>tx_year</th>\n",
       "      <th>property_age</th>\n",
       "      <th>property_type_Apartment / Condo / Townhouse</th>\n",
       "      <th>property_type_Single-Family</th>\n",
       "    </tr>\n",
       "  </thead>\n",
       "  <tbody>\n",
       "    <tr>\n",
       "      <th>0</th>\n",
       "      <td>295850</td>\n",
       "      <td>1</td>\n",
       "      <td>1</td>\n",
       "      <td>584</td>\n",
       "      <td>2013</td>\n",
       "      <td>0</td>\n",
       "      <td>107</td>\n",
       "      <td>9</td>\n",
       "      <td>30</td>\n",
       "      <td>19</td>\n",
       "      <td>...</td>\n",
       "      <td>65</td>\n",
       "      <td>84</td>\n",
       "      <td>234</td>\n",
       "      <td>81</td>\n",
       "      <td>9.0</td>\n",
       "      <td>3</td>\n",
       "      <td>2013</td>\n",
       "      <td>0</td>\n",
       "      <td>1</td>\n",
       "      <td>0</td>\n",
       "    </tr>\n",
       "    <tr>\n",
       "      <th>1</th>\n",
       "      <td>216500</td>\n",
       "      <td>1</td>\n",
       "      <td>1</td>\n",
       "      <td>612</td>\n",
       "      <td>1965</td>\n",
       "      <td>0</td>\n",
       "      <td>105</td>\n",
       "      <td>15</td>\n",
       "      <td>6</td>\n",
       "      <td>13</td>\n",
       "      <td>...</td>\n",
       "      <td>73</td>\n",
       "      <td>69</td>\n",
       "      <td>169</td>\n",
       "      <td>51</td>\n",
       "      <td>3.0</td>\n",
       "      <td>3</td>\n",
       "      <td>2006</td>\n",
       "      <td>41</td>\n",
       "      <td>1</td>\n",
       "      <td>0</td>\n",
       "    </tr>\n",
       "    <tr>\n",
       "      <th>2</th>\n",
       "      <td>279900</td>\n",
       "      <td>1</td>\n",
       "      <td>1</td>\n",
       "      <td>615</td>\n",
       "      <td>1963</td>\n",
       "      <td>0</td>\n",
       "      <td>183</td>\n",
       "      <td>13</td>\n",
       "      <td>31</td>\n",
       "      <td>30</td>\n",
       "      <td>...</td>\n",
       "      <td>15</td>\n",
       "      <td>86</td>\n",
       "      <td>216</td>\n",
       "      <td>74</td>\n",
       "      <td>8.0</td>\n",
       "      <td>3</td>\n",
       "      <td>2012</td>\n",
       "      <td>49</td>\n",
       "      <td>1</td>\n",
       "      <td>0</td>\n",
       "    </tr>\n",
       "    <tr>\n",
       "      <th>3</th>\n",
       "      <td>379900</td>\n",
       "      <td>1</td>\n",
       "      <td>1</td>\n",
       "      <td>618</td>\n",
       "      <td>2000</td>\n",
       "      <td>33541</td>\n",
       "      <td>198</td>\n",
       "      <td>9</td>\n",
       "      <td>38</td>\n",
       "      <td>25</td>\n",
       "      <td>...</td>\n",
       "      <td>25</td>\n",
       "      <td>91</td>\n",
       "      <td>265</td>\n",
       "      <td>92</td>\n",
       "      <td>9.0</td>\n",
       "      <td>3</td>\n",
       "      <td>2005</td>\n",
       "      <td>5</td>\n",
       "      <td>1</td>\n",
       "      <td>0</td>\n",
       "    </tr>\n",
       "    <tr>\n",
       "      <th>4</th>\n",
       "      <td>340000</td>\n",
       "      <td>1</td>\n",
       "      <td>1</td>\n",
       "      <td>634</td>\n",
       "      <td>1992</td>\n",
       "      <td>0</td>\n",
       "      <td>149</td>\n",
       "      <td>7</td>\n",
       "      <td>22</td>\n",
       "      <td>20</td>\n",
       "      <td>...</td>\n",
       "      <td>20</td>\n",
       "      <td>75</td>\n",
       "      <td>88</td>\n",
       "      <td>30</td>\n",
       "      <td>9.0</td>\n",
       "      <td>3</td>\n",
       "      <td>2002</td>\n",
       "      <td>10</td>\n",
       "      <td>1</td>\n",
       "      <td>0</td>\n",
       "    </tr>\n",
       "  </tbody>\n",
       "</table>\n",
       "<p>5 rows × 25 columns</p>\n",
       "</div>"
      ],
      "text/plain": [
       "   tx_price  beds  baths  sqft  year_built  lot_size  restaurants  groceries  \\\n",
       "0    295850     1      1   584        2013         0          107          9   \n",
       "1    216500     1      1   612        1965         0          105         15   \n",
       "2    279900     1      1   615        1963         0          183         13   \n",
       "3    379900     1      1   618        2000     33541          198          9   \n",
       "4    340000     1      1   634        1992         0          149          7   \n",
       "\n",
       "   nightlife  cafes             ...               married  college_grad  \\\n",
       "0         30     19             ...                    65            84   \n",
       "1          6     13             ...                    73            69   \n",
       "2         31     30             ...                    15            86   \n",
       "3         38     25             ...                    25            91   \n",
       "4         22     20             ...                    20            75   \n",
       "\n",
       "   property_tax  insurance  median_school  num_schools  tx_year  property_age  \\\n",
       "0           234         81            9.0            3     2013             0   \n",
       "1           169         51            3.0            3     2006            41   \n",
       "2           216         74            8.0            3     2012            49   \n",
       "3           265         92            9.0            3     2005             5   \n",
       "4            88         30            9.0            3     2002            10   \n",
       "\n",
       "   property_type_Apartment / Condo / Townhouse  property_type_Single-Family  \n",
       "0                                            1                            0  \n",
       "1                                            1                            0  \n",
       "2                                            1                            0  \n",
       "3                                            1                            0  \n",
       "4                                            1                            0  \n",
       "\n",
       "[5 rows x 25 columns]"
      ]
     },
     "execution_count": 93,
     "metadata": {},
     "output_type": "execute_result"
    }
   ],
   "source": [
    "df.head()"
   ]
  },
  {
   "cell_type": "code",
   "execution_count": 94,
   "metadata": {},
   "outputs": [
    {
     "data": {
      "text/plain": [
       "Index(['tx_price', 'beds', 'baths', 'sqft', 'year_built', 'lot_size',\n",
       "       'restaurants', 'groceries', 'nightlife', 'cafes', 'shopping',\n",
       "       'arts_entertainment', 'beauty_spas', 'active_life', 'median_age',\n",
       "       'married', 'college_grad', 'property_tax', 'insurance', 'median_school',\n",
       "       'num_schools', 'tx_year', 'property_age',\n",
       "       'property_type_Apartment / Condo / Townhouse',\n",
       "       'property_type_Single-Family'],\n",
       "      dtype='object')"
      ]
     },
     "execution_count": 94,
     "metadata": {},
     "output_type": "execute_result"
    }
   ],
   "source": [
    "df.columns"
   ]
  },
  {
   "cell_type": "code",
   "execution_count": 123,
   "metadata": {},
   "outputs": [],
   "source": [
    "from math import sqrt\n",
    "from sklearn.model_selection import train_test_split\n",
    "\n",
    "from sklearn.linear_model import Ridge  \n",
    "from sklearn.linear_model import Lasso  \n",
    "from sklearn.ensemble import RandomForestRegressor\n",
    "from sklearn.neighbors import KNeighborsRegressor \n",
    "from sklearn.tree import DecisionTreeRegressor\n",
    "from sklearn.linear_model import LinearRegression\n",
    "\n",
    "# Evaluation Metrics\n",
    "from sklearn.metrics import mean_squared_error as mse\n",
    "from sklearn.metrics import r2_score\n",
    "from sklearn.metrics import mean_absolute_error as mae\n"
   ]
  },
  {
   "cell_type": "code",
   "execution_count": 97,
   "metadata": {},
   "outputs": [],
   "source": [
    "x = df.drop('tx_price', axis=1)\n",
    "y = df.tx_price"
   ]
  },
  {
   "cell_type": "code",
   "execution_count": 98,
   "metadata": {},
   "outputs": [],
   "source": [
    "x_train, x_test, y_train, y_test = train_test_split(x, y, test_size=0.2, random_state=99)"
   ]
  },
  {
   "cell_type": "code",
   "execution_count": 99,
   "metadata": {},
   "outputs": [],
   "source": [
    "y_train_pred = np.ones(y_train.shape[0])*y_train.mean()"
   ]
  },
  {
   "cell_type": "code",
   "execution_count": 100,
   "metadata": {},
   "outputs": [],
   "source": [
    "y_pred = np.ones(y_test.shape[0])*y_train.mean()"
   ]
  },
  {
   "cell_type": "code",
   "execution_count": 106,
   "metadata": {},
   "outputs": [
    {
     "name": "stdout",
     "output_type": "stream",
     "text": [
      "Train Results for Baseline Model:\n",
      "Root mean squared error:  152116.27399679026\n",
      "R-squared:  0.0\n",
      "Mean Absolute Error:  125973.78301427864\n"
     ]
    }
   ],
   "source": [
    "print(\"Train Results for Baseline Model:\")\n",
    "print(\"Root mean squared error: \", sqrt(mse(y_train.values, y_train_pred)))\n",
    "print(\"R-squared: \", r2_score(y_train.values, y_train_pred))\n",
    "print(\"Mean Absolute Error: \", mae(y_train.values, y_train_pred))"
   ]
  },
  {
   "cell_type": "code",
   "execution_count": 107,
   "metadata": {},
   "outputs": [
    {
     "name": "stdout",
     "output_type": "stream",
     "text": [
      "Results for Baseline Model:\n",
      "Root mean squared error:  150184.33383639567\n",
      "R-squared:  -0.002665133837669531\n",
      "Mean Absolute Error:  125273.22491498281\n"
     ]
    }
   ],
   "source": [
    "print(\"Results for Baseline Model:\")\n",
    "print(\"Root mean squared error: \", sqrt(mse(y_test, y_pred)))\n",
    "print(\"R-squared: \", r2_score(y_test, y_pred))\n",
    "print(\"Mean Absolute Error: \", mae(y_test, y_pred))"
   ]
  },
  {
   "cell_type": "code",
   "execution_count": null,
   "metadata": {},
   "outputs": [],
   "source": []
  },
  {
   "cell_type": "code",
   "execution_count": 145,
   "metadata": {
    "scrolled": true
   },
   "outputs": [
    {
     "data": {
      "text/plain": [
       "RandomForestRegressor(bootstrap=True, criterion='mse', max_depth=None,\n",
       "                      max_features='auto', max_leaf_nodes=None,\n",
       "                      min_impurity_decrease=0.0, min_impurity_split=None,\n",
       "                      min_samples_leaf=1, min_samples_split=2,\n",
       "                      min_weight_fraction_leaf=0.0, n_estimators=10,\n",
       "                      n_jobs=None, oob_score=False, random_state=None,\n",
       "                      verbose=0, warm_start=False)"
      ]
     },
     "execution_count": 145,
     "metadata": {},
     "output_type": "execute_result"
    }
   ],
   "source": [
    "rf=RandomForestRegressor()\n",
    "rf.fit(x_train, y_train)"
   ]
  },
  {
   "cell_type": "code",
   "execution_count": 146,
   "metadata": {},
   "outputs": [],
   "source": [
    "y_train_pred = rf.predict(x_train)"
   ]
  },
  {
   "cell_type": "code",
   "execution_count": 147,
   "metadata": {},
   "outputs": [],
   "source": [
    "y_pred = rf.predict(x_test)"
   ]
  },
  {
   "cell_type": "code",
   "execution_count": 148,
   "metadata": {},
   "outputs": [
    {
     "name": "stdout",
     "output_type": "stream",
     "text": [
      "Train Results for random forest regressor:\n",
      "Root mean squared error:  28649.07265260714\n",
      "R-squared:  0.9645292983488927\n",
      "Mean Absolute Error:  18780.05033557047\n"
     ]
    }
   ],
   "source": [
    "print(\"Train Results for random forest regressor:\")\n",
    "print(\"Root mean squared error: \", sqrt(mse(y_train, y_train_pred)))\n",
    "print(\"R-squared: \", r2_score(y_train, y_train_pred))\n",
    "print(\"Mean Absolute Error: \", mae(y_train, y_train_pred))"
   ]
  },
  {
   "cell_type": "code",
   "execution_count": 149,
   "metadata": {},
   "outputs": [
    {
     "name": "stdout",
     "output_type": "stream",
     "text": [
      "Results for random forest regressor:\n",
      "Root mean squared error:  72937.19303565005\n",
      "R-squared:  0.7635143790311607\n",
      "Mean Absolute Error:  49594.63002680965\n"
     ]
    }
   ],
   "source": [
    "print(\"Results for random forest regressor:\")\n",
    "print(\"Root mean squared error: \", sqrt(mse(y_test, y_pred)))\n",
    "print(\"R-squared: \", r2_score(y_test, y_pred))\n",
    "print(\"Mean Absolute Error: \", mae(y_test, y_pred))"
   ]
  },
  {
   "cell_type": "code",
   "execution_count": null,
   "metadata": {},
   "outputs": [],
   "source": []
  },
  {
   "cell_type": "code",
   "execution_count": 150,
   "metadata": {
    "scrolled": true
   },
   "outputs": [
    {
     "data": {
      "text/plain": [
       "DecisionTreeRegressor(criterion='mse', max_depth=None, max_features=None,\n",
       "                      max_leaf_nodes=None, min_impurity_decrease=0.0,\n",
       "                      min_impurity_split=None, min_samples_leaf=1,\n",
       "                      min_samples_split=2, min_weight_fraction_leaf=0.0,\n",
       "                      presort=False, random_state=None, splitter='best')"
      ]
     },
     "execution_count": 150,
     "metadata": {},
     "output_type": "execute_result"
    }
   ],
   "source": [
    "dt=DecisionTreeRegressor()\n",
    "dt.fit(x_train, y_train)"
   ]
  },
  {
   "cell_type": "code",
   "execution_count": 151,
   "metadata": {},
   "outputs": [],
   "source": [
    "y_train_pred = dt.predict(x_train)"
   ]
  },
  {
   "cell_type": "code",
   "execution_count": 152,
   "metadata": {},
   "outputs": [],
   "source": [
    "y_pred = rf.predict(x_test)"
   ]
  },
  {
   "cell_type": "code",
   "execution_count": 153,
   "metadata": {},
   "outputs": [
    {
     "name": "stdout",
     "output_type": "stream",
     "text": [
      "Train Results for decision tree regressor:\n",
      "Root mean squared error:  0.0\n",
      "R-squared:  1.0\n",
      "Mean Absolute Error:  0.0\n"
     ]
    }
   ],
   "source": [
    "print(\"Train Results for decision tree regressor:\")\n",
    "print(\"Root mean squared error: \", sqrt(mse(y_train, y_train_pred)))\n",
    "print(\"R-squared: \", r2_score(y_train, y_train_pred))\n",
    "print(\"Mean Absolute Error: \", mae(y_train, y_train_pred))"
   ]
  },
  {
   "cell_type": "code",
   "execution_count": 154,
   "metadata": {},
   "outputs": [
    {
     "name": "stdout",
     "output_type": "stream",
     "text": [
      "Results for decision tree regressor:\n",
      "Root mean squared error:  72937.19303565005\n",
      "R-squared:  0.7635143790311607\n",
      "Mean Absolute Error:  49594.63002680965\n"
     ]
    }
   ],
   "source": [
    "print(\"Results for decision tree regressor:\")\n",
    "print(\"Root mean squared error: \", sqrt(mse(y_test, y_pred)))\n",
    "print(\"R-squared: \", r2_score(y_test, y_pred))\n",
    "print(\"Mean Absolute Error: \", mae(y_test, y_pred))"
   ]
  },
  {
   "cell_type": "code",
   "execution_count": null,
   "metadata": {},
   "outputs": [],
   "source": []
  },
  {
   "cell_type": "code",
   "execution_count": 124,
   "metadata": {
    "scrolled": true
   },
   "outputs": [
    {
     "data": {
      "text/plain": [
       "LinearRegression(copy_X=True, fit_intercept=True, n_jobs=None, normalize=False)"
      ]
     },
     "execution_count": 124,
     "metadata": {},
     "output_type": "execute_result"
    }
   ],
   "source": [
    "lr=LinearRegression()\n",
    "lr.fit(x_train, y_train)"
   ]
  },
  {
   "cell_type": "code",
   "execution_count": 125,
   "metadata": {},
   "outputs": [],
   "source": [
    "y_train_pred = lr.predict(x_train)"
   ]
  },
  {
   "cell_type": "code",
   "execution_count": 126,
   "metadata": {},
   "outputs": [],
   "source": [
    "y_pred = lr.predict(x_test)"
   ]
  },
  {
   "cell_type": "code",
   "execution_count": 127,
   "metadata": {},
   "outputs": [
    {
     "name": "stdout",
     "output_type": "stream",
     "text": [
      "Train Results for random forest regressor:\n",
      "Root mean squared error:  104853.9765066835\n",
      "R-squared:  0.5248634360593266\n",
      "Mean Absolute Error:  83495.26451249854\n"
     ]
    }
   ],
   "source": [
    "print(\"Train Results for linear regression:\")\n",
    "print(\"Root mean squared error: \", sqrt(mse(y_train, y_train_pred)))\n",
    "print(\"R-squared: \", r2_score(y_train, y_train_pred))\n",
    "print(\"Mean Absolute Error: \", mae(y_train, y_train_pred))"
   ]
  },
  {
   "cell_type": "code",
   "execution_count": 128,
   "metadata": {},
   "outputs": [
    {
     "name": "stdout",
     "output_type": "stream",
     "text": [
      "Results for random forest regressor:\n",
      "Root mean squared error:  137808.81743142215\n",
      "R-squared:  0.15577023470698748\n",
      "Mean Absolute Error:  90574.12294565741\n"
     ]
    }
   ],
   "source": [
    "print(\"Results for linear regression:\")\n",
    "print(\"Root mean squared error: \", sqrt(mse(y_test, y_pred)))\n",
    "print(\"R-squared: \", r2_score(y_test, y_pred))\n",
    "print(\"Mean Absolute Error: \", mae(y_test, y_pred))"
   ]
  },
  {
   "cell_type": "code",
   "execution_count": null,
   "metadata": {},
   "outputs": [],
   "source": []
  },
  {
   "cell_type": "code",
   "execution_count": 129,
   "metadata": {
    "scrolled": true
   },
   "outputs": [
    {
     "data": {
      "text/plain": [
       "KNeighborsRegressor(algorithm='auto', leaf_size=30, metric='minkowski',\n",
       "                    metric_params=None, n_jobs=None, n_neighbors=5, p=2,\n",
       "                    weights='uniform')"
      ]
     },
     "execution_count": 129,
     "metadata": {},
     "output_type": "execute_result"
    }
   ],
   "source": [
    "knn=KNeighborsRegressor()\n",
    "knn.fit(x_train, y_train)"
   ]
  },
  {
   "cell_type": "code",
   "execution_count": 130,
   "metadata": {},
   "outputs": [],
   "source": [
    "y_train_pred = knn.predict(x_train)"
   ]
  },
  {
   "cell_type": "code",
   "execution_count": 131,
   "metadata": {},
   "outputs": [],
   "source": [
    "y_pred = knn.predict(x_test)"
   ]
  },
  {
   "cell_type": "code",
   "execution_count": 132,
   "metadata": {},
   "outputs": [
    {
     "name": "stdout",
     "output_type": "stream",
     "text": [
      "Train Results for random forest regressor:\n",
      "Root mean squared error:  104457.33056065968\n",
      "R-squared:  0.5284513692814312\n",
      "Mean Absolute Error:  79530.88845637583\n"
     ]
    }
   ],
   "source": [
    "print(\"Train Results for kneighbors regressor:\")\n",
    "print(\"Root mean squared error: \", sqrt(mse(y_train, y_train_pred)))\n",
    "print(\"R-squared: \", r2_score(y_train, y_train_pred))\n",
    "print(\"Mean Absolute Error: \", mae(y_train, y_train_pred))"
   ]
  },
  {
   "cell_type": "code",
   "execution_count": 133,
   "metadata": {},
   "outputs": [
    {
     "name": "stdout",
     "output_type": "stream",
     "text": [
      "Results for random forest regressor:\n",
      "Root mean squared error:  131049.89405194888\n",
      "R-squared:  0.23655105973757173\n",
      "Mean Absolute Error:  100548.33297587132\n"
     ]
    }
   ],
   "source": [
    "print(\"Results for kneighborst regressor:\")\n",
    "print(\"Root mean squared error: \", sqrt(mse(y_test, y_pred)))\n",
    "print(\"R-squared: \", r2_score(y_test, y_pred))\n",
    "print(\"Mean Absolute Error: \", mae(y_test, y_pred))"
   ]
  },
  {
   "cell_type": "code",
   "execution_count": null,
   "metadata": {},
   "outputs": [],
   "source": []
  },
  {
   "cell_type": "code",
   "execution_count": 135,
   "metadata": {
    "scrolled": true
   },
   "outputs": [
    {
     "data": {
      "text/plain": [
       "Ridge(alpha=1.0, copy_X=True, fit_intercept=True, max_iter=None,\n",
       "      normalize=False, random_state=None, solver='auto', tol=0.001)"
      ]
     },
     "execution_count": 135,
     "metadata": {},
     "output_type": "execute_result"
    }
   ],
   "source": [
    "ridge=Ridge()\n",
    "ridge.fit(x_train, y_train)"
   ]
  },
  {
   "cell_type": "code",
   "execution_count": 136,
   "metadata": {},
   "outputs": [],
   "source": [
    "y_train_pred = ridge.predict(x_train)"
   ]
  },
  {
   "cell_type": "code",
   "execution_count": 137,
   "metadata": {},
   "outputs": [],
   "source": [
    "y_pred = ridge.predict(x_test)"
   ]
  },
  {
   "cell_type": "code",
   "execution_count": 138,
   "metadata": {},
   "outputs": [
    {
     "name": "stdout",
     "output_type": "stream",
     "text": [
      "Train Results for ridge regressor:\n",
      "Root mean squared error:  104853.98008545372\n",
      "R-squared:  0.5248634036255616\n",
      "Mean Absolute Error:  83494.58850497553\n"
     ]
    }
   ],
   "source": [
    "print(\"Train Results for ridge regressor:\")\n",
    "print(\"Root mean squared error: \", sqrt(mse(y_train, y_train_pred)))\n",
    "print(\"R-squared: \", r2_score(y_train, y_train_pred))\n",
    "print(\"Mean Absolute Error: \", mae(y_train, y_train_pred))"
   ]
  },
  {
   "cell_type": "code",
   "execution_count": 139,
   "metadata": {},
   "outputs": [
    {
     "name": "stdout",
     "output_type": "stream",
     "text": [
      "Results for ridge regressor:\n",
      "Root mean squared error:  137811.8149361908\n",
      "R-squared:  0.15573350831580213\n",
      "Mean Absolute Error:  90571.58811568237\n"
     ]
    }
   ],
   "source": [
    "print(\"Results for ridge regressor:\")\n",
    "print(\"Root mean squared error: \", sqrt(mse(y_test, y_pred)))\n",
    "print(\"R-squared: \", r2_score(y_test, y_pred))\n",
    "print(\"Mean Absolute Error: \", mae(y_test, y_pred))"
   ]
  },
  {
   "cell_type": "code",
   "execution_count": null,
   "metadata": {},
   "outputs": [],
   "source": []
  },
  {
   "cell_type": "code",
   "execution_count": null,
   "metadata": {},
   "outputs": [],
   "source": []
  },
  {
   "cell_type": "code",
   "execution_count": 140,
   "metadata": {
    "scrolled": true
   },
   "outputs": [
    {
     "data": {
      "text/plain": [
       "Lasso(alpha=1.0, copy_X=True, fit_intercept=True, max_iter=1000,\n",
       "      normalize=False, positive=False, precompute=False, random_state=None,\n",
       "      selection='cyclic', tol=0.0001, warm_start=False)"
      ]
     },
     "execution_count": 140,
     "metadata": {},
     "output_type": "execute_result"
    }
   ],
   "source": [
    "ls=Lasso()\n",
    "ls.fit(x_train, y_train)"
   ]
  },
  {
   "cell_type": "code",
   "execution_count": 141,
   "metadata": {},
   "outputs": [],
   "source": [
    "y_train_pred = ls.predict(x_train)"
   ]
  },
  {
   "cell_type": "code",
   "execution_count": 142,
   "metadata": {},
   "outputs": [],
   "source": [
    "y_pred = ls.predict(x_test)"
   ]
  },
  {
   "cell_type": "code",
   "execution_count": 143,
   "metadata": {},
   "outputs": [
    {
     "name": "stdout",
     "output_type": "stream",
     "text": [
      "Train Results for lasso regressor:\n",
      "Root mean squared error:  104853.97658879792\n",
      "R-squared:  0.524863435315138\n",
      "Mean Absolute Error:  83495.20150501031\n"
     ]
    }
   ],
   "source": [
    "print(\"Train Results for lasso regressor:\")\n",
    "print(\"Root mean squared error: \", sqrt(mse(y_train, y_train_pred)))\n",
    "print(\"R-squared: \", r2_score(y_train, y_train_pred))\n",
    "print(\"Mean Absolute Error: \", mae(y_train, y_train_pred))"
   ]
  },
  {
   "cell_type": "code",
   "execution_count": 144,
   "metadata": {},
   "outputs": [
    {
     "name": "stdout",
     "output_type": "stream",
     "text": [
      "Results for lasso regressor:\n",
      "Root mean squared error:  137808.6114965764\n",
      "R-squared:  0.1557727578575353\n",
      "Mean Absolute Error:  90573.79285690929\n"
     ]
    }
   ],
   "source": [
    "print(\"Results for lasso regressor:\")\n",
    "print(\"Root mean squared error: \", sqrt(mse(y_test, y_pred)))\n",
    "print(\"R-squared: \", r2_score(y_test, y_pred))\n",
    "print(\"Mean Absolute Error: \", mae(y_test, y_pred))"
   ]
  },
  {
   "cell_type": "code",
   "execution_count": null,
   "metadata": {},
   "outputs": [],
   "source": []
  },
  {
   "cell_type": "code",
   "execution_count": 156,
   "metadata": {
    "scrolled": true
   },
   "outputs": [],
   "source": [
    "from xgboost import XGBRegressor"
   ]
  },
  {
   "cell_type": "code",
   "execution_count": 157,
   "metadata": {},
   "outputs": [
    {
     "name": "stdout",
     "output_type": "stream",
     "text": [
      "[21:37:28] WARNING: C:/Jenkins/workspace/xgboost-win64_release_0.90/src/objective/regression_obj.cu:152: reg:linear is now deprecated in favor of reg:squarederror.\n"
     ]
    },
    {
     "data": {
      "text/plain": [
       "XGBRegressor(base_score=0.5, booster='gbtree', colsample_bylevel=1,\n",
       "             colsample_bynode=1, colsample_bytree=1, gamma=0,\n",
       "             importance_type='gain', learning_rate=0.1, max_delta_step=0,\n",
       "             max_depth=3, min_child_weight=1, missing=None, n_estimators=100,\n",
       "             n_jobs=1, nthread=None, objective='reg:linear', random_state=0,\n",
       "             reg_alpha=0, reg_lambda=1, scale_pos_weight=1, seed=None,\n",
       "             silent=None, subsample=1, verbosity=1)"
      ]
     },
     "execution_count": 157,
     "metadata": {},
     "output_type": "execute_result"
    }
   ],
   "source": [
    "xgb=XGBRegressor()\n",
    "xgb.fit(x_train, y_train)"
   ]
  },
  {
   "cell_type": "code",
   "execution_count": 158,
   "metadata": {},
   "outputs": [],
   "source": [
    "y_train_pred = rf.predict(x_train)"
   ]
  },
  {
   "cell_type": "code",
   "execution_count": 159,
   "metadata": {},
   "outputs": [],
   "source": [
    "y_pred = rf.predict(x_test)"
   ]
  },
  {
   "cell_type": "code",
   "execution_count": 162,
   "metadata": {},
   "outputs": [
    {
     "name": "stdout",
     "output_type": "stream",
     "text": [
      "Train Results for XGB regressor:\n",
      "Root mean squared error:  28649.07265260714\n",
      "R-squared:  0.9645292983488927\n",
      "Mean Absolute Error:  18780.05033557047\n"
     ]
    }
   ],
   "source": [
    "print(\"Train Results for XGB regressor:\")\n",
    "print(\"Root mean squared error: \", sqrt(mse(y_train, y_train_pred)))\n",
    "print(\"R-squared: \", r2_score(y_train, y_train_pred))\n",
    "print(\"Mean Absolute Error: \", mae(y_train, y_train_pred))"
   ]
  },
  {
   "cell_type": "code",
   "execution_count": 163,
   "metadata": {},
   "outputs": [
    {
     "name": "stdout",
     "output_type": "stream",
     "text": [
      "Results for XGB regressor:\n",
      "Root mean squared error:  72937.19303565005\n",
      "R-squared:  0.7635143790311607\n",
      "Mean Absolute Error:  49594.63002680965\n"
     ]
    }
   ],
   "source": [
    "print(\"Results for XGB regressor:\")\n",
    "print(\"Root mean squared error: \", sqrt(mse(y_test, y_pred)))\n",
    "print(\"R-squared: \", r2_score(y_test, y_pred))\n",
    "print(\"Mean Absolute Error: \", mae(y_test, y_pred))"
   ]
  },
  {
   "cell_type": "code",
   "execution_count": null,
   "metadata": {},
   "outputs": [],
   "source": []
  },
  {
   "cell_type": "code",
   "execution_count": 164,
   "metadata": {},
   "outputs": [],
   "source": [
    "import lightgbm as lgb"
   ]
  },
  {
   "cell_type": "code",
   "execution_count": 165,
   "metadata": {},
   "outputs": [
    {
     "data": {
      "text/plain": [
       "LGBMRegressor(boosting_type='gbdt', class_weight=None, colsample_bytree=1.0,\n",
       "              importance_type='split', learning_rate=0.1, max_depth=-1,\n",
       "              min_child_samples=20, min_child_weight=0.001, min_split_gain=0.0,\n",
       "              n_estimators=100, n_jobs=-1, num_leaves=31, objective=None,\n",
       "              random_state=None, reg_alpha=0.0, reg_lambda=0.0, silent=True,\n",
       "              subsample=1.0, subsample_for_bin=200000, subsample_freq=0)"
      ]
     },
     "execution_count": 165,
     "metadata": {},
     "output_type": "execute_result"
    }
   ],
   "source": [
    "lgr = lgb.LGBMRegressor()\n",
    "lgr.fit(x_train, y_train)"
   ]
  },
  {
   "cell_type": "code",
   "execution_count": 166,
   "metadata": {},
   "outputs": [],
   "source": [
    "y_train_pred = lgr.predict(x_train)"
   ]
  },
  {
   "cell_type": "code",
   "execution_count": 167,
   "metadata": {},
   "outputs": [],
   "source": [
    "y_pred = lgr.predict(x_test)"
   ]
  },
  {
   "cell_type": "code",
   "execution_count": 168,
   "metadata": {},
   "outputs": [
    {
     "name": "stdout",
     "output_type": "stream",
     "text": [
      "Train Results for LGB regressor:\n",
      "Root mean squared error:  25234.50185017827\n",
      "R-squared:  0.972480653691046\n",
      "Mean Absolute Error:  18295.154686052516\n"
     ]
    }
   ],
   "source": [
    "print(\"Train Results for LGB regressor:\")\n",
    "print(\"Root mean squared error: \", sqrt(mse(y_train, y_train_pred)))\n",
    "print(\"R-squared: \", r2_score(y_train, y_train_pred))\n",
    "print(\"Mean Absolute Error: \", mae(y_train, y_train_pred))"
   ]
  },
  {
   "cell_type": "code",
   "execution_count": 169,
   "metadata": {},
   "outputs": [
    {
     "name": "stdout",
     "output_type": "stream",
     "text": [
      "Results for LGB regressor:\n",
      "Root mean squared error:  67156.4076327836\n",
      "R-squared:  0.7995151493375614\n",
      "Mean Absolute Error:  46007.32204746144\n"
     ]
    }
   ],
   "source": [
    "print(\"Results for LGB regressor:\")\n",
    "print(\"Root mean squared error: \", sqrt(mse(y_test, y_pred)))\n",
    "print(\"R-squared: \", r2_score(y_test, y_pred))\n",
    "print(\"Mean Absolute Error: \", mae(y_test, y_pred))"
   ]
  },
  {
   "cell_type": "code",
   "execution_count": null,
   "metadata": {},
   "outputs": [],
   "source": []
  },
  {
   "cell_type": "code",
   "execution_count": null,
   "metadata": {},
   "outputs": [],
   "source": []
  }
 ],
 "metadata": {
  "kernelspec": {
   "display_name": "Python 3",
   "language": "python",
   "name": "python3"
  },
  "language_info": {
   "codemirror_mode": {
    "name": "ipython",
    "version": 3
   },
   "file_extension": ".py",
   "mimetype": "text/x-python",
   "name": "python",
   "nbconvert_exporter": "python",
   "pygments_lexer": "ipython3",
   "version": "3.7.1"
  }
 },
 "nbformat": 4,
 "nbformat_minor": 2
}
